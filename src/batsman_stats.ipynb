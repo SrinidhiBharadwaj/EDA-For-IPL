{
 "cells": [
  {
   "cell_type": "code",
   "execution_count": 20,
   "metadata": {},
   "outputs": [],
   "source": [
    "from matplotlib import pyplot as plt\n",
    "import seaborn as sns\n",
    "import pandas as pd\n",
    "from player_performance import PlayerPerformance"
   ]
  },
  {
   "cell_type": "code",
   "execution_count": 14,
   "metadata": {},
   "outputs": [
    {
     "ename": "TypeError",
     "evalue": "cannot unpack non-iterable numpy.int64 object",
     "output_type": "error",
     "traceback": [
      "\u001b[0;31m---------------------------------------------------------------------------\u001b[0m",
      "\u001b[0;31mTypeError\u001b[0m                                 Traceback (most recent call last)",
      "\u001b[1;32m/Users/ritikakishorekumar/Documents/FA22 Coursework/ECE 143/Project/EDA-For-IPL/src/batsman_stats.ipynb Cell 2\u001b[0m in \u001b[0;36m<cell line: 5>\u001b[0;34m()\u001b[0m\n\u001b[1;32m      <a href='vscode-notebook-cell:/Users/ritikakishorekumar/Documents/FA22%20Coursework/ECE%20143/Project/EDA-For-IPL/src/batsman_stats.ipynb#W2sZmlsZQ%3D%3D?line=2'>3</a>\u001b[0m batsman_1_name \u001b[39m=\u001b[39m \u001b[39m\"\u001b[39m\u001b[39mMS Dhoni\u001b[39m\u001b[39m\"\u001b[39m\n\u001b[1;32m      <a href='vscode-notebook-cell:/Users/ritikakishorekumar/Documents/FA22%20Coursework/ECE%20143/Project/EDA-For-IPL/src/batsman_stats.ipynb#W2sZmlsZQ%3D%3D?line=3'>4</a>\u001b[0m player \u001b[39m=\u001b[39m PlayerPerformance(batsman_1_name)\n\u001b[0;32m----> <a href='vscode-notebook-cell:/Users/ritikakishorekumar/Documents/FA22%20Coursework/ECE%20143/Project/EDA-For-IPL/src/batsman_stats.ipynb#W2sZmlsZQ%3D%3D?line=4'>5</a>\u001b[0m years, strike_rate, max_runs, average, total_runs \u001b[39m=\u001b[39m player\u001b[39m.\u001b[39;49mget_player_performance() \n\u001b[1;32m      <a href='vscode-notebook-cell:/Users/ritikakishorekumar/Documents/FA22%20Coursework/ECE%20143/Project/EDA-For-IPL/src/batsman_stats.ipynb#W2sZmlsZQ%3D%3D?line=5'>6</a>\u001b[0m fig, ax1 \u001b[39m=\u001b[39m plt\u001b[39m.\u001b[39msubplots()\n\u001b[1;32m      <a href='vscode-notebook-cell:/Users/ritikakishorekumar/Documents/FA22%20Coursework/ECE%20143/Project/EDA-For-IPL/src/batsman_stats.ipynb#W2sZmlsZQ%3D%3D?line=6'>7</a>\u001b[0m plt\u001b[39m.\u001b[39mtitle(\u001b[39mf\u001b[39m\u001b[39m'\u001b[39m\u001b[39m{\u001b[39;00mbatsman_1_name\u001b[39m}\u001b[39;00m\u001b[39m Performance\u001b[39m\u001b[39m'\u001b[39m)\n",
      "File \u001b[0;32m~/Documents/FA22 Coursework/ECE 143/Project/EDA-For-IPL/src/player_performance.py:67\u001b[0m, in \u001b[0;36mPlayerPerformance.get_player_performance\u001b[0;34m(self)\u001b[0m\n\u001b[1;32m     65\u001b[0m \u001b[39mfor\u001b[39;00m i \u001b[39min\u001b[39;00m \u001b[39mrange\u001b[39m(\u001b[39mlen\u001b[39m(\u001b[39mself\u001b[39m\u001b[39m.\u001b[39mvalid_years)):\n\u001b[1;32m     66\u001b[0m     years\u001b[39m.\u001b[39mappend(\u001b[39mself\u001b[39m\u001b[39m.\u001b[39mvalid_years[i])\n\u001b[0;32m---> 67\u001b[0m     strike_rate, max_runs, average, total_runs  \u001b[39m=\u001b[39m batsman\u001b[39m.\u001b[39;49mget_batsman_stats(\u001b[39mself\u001b[39;49m\u001b[39m.\u001b[39;49mvalid_years[i])\n\u001b[1;32m     68\u001b[0m     strike_rate_all_years\u001b[39m.\u001b[39mappend(strike_rate)\n\u001b[1;32m     69\u001b[0m     max_runs_all_years\u001b[39m.\u001b[39mappend(max_runs)\n",
      "File \u001b[0;32m~/Documents/FA22 Coursework/ECE 143/Project/EDA-For-IPL/src/batsman_stats.py:188\u001b[0m, in \u001b[0;36mBatsman.get_batsman_stats\u001b[0;34m(self, year)\u001b[0m\n\u001b[1;32m    186\u001b[0m strike_rate \u001b[39m=\u001b[39m \u001b[39mself\u001b[39m\u001b[39m.\u001b[39mget_batsman_strike_rate(year)\n\u001b[1;32m    187\u001b[0m max_runs \u001b[39m=\u001b[39m \u001b[39mself\u001b[39m\u001b[39m.\u001b[39mget_highest_runs(year)\n\u001b[0;32m--> 188\u001b[0m average \u001b[39m=\u001b[39m \u001b[39mself\u001b[39;49m\u001b[39m.\u001b[39;49mget_average_runs(year)\n\u001b[1;32m    189\u001b[0m _, total_runs \u001b[39m=\u001b[39m \u001b[39mself\u001b[39m\u001b[39m.\u001b[39mget_number_of_runs(year)\n\u001b[1;32m    190\u001b[0m \u001b[39mreturn\u001b[39;00m strike_rate, max_runs, average, total_runs\n",
      "File \u001b[0;32m~/Documents/FA22 Coursework/ECE 143/Project/EDA-For-IPL/src/batsman_stats.py:115\u001b[0m, in \u001b[0;36mBatsman.get_average_runs\u001b[0;34m(self, year)\u001b[0m\n\u001b[1;32m    104\u001b[0m \u001b[39m\"\"\"\u001b[39;00m\n\u001b[1;32m    105\u001b[0m \u001b[39mGet the average runs scored in the season\u001b[39;00m\n\u001b[1;32m    106\u001b[0m \n\u001b[0;32m   (...)\u001b[0m\n\u001b[1;32m    111\u001b[0m \u001b[39m    (float): Average runs scored by the batsman in the given year. (Rounded to 2 deminals)\u001b[39;00m\n\u001b[1;32m    112\u001b[0m \u001b[39m\"\"\"\u001b[39;00m\n\u001b[1;32m    114\u001b[0m \u001b[39massert\u001b[39;00m \u001b[39m2008\u001b[39m \u001b[39m<\u001b[39m\u001b[39m=\u001b[39m year \u001b[39m<\u001b[39m\u001b[39m=\u001b[39m \u001b[39m2017\u001b[39m\n\u001b[0;32m--> 115\u001b[0m games, runs \u001b[39m=\u001b[39m \u001b[39mself\u001b[39m\u001b[39m.\u001b[39mget_number_of_runs(year)\n\u001b[1;32m    116\u001b[0m \u001b[39mreturn\u001b[39;00m \u001b[39mround\u001b[39m(runs \u001b[39m/\u001b[39m games, \u001b[39m2\u001b[39m)\n",
      "\u001b[0;31mTypeError\u001b[0m: cannot unpack non-iterable numpy.int64 object"
     ]
    }
   ],
   "source": [
    "# Player performance over all seasons - Strike rate and Seasonal runs\n",
    "\n",
    "batsman_1_name = \"MS Dhoni\"\n",
    "player = PlayerPerformance(batsman_1_name)\n",
    "years, strike_rate, max_runs, average, total_runs = player.get_player_performance() \n",
    "fig, ax1 = plt.subplots()\n",
    "plt.title(f'{batsman_1_name} Performance')\n",
    "ax2 = ax1.twinx()\n",
    "ax1.bar(years, total_runs)\n",
    "ax2.plot(years, strike_rate, '-o', color='red')\n",
    "ax1.set_xlabel('Year')\n",
    "ax1.set_ylabel('Total Runs', color='b')\n",
    "ax2.set_ylabel('Strike Rates', color='r')"
   ]
  },
  {
   "cell_type": "code",
   "execution_count": 2,
   "metadata": {},
   "outputs": [
    {
     "ename": "SyntaxError",
     "evalue": "invalid syntax (3089361666.py, line 1)",
     "output_type": "error",
     "traceback": [
      "\u001b[0;36m  Input \u001b[0;32mIn [2]\u001b[0;36m\u001b[0m\n\u001b[0;31m    plt.figure(figsize=)\u001b[0m\n\u001b[0m                       ^\u001b[0m\n\u001b[0;31mSyntaxError\u001b[0m\u001b[0;31m:\u001b[0m invalid syntax\n"
     ]
    }
   ],
   "source": [
    "# Player performance over all seasons - Strike rate and Seasonal runs\n",
    "batsman_2_name = \"RG Sharma\"\n",
    "player = PlayerPerformance(batsman_2_name)\n",
    "years, strike_rate, max_runs, average, total_runs = player.get_player_performance() \n",
    "fig, ax1 = plt.subplots()\n",
    "plt.title(f'{batsman_2_name} Performance')\n",
    "ax2 = ax1.twinx()\n",
    "ax1.bar(years, total_runs, color = 'grey')\n",
    "ax2.plot(years, strike_rate, '-o', color='purple')\n",
    "ax1.set_xlabel('Year')\n",
    "ax1.set_ylabel('Total Runs', color='grey')\n",
    "ax2.set_ylabel('Strike Rates', color='purple')\n",
    "plt.show()\n",
    "plt.close()"
   ]
  },
  {
   "cell_type": "code",
   "execution_count": 21,
   "metadata": {},
   "outputs": [
    {
     "ename": "ValueError",
     "evalue": "The truth value of an array with more than one element is ambiguous. Use a.any() or a.all()",
     "output_type": "error",
     "traceback": [
      "\u001b[0;31m---------------------------------------------------------------------------\u001b[0m",
      "\u001b[0;31mValueError\u001b[0m                                Traceback (most recent call last)",
      "\u001b[1;32m/Users/ritikakishorekumar/Documents/FA22 Coursework/ECE 143/Project/EDA-For-IPL/src/batsman_stats.ipynb Cell 4\u001b[0m in \u001b[0;36m<cell line: 3>\u001b[0;34m()\u001b[0m\n\u001b[1;32m      <a href='vscode-notebook-cell:/Users/ritikakishorekumar/Documents/FA22%20Coursework/ECE%20143/Project/EDA-For-IPL/src/batsman_stats.ipynb#W4sZmlsZQ%3D%3D?line=0'>1</a>\u001b[0m batsman_1_name \u001b[39m=\u001b[39m \u001b[39m\"\u001b[39m\u001b[39mV Kohli\u001b[39m\u001b[39m\"\u001b[39m\n\u001b[1;32m      <a href='vscode-notebook-cell:/Users/ritikakishorekumar/Documents/FA22%20Coursework/ECE%20143/Project/EDA-For-IPL/src/batsman_stats.ipynb#W4sZmlsZQ%3D%3D?line=1'>2</a>\u001b[0m player1 \u001b[39m=\u001b[39m PlayerPerformance(batsman_1_name)\n\u001b[0;32m----> <a href='vscode-notebook-cell:/Users/ritikakishorekumar/Documents/FA22%20Coursework/ECE%20143/Project/EDA-For-IPL/src/batsman_stats.ipynb#W4sZmlsZQ%3D%3D?line=2'>3</a>\u001b[0m runs_per_match_p1 \u001b[39m=\u001b[39m player1\u001b[39m.\u001b[39;49mget_runs_per_match()\n\u001b[1;32m      <a href='vscode-notebook-cell:/Users/ritikakishorekumar/Documents/FA22%20Coursework/ECE%20143/Project/EDA-For-IPL/src/batsman_stats.ipynb#W4sZmlsZQ%3D%3D?line=4'>5</a>\u001b[0m batsman_2_name \u001b[39m=\u001b[39m \u001b[39m\"\u001b[39m\u001b[39mRG Sharma\u001b[39m\u001b[39m\"\u001b[39m\n\u001b[1;32m      <a href='vscode-notebook-cell:/Users/ritikakishorekumar/Documents/FA22%20Coursework/ECE%20143/Project/EDA-For-IPL/src/batsman_stats.ipynb#W4sZmlsZQ%3D%3D?line=5'>6</a>\u001b[0m player2 \u001b[39m=\u001b[39m PlayerPerformance(batsman_2_name)\n",
      "File \u001b[0;32m~/Documents/FA22 Coursework/ECE 143/Project/EDA-For-IPL/src/player_performance.py:40\u001b[0m, in \u001b[0;36mPlayerPerformance.get_runs_per_match\u001b[0;34m(self)\u001b[0m\n\u001b[1;32m     38\u001b[0m game_ids \u001b[39m=\u001b[39m batsman_stat[\u001b[39m\"\u001b[39m\u001b[39mmatch_id\u001b[39m\u001b[39m\"\u001b[39m]\u001b[39m.\u001b[39munique()\n\u001b[1;32m     39\u001b[0m runs \u001b[39m=\u001b[39m []\n\u001b[0;32m---> 40\u001b[0m \u001b[39mif\u001b[39;00m game_ids:\n\u001b[1;32m     41\u001b[0m     \u001b[39mfor\u001b[39;00m j \u001b[39min\u001b[39;00m \u001b[39mrange\u001b[39m(\u001b[39mlen\u001b[39m(game_ids)):\n\u001b[1;32m     42\u001b[0m         runs\u001b[39m.\u001b[39mappend(batsman\u001b[39m.\u001b[39mget_per_match_runs(game_ids[j]))\n",
      "\u001b[0;31mValueError\u001b[0m: The truth value of an array with more than one element is ambiguous. Use a.any() or a.all()"
     ]
    }
   ],
   "source": [
    "# Compare form of 2 players through IPL. \n",
    "# Compares run distribution of each player per season\n",
    "\n",
    "batsman_1_name = \"V Kohli\"\n",
    "player1 = PlayerPerformance(batsman_1_name)\n",
    "runs_per_match_p1 = player1.get_runs_per_match()\n",
    "\n",
    "batsman_2_name = \"RG Sharma\"\n",
    "player2 = PlayerPerformance(batsman_2_name)\n",
    "runs_per_match_p2 = player2.get_runs_per_match()\n",
    "\n",
    "# ames = ['year', 'batsman', 'runs']\n",
    "data = []\n",
    "for year in runs_per_match_p1:\n",
    "    for run in runs_per_match_p1[year]:\n",
    "        data.append({'year':year, 'batsman':batsman_1_name, 'run':run})\n",
    "\n",
    "\n",
    "for year in runs_per_match_p2:\n",
    "    for run in runs_per_match_p2[year]:\n",
    "        data.append({'year':year, 'batsman':batsman_2_name, 'run':run})\n",
    "\n",
    "df = pd.DataFrame(data)\n",
    "sns.set_theme(style=\"whitegrid\")\n",
    "sns.violinplot(data=df, x=\"year\", y=\"run\", hue=\"batsman\",\n",
    "               split=True, inner=\"quart\", linewidth=2)\n",
    "sns.despine(left=True)\n"
   ]
  },
  {
   "cell_type": "code",
   "execution_count": null,
   "metadata": {},
   "outputs": [],
   "source": [
    "# Plotting max runs of various players througout out IPL\n",
    "sns.set_theme(style=\"whitegrid\")\n",
    "\n",
    "batsman_name = \"V Kholi\"\n",
    "player = PlayerPerformance(batsman_name)\n",
    "years, _, max_runs, _, _ = player.get_player_performance() \n",
    "data = []\n",
    "for i in range(len(max_runs)):\n",
    "    data.append({'year':years[i], 'batsman':batsman_name, 'max_runs':max_runs[i]})\n",
    "\n",
    "\n",
    "batsman_name = \"CH Gayle\"\n",
    "player = PlayerPerformance(batsman_name)\n",
    "years, _, max_runs, _, _ = player.get_player_performance()\n",
    "for i in range(len(max_runs)):\n",
    "        data.append({'year':years[i], 'batsman':batsman_name, 'max_runs':max_runs[i]})\n",
    "\n",
    "batsman_name = \"RG Sharma\"\n",
    "player = PlayerPerformance(batsman_name)\n",
    "years, _, max_runs, _, _ = player.get_player_performance()\n",
    "for i in range(len(max_runs)):\n",
    "        data.append({'year':years[i], 'batsman':batsman_name, 'max_runs':max_runs[i]})\n",
    "\n",
    "batsman_name = \"SR Watson\"\n",
    "player = PlayerPerformance(batsman_name)\n",
    "years, _, max_runs, _, _ = player.get_player_performance()\n",
    "for i in range(len(max_runs)):\n",
    "        data.append({'year':years[i], 'batsman':batsman_name, 'max_runs':max_runs[i]})\n",
    "\n",
    "df = pd.DataFrame(data)\n",
    "\n",
    "sns.lineplot(data=data, palette=\"tab10\", linewidth=2.5)"
   ]
  }
 ],
 "metadata": {
  "kernelspec": {
   "display_name": "Python 3.9.12 ('base')",
   "language": "python",
   "name": "python3"
  },
  "language_info": {
   "codemirror_mode": {
    "name": "ipython",
    "version": 3
   },
   "file_extension": ".py",
   "mimetype": "text/x-python",
   "name": "python",
   "nbconvert_exporter": "python",
   "pygments_lexer": "ipython3",
   "version": "3.9.12"
  },
  "orig_nbformat": 4,
  "vscode": {
   "interpreter": {
    "hash": "40d3a090f54c6569ab1632332b64b2c03c39dcf918b08424e98f38b5ae0af88f"
   }
  }
 },
 "nbformat": 4,
 "nbformat_minor": 2
}
