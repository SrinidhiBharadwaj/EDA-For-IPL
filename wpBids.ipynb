{
 "metadata": {
  "language_info": {
   "codemirror_mode": {
    "name": "ipython",
    "version": 3
   },
   "file_extension": ".py",
   "mimetype": "text/x-python",
   "name": "python",
   "nbconvert_exporter": "python",
   "pygments_lexer": "ipython3",
   "version": "3.8.9-final"
  },
  "orig_nbformat": 2,
  "kernelspec": {
   "name": "python38964bitee0e28a584b0444399bbb6a87c33016f",
   "display_name": "Python 3.8.9 64-bit"
  }
 },
 "nbformat": 4,
 "nbformat_minor": 2,
 "cells": [
  {
   "cell_type": "code",
   "execution_count": 60,
   "metadata": {},
   "outputs": [],
   "source": [
    "import sys\n",
    "sys.path.append(\"/Library/Frameworks/Python.framework/Versions/3.8/lib/python3.8/site-packages/\")\n"
   ]
  },
  {
   "cell_type": "code",
   "execution_count": 301,
   "metadata": {},
   "outputs": [],
   "source": [
    "import requests\n",
    "from bs4 import BeautifulSoup\n",
    "import pandas as pd\n",
    "from pathlib import Path\n",
    "import os\n",
    "import numpy as np\n",
    "from matplotlib import pyplot as plt\n",
    "import seaborn as sns"
   ]
  },
  {
   "cell_type": "code",
   "execution_count": 62,
   "metadata": {},
   "outputs": [],
   "source": [
    "'''\n",
    "Using beautiful soup to parse html of a url from web\n",
    "Find the tables.\n",
    "Since the tables don't have a specific class or id and the column -\n",
    "    headers may vary I manualy found the index of the tables that -\n",
    "    display auction information\n",
    "Find the Table headers and place them in a list\n",
    "'''\n",
    "url = \"https://en.wikipedia.org/wiki/List_of_2008_Indian_Premier_League_auctions_and_personnel_signings\"\n",
    "page = requests.get(url)\n",
    "soup = BeautifulSoup(page.content, 'html.parser')\n",
    "table = soup.find_all(\"table\")\n",
    "headers = []\n",
    "for th in table[2].find_all('th'):\n",
    "    title = th.text.strip()\n",
    "    headers.append(title)"
   ]
  },
  {
   "cell_type": "code",
   "execution_count": 63,
   "metadata": {},
   "outputs": [],
   "source": [
    "'''\n",
    "Create a pandas DataFrame using the table headers as columns\n",
    "Place all the table rows from selected table in the parsed html in to the DataFrame\n",
    "Remove any spacing or special characters \n",
    "Remove unnecessary columns\n",
    "Change the Name of the columns to be same as other tables\n",
    "Change the type of columns as needed\n",
    "Convert the money as needed\n",
    "Add Year column\n",
    "'''\n",
    "theTable08 = pd.DataFrame(columns = headers)\n",
    "for tr in table[2].find_all('tr')[1:]:\n",
    "    rowData = tr.find_all('td')\n",
    "    row = [elem.text.strip() for elem in rowData]\n",
    "    length = len(theTable08)\n",
    "    theTable08.loc[length] = row\n",
    "theTable08 = theTable08.drop(theTable08.columns[[0, 1, 3, 4, 5]], axis = 1)\n",
    "theTable08 = theTable08.rename(columns={\"Name\": \"Player\", \"Auctioned Price(in US$ thousands)\": \"Amount\"})\n",
    "theTable08[\"Amount\"] = pd.to_numeric(theTable08[\"Amount\"])\n",
    "theTable08['Amount'] = theTable08[\"Amount\"].apply(lambda x: x*81525)\n",
    "theTable08[\"Year\"] = 2008"
   ]
  },
  {
   "cell_type": "code",
   "execution_count": 64,
   "metadata": {},
   "outputs": [
    {
     "output_type": "stream",
     "name": "stdout",
     "text": [
      "200\n"
     ]
    }
   ],
   "source": [
    "url = \"https://en.wikipedia.org/wiki/List_of_2009_Indian_Premier_League_personnel_changes\"\n",
    "page = requests.get(url)\n",
    "soup = BeautifulSoup(page.content, 'html.parser')\n",
    "print(page.status_code)"
   ]
  },
  {
   "cell_type": "code",
   "execution_count": 65,
   "metadata": {},
   "outputs": [],
   "source": [
    "table = soup.find_all(\"table\")\n",
    "headers = []\n",
    "for th in table[7].find_all('th'):\n",
    "    title = th.text.strip()\n",
    "    headers.append(title)"
   ]
  },
  {
   "cell_type": "code",
   "execution_count": 66,
   "metadata": {},
   "outputs": [],
   "source": [
    "theTable09 = pd.DataFrame(columns = headers)\n",
    "for tr in table[7].find_all('tr')[1:]:\n",
    "    rowData = tr.find_all('td')\n",
    "    row = [elem.text.strip().replace('$','').replace(',','') for elem in rowData]\n",
    "    length = len(theTable09)\n",
    "    theTable09.loc[length] = row\n",
    "theTable09 = theTable09.drop(theTable09.columns[[0, 4]], axis = 1)\n",
    "theTable09 = theTable09.rename(columns={\"Winning bid\": \"Amount\"})\n",
    "theTable09[\"Amount\"] = pd.to_numeric(theTable09[\"Amount\"])\n",
    "theTable09['Amount'] = theTable09[\"Amount\"].apply(lambda x: x*81.53)\n",
    "theTable09[\"Year\"] = 2009"
   ]
  },
  {
   "cell_type": "code",
   "execution_count": 67,
   "metadata": {},
   "outputs": [
    {
     "output_type": "stream",
     "name": "stdout",
     "text": [
      "200\n"
     ]
    }
   ],
   "source": [
    "url = \"https://en.wikipedia.org/wiki/List_of_2010_Indian_Premier_League_personnel_changes\"\n",
    "page = requests.get(url)\n",
    "soup = BeautifulSoup(page.content, 'html.parser')\n",
    "print(page.status_code)"
   ]
  },
  {
   "cell_type": "code",
   "execution_count": 68,
   "metadata": {},
   "outputs": [],
   "source": [
    "table = soup.find_all(\"table\")\n",
    "headers = []\n",
    "for th in table[0].find_all('th'):\n",
    "    title = th.text.strip()\n",
    "    headers.append(title)"
   ]
  },
  {
   "cell_type": "code",
   "execution_count": 69,
   "metadata": {},
   "outputs": [],
   "source": [
    "theTable10 = pd.DataFrame(columns = headers)\n",
    "for tr in table[0].find_all('tr')[1:]:\n",
    "    rowData = tr.find_all('td')\n",
    "    row = [elem.text.strip().replace('$','').replace(',','') for elem in rowData]\n",
    "    length = len(theTable10)\n",
    "    theTable10.loc[length] = row\n",
    "theTable10 = theTable10.drop(theTable10.columns[[3]], axis = 1)\n",
    "theTable10 = theTable10.rename(columns={\"Franchise\": \"Team\", \"Sold price (USD)\": \"Amount\"})\n",
    "theTable10[\"Amount\"] = pd.to_numeric(theTable10[\"Amount\"])\n",
    "theTable10['Amount'] = theTable10[\"Amount\"].apply(lambda x: x*81.53)\n",
    "theTable10[\"Year\"] = 2010"
   ]
  },
  {
   "cell_type": "code",
   "execution_count": 70,
   "metadata": {},
   "outputs": [
    {
     "output_type": "stream",
     "name": "stdout",
     "text": [
      "200\n"
     ]
    }
   ],
   "source": [
    "url = \"https://en.wikipedia.org/wiki/List_of_2011_Indian_Premier_League_personnel_changes\"\n",
    "page = requests.get(url)\n",
    "soup = BeautifulSoup(page.content, 'html.parser')\n",
    "print(page.status_code)"
   ]
  },
  {
   "cell_type": "code",
   "execution_count": 71,
   "metadata": {},
   "outputs": [],
   "source": [
    "table = soup.find_all(\"table\")\n",
    "headers = []\n",
    "for th in table[2].find_all('th'):\n",
    "    title = th.text.strip()\n",
    "    headers.append(title)"
   ]
  },
  {
   "cell_type": "code",
   "execution_count": 72,
   "metadata": {},
   "outputs": [],
   "source": [
    "theTable11 = pd.DataFrame(columns = headers)\n",
    "for tr in table[2].find_all('tr')[1:]:\n",
    "    rowData = tr.find_all('td')\n",
    "    row = [elem.text.strip().replace('$','').replace(',','') for elem in rowData]\n",
    "    length = len(theTable11)\n",
    "    theTable11.loc[length] = row\n",
    "theTable11 = theTable11.drop(theTable11.columns[[0, 4]], axis = 1)\n",
    "theTable11 = theTable11.rename(columns={\"Winning bid\": \"Amount\"})\n",
    "theTable11[\"Amount\"] = pd.to_numeric(theTable11[\"Amount\"])\n",
    "theTable11['Amount'] = theTable11[\"Amount\"].apply(lambda x: x*81.53)\n",
    "theTable11[\"Year\"] = 2011"
   ]
  },
  {
   "cell_type": "code",
   "execution_count": 73,
   "metadata": {},
   "outputs": [
    {
     "output_type": "stream",
     "name": "stdout",
     "text": [
      "200\n"
     ]
    }
   ],
   "source": [
    "url = \"https://en.wikipedia.org/wiki/List_of_2012_Indian_Premier_League_personnel_changes\"\n",
    "page = requests.get(url)\n",
    "soup = BeautifulSoup(page.content, 'html.parser')\n",
    "print(page.status_code)"
   ]
  },
  {
   "cell_type": "code",
   "execution_count": 74,
   "metadata": {},
   "outputs": [],
   "source": [
    "table = soup.find_all(\"table\")\n",
    "headers = []\n",
    "for th in table[9].find_all('th'):\n",
    "    title = th.text.strip()\n",
    "    headers.append(title)"
   ]
  },
  {
   "cell_type": "code",
   "execution_count": 75,
   "metadata": {},
   "outputs": [],
   "source": [
    "theTable12 = pd.DataFrame(columns = headers)\n",
    "for tr in table[9].find_all('tr')[1:]:\n",
    "    rowData = tr.find_all('td')\n",
    "    row = [elem.text.strip().replace('$','').replace(',','') for elem in rowData]\n",
    "    length = len(theTable12)\n",
    "    theTable12.loc[length] = row\n",
    "theTable12 = theTable12.drop(theTable12.columns[[0, 3]], axis = 1)\n",
    "theTable12 = theTable12.rename(columns={\"Winning bid\": \"Amount\"})\n",
    "theTable12[\"Amount\"] = pd.to_numeric(theTable12[\"Amount\"])\n",
    "theTable12['Amount'] = theTable12[\"Amount\"].apply(lambda x: x*81.53)\n",
    "theTable12[\"Year\"] = 2012"
   ]
  },
  {
   "cell_type": "code",
   "execution_count": 232,
   "metadata": {},
   "outputs": [],
   "source": [
    "'''\n",
    "Combine all the DataFrames from 2008 to 2012\n",
    "Read in csv to DataFrames\n",
    "Remove unnecessary columns\n",
    "Combine DataFrames to include data from 2008 to 2022\n",
    "Write to a new csv file\n",
    "'''\n",
    "theTable08To12 = pd.concat([theTable08, theTable09, theTable10, theTable11, theTable12])\n",
    "theTable13_22 = pd.read_csv ('/Users/sepehr/Documents/ECE143/Final/IPLPlayerAuctionData13-22.csv')\n",
    "theTable13_22 = theTable13_22.drop(theTable13_22.columns[[1, 5]], axis = 1)\n",
    "theTable = pd.concat([theTable08To12, theTable13_22])\n",
    "theTable[\"Amount\"] = pd.to_numeric(theTable[\"Amount\"])\n",
    "theTable['Amount'] = theTable[\"Amount\"].apply(lambda x: x//81.53).round(-3)\n",
    "theTable.loc[theTable['Team'] == 'Pune Warriors India', 'Team'] = 'Pune Warriors'\n",
    "theTable.loc[theTable['Team'] == 'Delhi Capitals', 'Team'] = 'Delhi Daredevils'\n",
    "theTable.loc[theTable['Team'] == 'Rising Pune Supergiant', 'Team'] = 'Rising Pune Supergiants'\n",
    "thePath = os.getcwd() + '/IPL Player Auction 08-22.csv'\n",
    "theTable.to_csv(thePath, index=False)"
   ]
  },
  {
   "cell_type": "code",
   "execution_count": 92,
   "metadata": {},
   "outputs": [],
   "source": [
    "matches = pd.read_csv ('data/matches.csv')\n"
   ]
  },
  {
   "cell_type": "code",
   "execution_count": 93,
   "metadata": {},
   "outputs": [],
   "source": [
    "matches = matches.drop(matches.columns[[0, 2, 3, 6, 7, 8, 9, 11, 12, 14, 15, 16, 17]], axis = 1)\n"
   ]
  },
  {
   "cell_type": "code",
   "execution_count": 97,
   "metadata": {},
   "outputs": [],
   "source": [
    "matches = matches.rename(columns={\"season\": \"Year\", \"winner\": \"Winner\", \"player_of_match\": \"MVP\", \"team1\": \"Team1\", \"team2\": \"Team2\"})"
   ]
  },
  {
   "cell_type": "code",
   "execution_count": 124,
   "metadata": {},
   "outputs": [
    {
     "output_type": "execute_result",
     "data": {
      "text/plain": [
       "     Year                  Team1                        Team2  \\\n",
       "0    2008  Kolkata Knight Riders  Royal Challengers Bangalore   \n",
       "1    2008    Chennai Super Kings              Kings XI Punjab   \n",
       "2    2008       Rajasthan Royals             Delhi Daredevils   \n",
       "3    2008         Mumbai Indians  Royal Challengers Bangalore   \n",
       "4    2008        Deccan Chargers        Kolkata Knight Riders   \n",
       "..    ...                    ...                          ...   \n",
       "572  2016       Delhi Daredevils  Royal Challengers Bangalore   \n",
       "573  2016          Gujarat Lions  Royal Challengers Bangalore   \n",
       "574  2016    Sunrisers Hyderabad        Kolkata Knight Riders   \n",
       "575  2016          Gujarat Lions          Sunrisers Hyderabad   \n",
       "576  2016    Sunrisers Hyderabad  Royal Challengers Bangalore   \n",
       "\n",
       "                          Winner             MVP  \n",
       "0          Kolkata Knight Riders     BB McCullum  \n",
       "1            Chennai Super Kings      MEK Hussey  \n",
       "2               Delhi Daredevils     MF Maharoof  \n",
       "3    Royal Challengers Bangalore      MV Boucher  \n",
       "4          Kolkata Knight Riders       DJ Hussey  \n",
       "..                           ...             ...  \n",
       "572  Royal Challengers Bangalore         V Kohli  \n",
       "573  Royal Challengers Bangalore  AB de Villiers  \n",
       "574          Sunrisers Hyderabad    MC Henriques  \n",
       "575          Sunrisers Hyderabad       DA Warner  \n",
       "576          Sunrisers Hyderabad     BCJ Cutting  \n",
       "\n",
       "[577 rows x 5 columns]"
      ],
      "text/html": "<div>\n<style scoped>\n    .dataframe tbody tr th:only-of-type {\n        vertical-align: middle;\n    }\n\n    .dataframe tbody tr th {\n        vertical-align: top;\n    }\n\n    .dataframe thead th {\n        text-align: right;\n    }\n</style>\n<table border=\"1\" class=\"dataframe\">\n  <thead>\n    <tr style=\"text-align: right;\">\n      <th></th>\n      <th>Year</th>\n      <th>Team1</th>\n      <th>Team2</th>\n      <th>Winner</th>\n      <th>MVP</th>\n    </tr>\n  </thead>\n  <tbody>\n    <tr>\n      <th>0</th>\n      <td>2008</td>\n      <td>Kolkata Knight Riders</td>\n      <td>Royal Challengers Bangalore</td>\n      <td>Kolkata Knight Riders</td>\n      <td>BB McCullum</td>\n    </tr>\n    <tr>\n      <th>1</th>\n      <td>2008</td>\n      <td>Chennai Super Kings</td>\n      <td>Kings XI Punjab</td>\n      <td>Chennai Super Kings</td>\n      <td>MEK Hussey</td>\n    </tr>\n    <tr>\n      <th>2</th>\n      <td>2008</td>\n      <td>Rajasthan Royals</td>\n      <td>Delhi Daredevils</td>\n      <td>Delhi Daredevils</td>\n      <td>MF Maharoof</td>\n    </tr>\n    <tr>\n      <th>3</th>\n      <td>2008</td>\n      <td>Mumbai Indians</td>\n      <td>Royal Challengers Bangalore</td>\n      <td>Royal Challengers Bangalore</td>\n      <td>MV Boucher</td>\n    </tr>\n    <tr>\n      <th>4</th>\n      <td>2008</td>\n      <td>Deccan Chargers</td>\n      <td>Kolkata Knight Riders</td>\n      <td>Kolkata Knight Riders</td>\n      <td>DJ Hussey</td>\n    </tr>\n    <tr>\n      <th>...</th>\n      <td>...</td>\n      <td>...</td>\n      <td>...</td>\n      <td>...</td>\n      <td>...</td>\n    </tr>\n    <tr>\n      <th>572</th>\n      <td>2016</td>\n      <td>Delhi Daredevils</td>\n      <td>Royal Challengers Bangalore</td>\n      <td>Royal Challengers Bangalore</td>\n      <td>V Kohli</td>\n    </tr>\n    <tr>\n      <th>573</th>\n      <td>2016</td>\n      <td>Gujarat Lions</td>\n      <td>Royal Challengers Bangalore</td>\n      <td>Royal Challengers Bangalore</td>\n      <td>AB de Villiers</td>\n    </tr>\n    <tr>\n      <th>574</th>\n      <td>2016</td>\n      <td>Sunrisers Hyderabad</td>\n      <td>Kolkata Knight Riders</td>\n      <td>Sunrisers Hyderabad</td>\n      <td>MC Henriques</td>\n    </tr>\n    <tr>\n      <th>575</th>\n      <td>2016</td>\n      <td>Gujarat Lions</td>\n      <td>Sunrisers Hyderabad</td>\n      <td>Sunrisers Hyderabad</td>\n      <td>DA Warner</td>\n    </tr>\n    <tr>\n      <th>576</th>\n      <td>2016</td>\n      <td>Sunrisers Hyderabad</td>\n      <td>Royal Challengers Bangalore</td>\n      <td>Sunrisers Hyderabad</td>\n      <td>BCJ Cutting</td>\n    </tr>\n  </tbody>\n</table>\n<p>577 rows × 5 columns</p>\n</div>"
     },
     "metadata": {},
     "execution_count": 124
    }
   ],
   "source": [
    "matches"
   ]
  },
  {
   "cell_type": "code",
   "execution_count": 110,
   "metadata": {},
   "outputs": [],
   "source": [
    "amounts = theTable[(theTable['Year'] == 2008) & (theTable['Team'] == \"Kolkata Knight Riders\")]['Amount'].tolist()"
   ]
  },
  {
   "cell_type": "code",
   "execution_count": 114,
   "metadata": {},
   "outputs": [
    {
     "output_type": "execute_result",
     "data": {
      "text/plain": [
       "495000.0"
      ]
     },
     "metadata": {},
     "execution_count": 114
    }
   ],
   "source": [
    "avgSpent = sum(amounts)/len(amounts)"
   ]
  },
  {
   "cell_type": "code",
   "execution_count": 138,
   "metadata": {},
   "outputs": [
    {
     "output_type": "execute_result",
     "data": {
      "text/plain": [
       "[495000.0,\n",
       " 600000.0,\n",
       " 750000.0,\n",
       " 714583.3333333334,\n",
       " 550000.0,\n",
       " 310500.0,\n",
       " 238894.73684210525,\n",
       " 69857.14285714286,\n",
       " 99857.14285714286]"
      ]
     },
     "metadata": {},
     "execution_count": 138
    }
   ],
   "source": [
    "val"
   ]
  },
  {
   "cell_type": "code",
   "execution_count": 128,
   "metadata": {},
   "outputs": [],
   "source": [
    "games = matches[(matches['Year'] == 2008) & \n",
    "((matches['Team1'] == \"Kolkata Knight Riders\") | (matches['Team2'] == \"Kolkata Knight Riders\"))][\"Winner\"].tolist()"
   ]
  },
  {
   "cell_type": "code",
   "execution_count": 134,
   "metadata": {},
   "outputs": [
    {
     "output_type": "execute_result",
     "data": {
      "text/plain": [
       "-1"
      ]
     },
     "metadata": {},
     "execution_count": 134
    }
   ],
   "source": [
    "occurance = games.count(\"Kolkata Knight Riders\")\n",
    "ratio = (occurance/(len(games) - occurance))\n",
    "if ratio < 1:   winLoss = -1\n",
    "elif ratio > 1: winLoss = 1\n",
    "else :          winLoss = 0\n",
    "winLoss"
   ]
  },
  {
   "cell_type": "code",
   "execution_count": 218,
   "metadata": {},
   "outputs": [
    {
     "output_type": "execute_result",
     "data": {
      "text/plain": [
       "[2.0, 1.0, 0.4, 1.0, 1.0, 1.0, 2.4, 0.2727272727272727, 0.4]"
      ]
     },
     "metadata": {},
     "execution_count": 218
    }
   ],
   "source": [
    "valA2\n"
   ]
  },
  {
   "cell_type": "code",
   "execution_count": 216,
   "metadata": {},
   "outputs": [],
   "source": [
    "valA1 = []\n",
    "for year in range(8, 17):\n",
    "    amountsYr = theTable[(theTable['Year'] == (2000+year)) & (theTable['Team'] == \"Kings XI Punjab\")]['Amount'].tolist()\n",
    "    valA1.append(sum(amountsYr)/len(amountsYr))\n",
    "valA2 = []\n",
    "for year in range(8,17):\n",
    "    gamesYr = matches[(matches['Year'] == (2000+year)) & ((matches['Team1'] == \"Kings XI Punjab\") | (matches['Team2'] == \"Kings XI Punjab\"))][\"Winner\"].tolist()\n",
    "    occuranceYr = gamesYr.count(\"Kings XI Punjab\")\n",
    "    valA2.append((occuranceYr/(len(gamesYr) - occuranceYr)))\n",
    "valA3 = []\n",
    "for i in range(len(valA1)):\n",
    "    valA3.append(valA1[i]/(1/valA2[i]))\n"
   ]
  },
  {
   "cell_type": "code",
   "execution_count": 217,
   "metadata": {},
   "outputs": [
    {
     "output_type": "execute_result",
     "data": {
      "text/plain": [
       "[12000.0, 37000.0, 98000.0, 258000.0, 67000.0, 797000.0, 12000.0, 12000.0]"
      ]
     },
     "metadata": {},
     "execution_count": 217
    }
   ],
   "source": [
    "amountsYr"
   ]
  },
  {
   "cell_type": "code",
   "execution_count": 184,
   "metadata": {},
   "outputs": [
    {
     "output_type": "execute_result",
     "data": {
      "text/plain": [
       "                     Player                         Team     Amount    Year\n",
       "0               Shane Warne             Rajasthan Royals   450000.0  2008.0\n",
       "1      Mahendra Singh Dhoni          Chennai Super Kings  1500000.0  2008.0\n",
       "2            Adam Gilchrist              Deccan Chargers   700000.0  2008.0\n",
       "3             Shoaib Akhtar        Kolkata Knight Riders   425000.0  2008.0\n",
       "4        Mahela Jayawardene              Kings XI Punjab   475000.0  2008.0\n",
       "..                      ...                          ...        ...     ...\n",
       "965  Yuzvendra Singh Chahal  Royal Challengers Bangalore    12000.0  2014.0\n",
       "966  Yuzvendra Singh Chahal  Royal Challengers Bangalore   736000.0  2018.0\n",
       "967             Zaheer Khan               Mumbai Indians   319000.0  2014.0\n",
       "968             Zaheer Khan             Delhi Daredevils   491000.0  2015.0\n",
       "969      Zahir Khan Pakteen             Rajasthan Royals    74000.0  2018.0\n",
       "\n",
       "[1227 rows x 4 columns]"
      ],
      "text/html": "<div>\n<style scoped>\n    .dataframe tbody tr th:only-of-type {\n        vertical-align: middle;\n    }\n\n    .dataframe tbody tr th {\n        vertical-align: top;\n    }\n\n    .dataframe thead th {\n        text-align: right;\n    }\n</style>\n<table border=\"1\" class=\"dataframe\">\n  <thead>\n    <tr style=\"text-align: right;\">\n      <th></th>\n      <th>Player</th>\n      <th>Team</th>\n      <th>Amount</th>\n      <th>Year</th>\n    </tr>\n  </thead>\n  <tbody>\n    <tr>\n      <th>0</th>\n      <td>Shane Warne</td>\n      <td>Rajasthan Royals</td>\n      <td>450000.0</td>\n      <td>2008.0</td>\n    </tr>\n    <tr>\n      <th>1</th>\n      <td>Mahendra Singh Dhoni</td>\n      <td>Chennai Super Kings</td>\n      <td>1500000.0</td>\n      <td>2008.0</td>\n    </tr>\n    <tr>\n      <th>2</th>\n      <td>Adam Gilchrist</td>\n      <td>Deccan Chargers</td>\n      <td>700000.0</td>\n      <td>2008.0</td>\n    </tr>\n    <tr>\n      <th>3</th>\n      <td>Shoaib Akhtar</td>\n      <td>Kolkata Knight Riders</td>\n      <td>425000.0</td>\n      <td>2008.0</td>\n    </tr>\n    <tr>\n      <th>4</th>\n      <td>Mahela Jayawardene</td>\n      <td>Kings XI Punjab</td>\n      <td>475000.0</td>\n      <td>2008.0</td>\n    </tr>\n    <tr>\n      <th>...</th>\n      <td>...</td>\n      <td>...</td>\n      <td>...</td>\n      <td>...</td>\n    </tr>\n    <tr>\n      <th>965</th>\n      <td>Yuzvendra Singh Chahal</td>\n      <td>Royal Challengers Bangalore</td>\n      <td>12000.0</td>\n      <td>2014.0</td>\n    </tr>\n    <tr>\n      <th>966</th>\n      <td>Yuzvendra Singh Chahal</td>\n      <td>Royal Challengers Bangalore</td>\n      <td>736000.0</td>\n      <td>2018.0</td>\n    </tr>\n    <tr>\n      <th>967</th>\n      <td>Zaheer Khan</td>\n      <td>Mumbai Indians</td>\n      <td>319000.0</td>\n      <td>2014.0</td>\n    </tr>\n    <tr>\n      <th>968</th>\n      <td>Zaheer Khan</td>\n      <td>Delhi Daredevils</td>\n      <td>491000.0</td>\n      <td>2015.0</td>\n    </tr>\n    <tr>\n      <th>969</th>\n      <td>Zahir Khan Pakteen</td>\n      <td>Rajasthan Royals</td>\n      <td>74000.0</td>\n      <td>2018.0</td>\n    </tr>\n  </tbody>\n</table>\n<p>1227 rows × 4 columns</p>\n</div>"
     },
     "metadata": {},
     "execution_count": 184
    }
   ],
   "source": [
    "theTable"
   ]
  },
  {
   "cell_type": "code",
   "execution_count": 263,
   "metadata": {},
   "outputs": [],
   "source": [
    "totalBidMat17 = np.array([np.array(xi) for xi in totalBidYr])#sum of bids per year for each team until 2017"
   ]
  },
  {
   "cell_type": "code",
   "execution_count": 320,
   "metadata": {},
   "outputs": [],
   "source": [
    "totalBidMat16 = np.array([np.array(xi) for xi in totalBidYr])#sum of bids per year for each team until 2016"
   ]
  },
  {
   "cell_type": "code",
   "execution_count": 405,
   "metadata": {},
   "outputs": [],
   "source": [
    "totalWLMat = np.array([np.array(xi) for xi in totalWLYr])#Win Loss ration for each team per year until 2016"
   ]
  },
  {
   "cell_type": "code",
   "execution_count": 432,
   "metadata": {},
   "outputs": [],
   "source": [
    "years = []\n",
    "for elem in range(len(matches[\"Year\"].unique().tolist())):\n",
    "    years.append(matches[\"Year\"].unique()[elem].astype(str))"
   ]
  },
  {
   "cell_type": "code",
   "execution_count": null,
   "metadata": {},
   "outputs": [],
   "source": []
  },
  {
   "cell_type": "code",
   "execution_count": 264,
   "metadata": {},
   "outputs": [],
   "source": [
    "totalBidPerYear17 = pd.DataFrame(totalBidMat17, columns = [np.append(matches[\"Year\"].unique(), 2017)], index = [matches[\"Team1\"].unique()])#dataframe of sum of bids until 2017"
   ]
  },
  {
   "cell_type": "code",
   "execution_count": 433,
   "metadata": {},
   "outputs": [],
   "source": [
    "\n",
    "totalBidPerYear16 = pd.DataFrame(totalBidMat16, columns = years, index = [matches[\"Team1\"].unique()])\n",
    "#dataframe of sum of bids until 2016"
   ]
  },
  {
   "cell_type": "code",
   "execution_count": 434,
   "metadata": {},
   "outputs": [],
   "source": [
    "winLossPerYear = pd.DataFrame(totalWLMat, columns = years, index = [matches[\"Team1\"].unique()])\n",
    "#dataframe win loss ratio until 2016"
   ]
  },
  {
   "cell_type": "code",
   "execution_count": 435,
   "metadata": {},
   "outputs": [
    {
     "output_type": "execute_result",
     "data": {
      "text/plain": [
       "                                  2008       2009      2010       2011  \\\n",
       "Kolkata Knight Riders        4950000.0   600000.0  750000.0  8575000.0   \n",
       "Chennai Super Kings          5825000.0  1740000.0  150000.0  4115000.0   \n",
       "Rajasthan Royals             2700000.0  1025000.0  150000.0  3095000.0   \n",
       "Mumbai Indians               3850000.0  1175000.0  750000.0  4020000.0   \n",
       "Deccan Chargers              5885000.0   250000.0  720000.0  6875000.0   \n",
       "Kings XI Punjab              4620000.0   600000.0  300000.0  6945000.0   \n",
       "Royal Challengers Bangalore  3800000.0  1710000.0  220000.0  6840000.0   \n",
       "Delhi Daredevils             4825000.0   550000.0  610000.0  6450000.0   \n",
       "Kochi Tuskers Kerala               0.0        0.0       0.0  7590000.0   \n",
       "Pune Warriors                      0.0        0.0       0.0  8270000.0   \n",
       "Sunrisers Hyderabad                0.0        0.0       0.0        0.0   \n",
       "Rising Pune Supergiants            0.0        0.0       0.0        0.0   \n",
       "Gujarat Lions                      0.0        0.0       0.0        0.0   \n",
       "\n",
       "                                  2012       2013       2014       2015  \\\n",
       "Kolkata Knight Riders        1650000.0   621000.0  4539000.0   489000.0   \n",
       "Chennai Super Kings          2000000.0  1181000.0  2551000.0   503000.0   \n",
       "Rajasthan Royals             1155000.0   579000.0  2080000.0   257000.0   \n",
       "Mumbai Indians               1700000.0  1840000.0  2569000.0   624000.0   \n",
       "Deccan Chargers               820000.0        0.0        0.0        0.0   \n",
       "Kings XI Punjab               550000.0   736000.0  4833000.0   417000.0   \n",
       "Royal Challengers Bangalore  1220000.0  1670000.0  3740000.0  2305000.0   \n",
       "Delhi Daredevils             1900000.0   699000.0  7356000.0  4711000.0   \n",
       "Kochi Tuskers Kerala               0.0        0.0        0.0        0.0   \n",
       "Pune Warriors                      0.0  2300000.0        0.0        0.0   \n",
       "Sunrisers Hyderabad                0.0  1306000.0  4540000.0  1435000.0   \n",
       "Rising Pune Supergiants            0.0        0.0        0.0        0.0   \n",
       "Gujarat Lions                      0.0        0.0        0.0        0.0   \n",
       "\n",
       "                                  2016  \n",
       "Kolkata Knight Riders         699000.0  \n",
       "Chennai Super Kings                0.0  \n",
       "Rajasthan Royals                   0.0  \n",
       "Mumbai Indians               1606000.0  \n",
       "Deccan Chargers                    0.0  \n",
       "Kings XI Punjab              1293000.0  \n",
       "Royal Challengers Bangalore  1893000.0  \n",
       "Delhi Daredevils             3802000.0  \n",
       "Kochi Tuskers Kerala               0.0  \n",
       "Pune Warriors                      0.0  \n",
       "Sunrisers Hyderabad          2668000.0  \n",
       "Rising Pune Supergiants      2674000.0  \n",
       "Gujarat Lions                2042000.0  "
      ],
      "text/html": "<div>\n<style scoped>\n    .dataframe tbody tr th:only-of-type {\n        vertical-align: middle;\n    }\n\n    .dataframe tbody tr th {\n        vertical-align: top;\n    }\n\n    .dataframe thead th {\n        text-align: right;\n    }\n</style>\n<table border=\"1\" class=\"dataframe\">\n  <thead>\n    <tr style=\"text-align: right;\">\n      <th></th>\n      <th>2008</th>\n      <th>2009</th>\n      <th>2010</th>\n      <th>2011</th>\n      <th>2012</th>\n      <th>2013</th>\n      <th>2014</th>\n      <th>2015</th>\n      <th>2016</th>\n    </tr>\n  </thead>\n  <tbody>\n    <tr>\n      <th>Kolkata Knight Riders</th>\n      <td>4950000.0</td>\n      <td>600000.0</td>\n      <td>750000.0</td>\n      <td>8575000.0</td>\n      <td>1650000.0</td>\n      <td>621000.0</td>\n      <td>4539000.0</td>\n      <td>489000.0</td>\n      <td>699000.0</td>\n    </tr>\n    <tr>\n      <th>Chennai Super Kings</th>\n      <td>5825000.0</td>\n      <td>1740000.0</td>\n      <td>150000.0</td>\n      <td>4115000.0</td>\n      <td>2000000.0</td>\n      <td>1181000.0</td>\n      <td>2551000.0</td>\n      <td>503000.0</td>\n      <td>0.0</td>\n    </tr>\n    <tr>\n      <th>Rajasthan Royals</th>\n      <td>2700000.0</td>\n      <td>1025000.0</td>\n      <td>150000.0</td>\n      <td>3095000.0</td>\n      <td>1155000.0</td>\n      <td>579000.0</td>\n      <td>2080000.0</td>\n      <td>257000.0</td>\n      <td>0.0</td>\n    </tr>\n    <tr>\n      <th>Mumbai Indians</th>\n      <td>3850000.0</td>\n      <td>1175000.0</td>\n      <td>750000.0</td>\n      <td>4020000.0</td>\n      <td>1700000.0</td>\n      <td>1840000.0</td>\n      <td>2569000.0</td>\n      <td>624000.0</td>\n      <td>1606000.0</td>\n    </tr>\n    <tr>\n      <th>Deccan Chargers</th>\n      <td>5885000.0</td>\n      <td>250000.0</td>\n      <td>720000.0</td>\n      <td>6875000.0</td>\n      <td>820000.0</td>\n      <td>0.0</td>\n      <td>0.0</td>\n      <td>0.0</td>\n      <td>0.0</td>\n    </tr>\n    <tr>\n      <th>Kings XI Punjab</th>\n      <td>4620000.0</td>\n      <td>600000.0</td>\n      <td>300000.0</td>\n      <td>6945000.0</td>\n      <td>550000.0</td>\n      <td>736000.0</td>\n      <td>4833000.0</td>\n      <td>417000.0</td>\n      <td>1293000.0</td>\n    </tr>\n    <tr>\n      <th>Royal Challengers Bangalore</th>\n      <td>3800000.0</td>\n      <td>1710000.0</td>\n      <td>220000.0</td>\n      <td>6840000.0</td>\n      <td>1220000.0</td>\n      <td>1670000.0</td>\n      <td>3740000.0</td>\n      <td>2305000.0</td>\n      <td>1893000.0</td>\n    </tr>\n    <tr>\n      <th>Delhi Daredevils</th>\n      <td>4825000.0</td>\n      <td>550000.0</td>\n      <td>610000.0</td>\n      <td>6450000.0</td>\n      <td>1900000.0</td>\n      <td>699000.0</td>\n      <td>7356000.0</td>\n      <td>4711000.0</td>\n      <td>3802000.0</td>\n    </tr>\n    <tr>\n      <th>Kochi Tuskers Kerala</th>\n      <td>0.0</td>\n      <td>0.0</td>\n      <td>0.0</td>\n      <td>7590000.0</td>\n      <td>0.0</td>\n      <td>0.0</td>\n      <td>0.0</td>\n      <td>0.0</td>\n      <td>0.0</td>\n    </tr>\n    <tr>\n      <th>Pune Warriors</th>\n      <td>0.0</td>\n      <td>0.0</td>\n      <td>0.0</td>\n      <td>8270000.0</td>\n      <td>0.0</td>\n      <td>2300000.0</td>\n      <td>0.0</td>\n      <td>0.0</td>\n      <td>0.0</td>\n    </tr>\n    <tr>\n      <th>Sunrisers Hyderabad</th>\n      <td>0.0</td>\n      <td>0.0</td>\n      <td>0.0</td>\n      <td>0.0</td>\n      <td>0.0</td>\n      <td>1306000.0</td>\n      <td>4540000.0</td>\n      <td>1435000.0</td>\n      <td>2668000.0</td>\n    </tr>\n    <tr>\n      <th>Rising Pune Supergiants</th>\n      <td>0.0</td>\n      <td>0.0</td>\n      <td>0.0</td>\n      <td>0.0</td>\n      <td>0.0</td>\n      <td>0.0</td>\n      <td>0.0</td>\n      <td>0.0</td>\n      <td>2674000.0</td>\n    </tr>\n    <tr>\n      <th>Gujarat Lions</th>\n      <td>0.0</td>\n      <td>0.0</td>\n      <td>0.0</td>\n      <td>0.0</td>\n      <td>0.0</td>\n      <td>0.0</td>\n      <td>0.0</td>\n      <td>0.0</td>\n      <td>2042000.0</td>\n    </tr>\n  </tbody>\n</table>\n</div>"
     },
     "metadata": {},
     "execution_count": 435
    }
   ],
   "source": [
    "totalBidPerYear16"
   ]
  },
  {
   "cell_type": "code",
   "execution_count": 436,
   "metadata": {},
   "outputs": [
    {
     "output_type": "execute_result",
     "data": {
      "text/plain": [
       "                                 2008      2009      2010      2011      2012  \\\n",
       "Kolkata Knight Riders        0.857143  0.300000  1.000000  1.142857  2.400000   \n",
       "Chennai Super Kings          1.285714  1.333333  1.285714  2.200000  1.250000   \n",
       "Rajasthan Royals             4.333333  0.857143  0.750000  0.857143  0.777778   \n",
       "Mumbai Indians               1.000000  0.625000  2.200000  1.666667  1.428571   \n",
       "Deccan Chargers              0.166667  1.285714  1.000000  0.750000  0.363636   \n",
       "Kings XI Punjab              2.000000  1.000000  0.400000  1.000000  1.000000   \n",
       "Royal Challengers Bangalore  0.400000  1.285714  1.000000  1.666667  1.142857   \n",
       "Delhi Daredevils             1.000000  2.000000  1.000000  0.400000  1.571429   \n",
       "Kochi Tuskers Kerala              NaN       NaN       NaN  0.750000       NaN   \n",
       "Pune Warriors                     NaN       NaN       NaN  0.400000  0.333333   \n",
       "Sunrisers Hyderabad               NaN       NaN       NaN       NaN       NaN   \n",
       "Rising Pune Supergiants           NaN       NaN       NaN       NaN       NaN   \n",
       "Gujarat Lions                     NaN       NaN       NaN       NaN       NaN   \n",
       "\n",
       "                                 2013      2014      2015      2016  \n",
       "Kolkata Knight Riders        0.600000  2.200000  1.166667  1.142857  \n",
       "Chennai Super Kings          2.000000  1.666667  1.428571       NaN  \n",
       "Rajasthan Royals             1.571429  1.000000  1.000000       NaN  \n",
       "Mumbai Indians               2.166667  0.875000  1.666667  1.000000  \n",
       "Deccan Chargers                   NaN       NaN       NaN       NaN  \n",
       "Kings XI Punjab              1.000000  2.400000  0.272727  0.400000  \n",
       "Royal Challengers Bangalore  1.285714  0.555556  1.000000  1.285714  \n",
       "Delhi Daredevils             0.230769  0.166667  0.555556  1.000000  \n",
       "Kochi Tuskers Kerala              NaN       NaN       NaN       NaN  \n",
       "Pune Warriors                0.333333       NaN       NaN       NaN  \n",
       "Sunrisers Hyderabad          1.428571  0.750000  1.000000  1.833333  \n",
       "Rising Pune Supergiants           NaN       NaN       NaN  0.555556  \n",
       "Gujarat Lions                     NaN       NaN       NaN  1.285714  "
      ],
      "text/html": "<div>\n<style scoped>\n    .dataframe tbody tr th:only-of-type {\n        vertical-align: middle;\n    }\n\n    .dataframe tbody tr th {\n        vertical-align: top;\n    }\n\n    .dataframe thead th {\n        text-align: right;\n    }\n</style>\n<table border=\"1\" class=\"dataframe\">\n  <thead>\n    <tr style=\"text-align: right;\">\n      <th></th>\n      <th>2008</th>\n      <th>2009</th>\n      <th>2010</th>\n      <th>2011</th>\n      <th>2012</th>\n      <th>2013</th>\n      <th>2014</th>\n      <th>2015</th>\n      <th>2016</th>\n    </tr>\n  </thead>\n  <tbody>\n    <tr>\n      <th>Kolkata Knight Riders</th>\n      <td>0.857143</td>\n      <td>0.300000</td>\n      <td>1.000000</td>\n      <td>1.142857</td>\n      <td>2.400000</td>\n      <td>0.600000</td>\n      <td>2.200000</td>\n      <td>1.166667</td>\n      <td>1.142857</td>\n    </tr>\n    <tr>\n      <th>Chennai Super Kings</th>\n      <td>1.285714</td>\n      <td>1.333333</td>\n      <td>1.285714</td>\n      <td>2.200000</td>\n      <td>1.250000</td>\n      <td>2.000000</td>\n      <td>1.666667</td>\n      <td>1.428571</td>\n      <td>NaN</td>\n    </tr>\n    <tr>\n      <th>Rajasthan Royals</th>\n      <td>4.333333</td>\n      <td>0.857143</td>\n      <td>0.750000</td>\n      <td>0.857143</td>\n      <td>0.777778</td>\n      <td>1.571429</td>\n      <td>1.000000</td>\n      <td>1.000000</td>\n      <td>NaN</td>\n    </tr>\n    <tr>\n      <th>Mumbai Indians</th>\n      <td>1.000000</td>\n      <td>0.625000</td>\n      <td>2.200000</td>\n      <td>1.666667</td>\n      <td>1.428571</td>\n      <td>2.166667</td>\n      <td>0.875000</td>\n      <td>1.666667</td>\n      <td>1.000000</td>\n    </tr>\n    <tr>\n      <th>Deccan Chargers</th>\n      <td>0.166667</td>\n      <td>1.285714</td>\n      <td>1.000000</td>\n      <td>0.750000</td>\n      <td>0.363636</td>\n      <td>NaN</td>\n      <td>NaN</td>\n      <td>NaN</td>\n      <td>NaN</td>\n    </tr>\n    <tr>\n      <th>Kings XI Punjab</th>\n      <td>2.000000</td>\n      <td>1.000000</td>\n      <td>0.400000</td>\n      <td>1.000000</td>\n      <td>1.000000</td>\n      <td>1.000000</td>\n      <td>2.400000</td>\n      <td>0.272727</td>\n      <td>0.400000</td>\n    </tr>\n    <tr>\n      <th>Royal Challengers Bangalore</th>\n      <td>0.400000</td>\n      <td>1.285714</td>\n      <td>1.000000</td>\n      <td>1.666667</td>\n      <td>1.142857</td>\n      <td>1.285714</td>\n      <td>0.555556</td>\n      <td>1.000000</td>\n      <td>1.285714</td>\n    </tr>\n    <tr>\n      <th>Delhi Daredevils</th>\n      <td>1.000000</td>\n      <td>2.000000</td>\n      <td>1.000000</td>\n      <td>0.400000</td>\n      <td>1.571429</td>\n      <td>0.230769</td>\n      <td>0.166667</td>\n      <td>0.555556</td>\n      <td>1.000000</td>\n    </tr>\n    <tr>\n      <th>Kochi Tuskers Kerala</th>\n      <td>NaN</td>\n      <td>NaN</td>\n      <td>NaN</td>\n      <td>0.750000</td>\n      <td>NaN</td>\n      <td>NaN</td>\n      <td>NaN</td>\n      <td>NaN</td>\n      <td>NaN</td>\n    </tr>\n    <tr>\n      <th>Pune Warriors</th>\n      <td>NaN</td>\n      <td>NaN</td>\n      <td>NaN</td>\n      <td>0.400000</td>\n      <td>0.333333</td>\n      <td>0.333333</td>\n      <td>NaN</td>\n      <td>NaN</td>\n      <td>NaN</td>\n    </tr>\n    <tr>\n      <th>Sunrisers Hyderabad</th>\n      <td>NaN</td>\n      <td>NaN</td>\n      <td>NaN</td>\n      <td>NaN</td>\n      <td>NaN</td>\n      <td>1.428571</td>\n      <td>0.750000</td>\n      <td>1.000000</td>\n      <td>1.833333</td>\n    </tr>\n    <tr>\n      <th>Rising Pune Supergiants</th>\n      <td>NaN</td>\n      <td>NaN</td>\n      <td>NaN</td>\n      <td>NaN</td>\n      <td>NaN</td>\n      <td>NaN</td>\n      <td>NaN</td>\n      <td>NaN</td>\n      <td>0.555556</td>\n    </tr>\n    <tr>\n      <th>Gujarat Lions</th>\n      <td>NaN</td>\n      <td>NaN</td>\n      <td>NaN</td>\n      <td>NaN</td>\n      <td>NaN</td>\n      <td>NaN</td>\n      <td>NaN</td>\n      <td>NaN</td>\n      <td>1.285714</td>\n    </tr>\n  </tbody>\n</table>\n</div>"
     },
     "metadata": {},
     "execution_count": 436
    }
   ],
   "source": [
    "winLossPerYear"
   ]
  },
  {
   "cell_type": "code",
   "execution_count": 361,
   "metadata": {},
   "outputs": [],
   "source": [
    "thePath = os.getcwd() + '/auctionSpending.csv'\n",
    "totalBidPerYear16.to_csv(thePath, index=True)\n",
    "thePath = os.getcwd() + '/IwinLossRatio.csv'\n",
    "winLossPerYear.to_csv(thePath, index=True)"
   ]
  },
  {
   "cell_type": "code",
   "execution_count": 319,
   "metadata": {},
   "outputs": [],
   "source": [
    "# matWL = matches[\"Team1\"].unique()\n",
    "# newDF = pd.DataFrame(columns = [matches[\"Year\"].unique()], index = [matches[\"Team1\"].unique()])\n",
    "totalBidYr = []\n",
    "\n",
    "for elem in matches[\"Team1\"].unique():\n",
    "    yearbid = []\n",
    "    for year in range(8,17):\n",
    "        yearbid.append(sum(theTable[(theTable['Year'] == (2000+year)) & (theTable['Team'] == elem)]['Amount'].tolist()))\n",
    "    totalBidYr.append(yearbid)"
   ]
  },
  {
   "cell_type": "code",
   "execution_count": 404,
   "metadata": {},
   "outputs": [],
   "source": [
    "totalWLYr = []\n",
    "\n",
    "for elem in matches[\"Team1\"].unique():\n",
    "    winLossYr = []\n",
    "    for year in range(8,17):\n",
    "        gamesYr=matches[(matches['Year'] == (2000+year)) & ((matches['Team1'] == elem) | (matches['Team2'] == elem))][\"Winner\"].tolist()\n",
    "        \n",
    "        occuranceYr = gamesYr.count(elem)\n",
    "        # print(len(gamesYr), occuranceYr, elem, year)\n",
    "        # if len(gamesYr) > 0:\n",
    "        #     if (occuranceYr/(len(gamesYr) - occuranceYr)) >= 1:\n",
    "        #         winLossYr.append(1)\n",
    "        #     else:\n",
    "        #         winLossYr.append(-1)\n",
    "        # else:\n",
    "        #     winLossYr.append(0)\n",
    "        if len(gamesYr) > 0:\n",
    "            winLossYr.append((occuranceYr/(len(gamesYr) - occuranceYr)))\n",
    "        else:\n",
    "            winLossYr.append(np.nan) #np.nan or -1\n",
    "    totalWLYr.append(winLossYr)"
   ]
  },
  {
   "cell_type": "code",
   "execution_count": 378,
   "metadata": {},
   "outputs": [
    {
     "output_type": "execute_result",
     "data": {
      "text/plain": [
       "0.02088060377240576"
      ]
     },
     "metadata": {},
     "execution_count": 378
    }
   ],
   "source": [
    "winLossPerYear.iloc[2].corr(totalBidPerYear16.iloc[2])"
   ]
  },
  {
   "cell_type": "code",
   "execution_count": 437,
   "metadata": {},
   "outputs": [
    {
     "output_type": "execute_result",
     "data": {
      "text/plain": [
       "[<matplotlib.lines.Line2D at 0x14d083040>]"
      ]
     },
     "metadata": {},
     "execution_count": 437
    },
    {
     "output_type": "display_data",
     "data": {
      "text/plain": "<Figure size 640x480 with 1 Axes>",
      "image/svg+xml": "<?xml version=\"1.0\" encoding=\"utf-8\" standalone=\"no\"?>\n<!DOCTYPE svg PUBLIC \"-//W3C//DTD SVG 1.1//EN\"\n  \"http://www.w3.org/Graphics/SVG/1.1/DTD/svg11.dtd\">\n<!-- Created with matplotlib (https://matplotlib.org/) -->\n<svg height=\"297.190125pt\" version=\"1.1\" viewBox=\"0 0 402.802812 297.190125\" width=\"402.802812pt\" xmlns=\"http://www.w3.org/2000/svg\" xmlns:xlink=\"http://www.w3.org/1999/xlink\">\n <metadata>\n  <rdf:RDF xmlns:cc=\"http://creativecommons.org/ns#\" xmlns:dc=\"http://purl.org/dc/elements/1.1/\" xmlns:rdf=\"http://www.w3.org/1999/02/22-rdf-syntax-ns#\">\n   <cc:Work>\n    <dc:type rdf:resource=\"http://purl.org/dc/dcmitype/StillImage\"/>\n    <dc:date>2022-11-20T04:07:24.710336</dc:date>\n    <dc:format>image/svg+xml</dc:format>\n    <dc:creator>\n     <cc:Agent>\n      <dc:title>Matplotlib v3.3.2, https://matplotlib.org/</dc:title>\n     </cc:Agent>\n    </dc:creator>\n   </cc:Work>\n  </rdf:RDF>\n </metadata>\n <defs>\n  <style type=\"text/css\">*{stroke-linecap:butt;stroke-linejoin:round;}</style>\n </defs>\n <g id=\"figure_1\">\n  <g id=\"patch_1\">\n   <path d=\"M 0 297.190125 \nL 402.802812 297.190125 \nL 402.802812 0 \nL 0 0 \nz\n\" style=\"fill:#ffffff;\"/>\n  </g>\n  <g id=\"axes_1\">\n   <g id=\"patch_2\">\n    <path d=\"M 38.482813 273.312 \nL 395.602813 273.312 \nL 395.602813 7.2 \nL 38.482813 7.2 \nz\n\" style=\"fill:#ffffff;\"/>\n   </g>\n   <g id=\"matplotlib.axis_1\">\n    <g id=\"xtick_1\">\n     <g id=\"line2d_1\">\n      <defs>\n       <path d=\"M 0 0 \nL 0 3.5 \n\" id=\"m1cbb683f40\" style=\"stroke:#000000;stroke-width:0.8;\"/>\n      </defs>\n      <g>\n       <use style=\"stroke:#000000;stroke-width:0.8;\" x=\"54.71554\" xlink:href=\"#m1cbb683f40\" y=\"273.312\"/>\n      </g>\n     </g>\n     <g id=\"text_1\">\n      <!-- 0 -->\n      <g transform=\"translate(51.53429 287.910437)scale(0.1 -0.1)\">\n       <defs>\n        <path d=\"M 31.78125 66.40625 \nQ 24.171875 66.40625 20.328125 58.90625 \nQ 16.5 51.421875 16.5 36.375 \nQ 16.5 21.390625 20.328125 13.890625 \nQ 24.171875 6.390625 31.78125 6.390625 \nQ 39.453125 6.390625 43.28125 13.890625 \nQ 47.125 21.390625 47.125 36.375 \nQ 47.125 51.421875 43.28125 58.90625 \nQ 39.453125 66.40625 31.78125 66.40625 \nz\nM 31.78125 74.21875 \nQ 44.046875 74.21875 50.515625 64.515625 \nQ 56.984375 54.828125 56.984375 36.375 \nQ 56.984375 17.96875 50.515625 8.265625 \nQ 44.046875 -1.421875 31.78125 -1.421875 \nQ 19.53125 -1.421875 13.0625 8.265625 \nQ 6.59375 17.96875 6.59375 36.375 \nQ 6.59375 54.828125 13.0625 64.515625 \nQ 19.53125 74.21875 31.78125 74.21875 \nz\n\" id=\"DejaVuSans-48\"/>\n       </defs>\n       <use xlink:href=\"#DejaVuSans-48\"/>\n      </g>\n     </g>\n    </g>\n    <g id=\"xtick_2\">\n     <g id=\"line2d_2\">\n      <g>\n       <use style=\"stroke:#000000;stroke-width:0.8;\" x=\"95.297358\" xlink:href=\"#m1cbb683f40\" y=\"273.312\"/>\n      </g>\n     </g>\n     <g id=\"text_2\">\n      <!-- 1 -->\n      <g transform=\"translate(92.116108 287.910437)scale(0.1 -0.1)\">\n       <defs>\n        <path d=\"M 12.40625 8.296875 \nL 28.515625 8.296875 \nL 28.515625 63.921875 \nL 10.984375 60.40625 \nL 10.984375 69.390625 \nL 28.421875 72.90625 \nL 38.28125 72.90625 \nL 38.28125 8.296875 \nL 54.390625 8.296875 \nL 54.390625 0 \nL 12.40625 0 \nz\n\" id=\"DejaVuSans-49\"/>\n       </defs>\n       <use xlink:href=\"#DejaVuSans-49\"/>\n      </g>\n     </g>\n    </g>\n    <g id=\"xtick_3\">\n     <g id=\"line2d_3\">\n      <g>\n       <use style=\"stroke:#000000;stroke-width:0.8;\" x=\"135.879176\" xlink:href=\"#m1cbb683f40\" y=\"273.312\"/>\n      </g>\n     </g>\n     <g id=\"text_3\">\n      <!-- 2 -->\n      <g transform=\"translate(132.697926 287.910437)scale(0.1 -0.1)\">\n       <defs>\n        <path d=\"M 19.1875 8.296875 \nL 53.609375 8.296875 \nL 53.609375 0 \nL 7.328125 0 \nL 7.328125 8.296875 \nQ 12.9375 14.109375 22.625 23.890625 \nQ 32.328125 33.6875 34.8125 36.53125 \nQ 39.546875 41.84375 41.421875 45.53125 \nQ 43.3125 49.21875 43.3125 52.78125 \nQ 43.3125 58.59375 39.234375 62.25 \nQ 35.15625 65.921875 28.609375 65.921875 \nQ 23.96875 65.921875 18.8125 64.3125 \nQ 13.671875 62.703125 7.8125 59.421875 \nL 7.8125 69.390625 \nQ 13.765625 71.78125 18.9375 73 \nQ 24.125 74.21875 28.421875 74.21875 \nQ 39.75 74.21875 46.484375 68.546875 \nQ 53.21875 62.890625 53.21875 53.421875 \nQ 53.21875 48.921875 51.53125 44.890625 \nQ 49.859375 40.875 45.40625 35.40625 \nQ 44.1875 33.984375 37.640625 27.21875 \nQ 31.109375 20.453125 19.1875 8.296875 \nz\n\" id=\"DejaVuSans-50\"/>\n       </defs>\n       <use xlink:href=\"#DejaVuSans-50\"/>\n      </g>\n     </g>\n    </g>\n    <g id=\"xtick_4\">\n     <g id=\"line2d_4\">\n      <g>\n       <use style=\"stroke:#000000;stroke-width:0.8;\" x=\"176.460994\" xlink:href=\"#m1cbb683f40\" y=\"273.312\"/>\n      </g>\n     </g>\n     <g id=\"text_4\">\n      <!-- 3 -->\n      <g transform=\"translate(173.279744 287.910437)scale(0.1 -0.1)\">\n       <defs>\n        <path d=\"M 40.578125 39.3125 \nQ 47.65625 37.796875 51.625 33 \nQ 55.609375 28.21875 55.609375 21.1875 \nQ 55.609375 10.40625 48.1875 4.484375 \nQ 40.765625 -1.421875 27.09375 -1.421875 \nQ 22.515625 -1.421875 17.65625 -0.515625 \nQ 12.796875 0.390625 7.625 2.203125 \nL 7.625 11.71875 \nQ 11.71875 9.328125 16.59375 8.109375 \nQ 21.484375 6.890625 26.8125 6.890625 \nQ 36.078125 6.890625 40.9375 10.546875 \nQ 45.796875 14.203125 45.796875 21.1875 \nQ 45.796875 27.640625 41.28125 31.265625 \nQ 36.765625 34.90625 28.71875 34.90625 \nL 20.21875 34.90625 \nL 20.21875 43.015625 \nL 29.109375 43.015625 \nQ 36.375 43.015625 40.234375 45.921875 \nQ 44.09375 48.828125 44.09375 54.296875 \nQ 44.09375 59.90625 40.109375 62.90625 \nQ 36.140625 65.921875 28.71875 65.921875 \nQ 24.65625 65.921875 20.015625 65.03125 \nQ 15.375 64.15625 9.8125 62.3125 \nL 9.8125 71.09375 \nQ 15.4375 72.65625 20.34375 73.4375 \nQ 25.25 74.21875 29.59375 74.21875 \nQ 40.828125 74.21875 47.359375 69.109375 \nQ 53.90625 64.015625 53.90625 55.328125 \nQ 53.90625 49.265625 50.4375 45.09375 \nQ 46.96875 40.921875 40.578125 39.3125 \nz\n\" id=\"DejaVuSans-51\"/>\n       </defs>\n       <use xlink:href=\"#DejaVuSans-51\"/>\n      </g>\n     </g>\n    </g>\n    <g id=\"xtick_5\">\n     <g id=\"line2d_5\">\n      <g>\n       <use style=\"stroke:#000000;stroke-width:0.8;\" x=\"217.042812\" xlink:href=\"#m1cbb683f40\" y=\"273.312\"/>\n      </g>\n     </g>\n     <g id=\"text_5\">\n      <!-- 4 -->\n      <g transform=\"translate(213.861562 287.910437)scale(0.1 -0.1)\">\n       <defs>\n        <path d=\"M 37.796875 64.3125 \nL 12.890625 25.390625 \nL 37.796875 25.390625 \nz\nM 35.203125 72.90625 \nL 47.609375 72.90625 \nL 47.609375 25.390625 \nL 58.015625 25.390625 \nL 58.015625 17.1875 \nL 47.609375 17.1875 \nL 47.609375 0 \nL 37.796875 0 \nL 37.796875 17.1875 \nL 4.890625 17.1875 \nL 4.890625 26.703125 \nz\n\" id=\"DejaVuSans-52\"/>\n       </defs>\n       <use xlink:href=\"#DejaVuSans-52\"/>\n      </g>\n     </g>\n    </g>\n    <g id=\"xtick_6\">\n     <g id=\"line2d_6\">\n      <g>\n       <use style=\"stroke:#000000;stroke-width:0.8;\" x=\"257.624631\" xlink:href=\"#m1cbb683f40\" y=\"273.312\"/>\n      </g>\n     </g>\n     <g id=\"text_6\">\n      <!-- 5 -->\n      <g transform=\"translate(254.443381 287.910437)scale(0.1 -0.1)\">\n       <defs>\n        <path d=\"M 10.796875 72.90625 \nL 49.515625 72.90625 \nL 49.515625 64.59375 \nL 19.828125 64.59375 \nL 19.828125 46.734375 \nQ 21.96875 47.46875 24.109375 47.828125 \nQ 26.265625 48.1875 28.421875 48.1875 \nQ 40.625 48.1875 47.75 41.5 \nQ 54.890625 34.8125 54.890625 23.390625 \nQ 54.890625 11.625 47.5625 5.09375 \nQ 40.234375 -1.421875 26.90625 -1.421875 \nQ 22.3125 -1.421875 17.546875 -0.640625 \nQ 12.796875 0.140625 7.71875 1.703125 \nL 7.71875 11.625 \nQ 12.109375 9.234375 16.796875 8.0625 \nQ 21.484375 6.890625 26.703125 6.890625 \nQ 35.15625 6.890625 40.078125 11.328125 \nQ 45.015625 15.765625 45.015625 23.390625 \nQ 45.015625 31 40.078125 35.4375 \nQ 35.15625 39.890625 26.703125 39.890625 \nQ 22.75 39.890625 18.8125 39.015625 \nQ 14.890625 38.140625 10.796875 36.28125 \nz\n\" id=\"DejaVuSans-53\"/>\n       </defs>\n       <use xlink:href=\"#DejaVuSans-53\"/>\n      </g>\n     </g>\n    </g>\n    <g id=\"xtick_7\">\n     <g id=\"line2d_7\">\n      <g>\n       <use style=\"stroke:#000000;stroke-width:0.8;\" x=\"298.206449\" xlink:href=\"#m1cbb683f40\" y=\"273.312\"/>\n      </g>\n     </g>\n     <g id=\"text_7\">\n      <!-- 6 -->\n      <g transform=\"translate(295.025199 287.910437)scale(0.1 -0.1)\">\n       <defs>\n        <path d=\"M 33.015625 40.375 \nQ 26.375 40.375 22.484375 35.828125 \nQ 18.609375 31.296875 18.609375 23.390625 \nQ 18.609375 15.53125 22.484375 10.953125 \nQ 26.375 6.390625 33.015625 6.390625 \nQ 39.65625 6.390625 43.53125 10.953125 \nQ 47.40625 15.53125 47.40625 23.390625 \nQ 47.40625 31.296875 43.53125 35.828125 \nQ 39.65625 40.375 33.015625 40.375 \nz\nM 52.59375 71.296875 \nL 52.59375 62.3125 \nQ 48.875 64.0625 45.09375 64.984375 \nQ 41.3125 65.921875 37.59375 65.921875 \nQ 27.828125 65.921875 22.671875 59.328125 \nQ 17.53125 52.734375 16.796875 39.40625 \nQ 19.671875 43.65625 24.015625 45.921875 \nQ 28.375 48.1875 33.59375 48.1875 \nQ 44.578125 48.1875 50.953125 41.515625 \nQ 57.328125 34.859375 57.328125 23.390625 \nQ 57.328125 12.15625 50.6875 5.359375 \nQ 44.046875 -1.421875 33.015625 -1.421875 \nQ 20.359375 -1.421875 13.671875 8.265625 \nQ 6.984375 17.96875 6.984375 36.375 \nQ 6.984375 53.65625 15.1875 63.9375 \nQ 23.390625 74.21875 37.203125 74.21875 \nQ 40.921875 74.21875 44.703125 73.484375 \nQ 48.484375 72.75 52.59375 71.296875 \nz\n\" id=\"DejaVuSans-54\"/>\n       </defs>\n       <use xlink:href=\"#DejaVuSans-54\"/>\n      </g>\n     </g>\n    </g>\n    <g id=\"xtick_8\">\n     <g id=\"line2d_8\">\n      <g>\n       <use style=\"stroke:#000000;stroke-width:0.8;\" x=\"338.788267\" xlink:href=\"#m1cbb683f40\" y=\"273.312\"/>\n      </g>\n     </g>\n     <g id=\"text_8\">\n      <!-- 7 -->\n      <g transform=\"translate(335.607017 287.910437)scale(0.1 -0.1)\">\n       <defs>\n        <path d=\"M 8.203125 72.90625 \nL 55.078125 72.90625 \nL 55.078125 68.703125 \nL 28.609375 0 \nL 18.3125 0 \nL 43.21875 64.59375 \nL 8.203125 64.59375 \nz\n\" id=\"DejaVuSans-55\"/>\n       </defs>\n       <use xlink:href=\"#DejaVuSans-55\"/>\n      </g>\n     </g>\n    </g>\n    <g id=\"xtick_9\">\n     <g id=\"line2d_9\">\n      <g>\n       <use style=\"stroke:#000000;stroke-width:0.8;\" x=\"379.370085\" xlink:href=\"#m1cbb683f40\" y=\"273.312\"/>\n      </g>\n     </g>\n     <g id=\"text_9\">\n      <!-- 8 -->\n      <g transform=\"translate(376.188835 287.910437)scale(0.1 -0.1)\">\n       <defs>\n        <path d=\"M 31.78125 34.625 \nQ 24.75 34.625 20.71875 30.859375 \nQ 16.703125 27.09375 16.703125 20.515625 \nQ 16.703125 13.921875 20.71875 10.15625 \nQ 24.75 6.390625 31.78125 6.390625 \nQ 38.8125 6.390625 42.859375 10.171875 \nQ 46.921875 13.96875 46.921875 20.515625 \nQ 46.921875 27.09375 42.890625 30.859375 \nQ 38.875 34.625 31.78125 34.625 \nz\nM 21.921875 38.8125 \nQ 15.578125 40.375 12.03125 44.71875 \nQ 8.5 49.078125 8.5 55.328125 \nQ 8.5 64.0625 14.71875 69.140625 \nQ 20.953125 74.21875 31.78125 74.21875 \nQ 42.671875 74.21875 48.875 69.140625 \nQ 55.078125 64.0625 55.078125 55.328125 \nQ 55.078125 49.078125 51.53125 44.71875 \nQ 48 40.375 41.703125 38.8125 \nQ 48.828125 37.15625 52.796875 32.3125 \nQ 56.78125 27.484375 56.78125 20.515625 \nQ 56.78125 9.90625 50.3125 4.234375 \nQ 43.84375 -1.421875 31.78125 -1.421875 \nQ 19.734375 -1.421875 13.25 4.234375 \nQ 6.78125 9.90625 6.78125 20.515625 \nQ 6.78125 27.484375 10.78125 32.3125 \nQ 14.796875 37.15625 21.921875 38.8125 \nz\nM 18.3125 54.390625 \nQ 18.3125 48.734375 21.84375 45.5625 \nQ 25.390625 42.390625 31.78125 42.390625 \nQ 38.140625 42.390625 41.71875 45.5625 \nQ 45.3125 48.734375 45.3125 54.390625 \nQ 45.3125 60.0625 41.71875 63.234375 \nQ 38.140625 66.40625 31.78125 66.40625 \nQ 25.390625 66.40625 21.84375 63.234375 \nQ 18.3125 60.0625 18.3125 54.390625 \nz\n\" id=\"DejaVuSans-56\"/>\n       </defs>\n       <use xlink:href=\"#DejaVuSans-56\"/>\n      </g>\n     </g>\n    </g>\n   </g>\n   <g id=\"matplotlib.axis_2\">\n    <g id=\"ytick_1\">\n     <g id=\"line2d_10\">\n      <defs>\n       <path d=\"M 0 0 \nL -3.5 0 \n\" id=\"me75ab2bc01\" style=\"stroke:#000000;stroke-width:0.8;\"/>\n      </defs>\n      <g>\n       <use style=\"stroke:#000000;stroke-width:0.8;\" x=\"38.482813\" xlink:href=\"#me75ab2bc01\" y=\"251.948214\"/>\n      </g>\n     </g>\n     <g id=\"text_10\">\n      <!-- −0.6 -->\n      <g transform=\"translate(7.2 255.747433)scale(0.1 -0.1)\">\n       <defs>\n        <path d=\"M 10.59375 35.5 \nL 73.1875 35.5 \nL 73.1875 27.203125 \nL 10.59375 27.203125 \nz\n\" id=\"DejaVuSans-8722\"/>\n        <path d=\"M 10.6875 12.40625 \nL 21 12.40625 \nL 21 0 \nL 10.6875 0 \nz\n\" id=\"DejaVuSans-46\"/>\n       </defs>\n       <use xlink:href=\"#DejaVuSans-8722\"/>\n       <use x=\"83.789062\" xlink:href=\"#DejaVuSans-48\"/>\n       <use x=\"147.412109\" xlink:href=\"#DejaVuSans-46\"/>\n       <use x=\"179.199219\" xlink:href=\"#DejaVuSans-54\"/>\n      </g>\n     </g>\n    </g>\n    <g id=\"ytick_2\">\n     <g id=\"line2d_11\">\n      <g>\n       <use style=\"stroke:#000000;stroke-width:0.8;\" x=\"38.482813\" xlink:href=\"#me75ab2bc01\" y=\"216.730125\"/>\n      </g>\n     </g>\n     <g id=\"text_11\">\n      <!-- −0.4 -->\n      <g transform=\"translate(7.2 220.529344)scale(0.1 -0.1)\">\n       <use xlink:href=\"#DejaVuSans-8722\"/>\n       <use x=\"83.789062\" xlink:href=\"#DejaVuSans-48\"/>\n       <use x=\"147.412109\" xlink:href=\"#DejaVuSans-46\"/>\n       <use x=\"179.199219\" xlink:href=\"#DejaVuSans-52\"/>\n      </g>\n     </g>\n    </g>\n    <g id=\"ytick_3\">\n     <g id=\"line2d_12\">\n      <g>\n       <use style=\"stroke:#000000;stroke-width:0.8;\" x=\"38.482813\" xlink:href=\"#me75ab2bc01\" y=\"181.512036\"/>\n      </g>\n     </g>\n     <g id=\"text_12\">\n      <!-- −0.2 -->\n      <g transform=\"translate(7.2 185.311255)scale(0.1 -0.1)\">\n       <use xlink:href=\"#DejaVuSans-8722\"/>\n       <use x=\"83.789062\" xlink:href=\"#DejaVuSans-48\"/>\n       <use x=\"147.412109\" xlink:href=\"#DejaVuSans-46\"/>\n       <use x=\"179.199219\" xlink:href=\"#DejaVuSans-50\"/>\n      </g>\n     </g>\n    </g>\n    <g id=\"ytick_4\">\n     <g id=\"line2d_13\">\n      <g>\n       <use style=\"stroke:#000000;stroke-width:0.8;\" x=\"38.482813\" xlink:href=\"#me75ab2bc01\" y=\"146.293947\"/>\n      </g>\n     </g>\n     <g id=\"text_13\">\n      <!-- 0.0 -->\n      <g transform=\"translate(15.579688 150.093166)scale(0.1 -0.1)\">\n       <use xlink:href=\"#DejaVuSans-48\"/>\n       <use x=\"63.623047\" xlink:href=\"#DejaVuSans-46\"/>\n       <use x=\"95.410156\" xlink:href=\"#DejaVuSans-48\"/>\n      </g>\n     </g>\n    </g>\n    <g id=\"ytick_5\">\n     <g id=\"line2d_14\">\n      <g>\n       <use style=\"stroke:#000000;stroke-width:0.8;\" x=\"38.482813\" xlink:href=\"#me75ab2bc01\" y=\"111.075858\"/>\n      </g>\n     </g>\n     <g id=\"text_14\">\n      <!-- 0.2 -->\n      <g transform=\"translate(15.579688 114.875077)scale(0.1 -0.1)\">\n       <use xlink:href=\"#DejaVuSans-48\"/>\n       <use x=\"63.623047\" xlink:href=\"#DejaVuSans-46\"/>\n       <use x=\"95.410156\" xlink:href=\"#DejaVuSans-50\"/>\n      </g>\n     </g>\n    </g>\n    <g id=\"ytick_6\">\n     <g id=\"line2d_15\">\n      <g>\n       <use style=\"stroke:#000000;stroke-width:0.8;\" x=\"38.482813\" xlink:href=\"#me75ab2bc01\" y=\"75.857769\"/>\n      </g>\n     </g>\n     <g id=\"text_15\">\n      <!-- 0.4 -->\n      <g transform=\"translate(15.579688 79.656988)scale(0.1 -0.1)\">\n       <use xlink:href=\"#DejaVuSans-48\"/>\n       <use x=\"63.623047\" xlink:href=\"#DejaVuSans-46\"/>\n       <use x=\"95.410156\" xlink:href=\"#DejaVuSans-52\"/>\n      </g>\n     </g>\n    </g>\n    <g id=\"ytick_7\">\n     <g id=\"line2d_16\">\n      <g>\n       <use style=\"stroke:#000000;stroke-width:0.8;\" x=\"38.482813\" xlink:href=\"#me75ab2bc01\" y=\"40.63968\"/>\n      </g>\n     </g>\n     <g id=\"text_16\">\n      <!-- 0.6 -->\n      <g transform=\"translate(15.579688 44.438899)scale(0.1 -0.1)\">\n       <use xlink:href=\"#DejaVuSans-48\"/>\n       <use x=\"63.623047\" xlink:href=\"#DejaVuSans-46\"/>\n       <use x=\"95.410156\" xlink:href=\"#DejaVuSans-54\"/>\n      </g>\n     </g>\n    </g>\n   </g>\n   <g id=\"line2d_17\">\n    <defs>\n     <path d=\"M 0 3 \nC 0.795609 3 1.55874 2.683901 2.12132 2.12132 \nC 2.683901 1.55874 3 0.795609 3 0 \nC 3 -0.795609 2.683901 -1.55874 2.12132 -2.12132 \nC 1.55874 -2.683901 0.795609 -3 0 -3 \nC -0.795609 -3 -1.55874 -2.683901 -2.12132 -2.12132 \nC -2.683901 -1.55874 -3 -0.795609 -3 0 \nC -3 0.795609 -2.683901 1.55874 -2.12132 2.12132 \nC -1.55874 2.683901 -0.795609 3 0 3 \nz\n\" id=\"m15722dd21f\" style=\"stroke:#1f77b4;\"/>\n    </defs>\n    <g clip-path=\"url(#pb80414c00e)\">\n     <use style=\"fill:#1f77b4;stroke:#1f77b4;\" x=\"54.71554\" xlink:href=\"#m15722dd21f\" y=\"261.216\"/>\n     <use style=\"fill:#1f77b4;stroke:#1f77b4;\" x=\"95.297358\" xlink:href=\"#m15722dd21f\" y=\"144.001597\"/>\n     <use style=\"fill:#1f77b4;stroke:#1f77b4;\" x=\"135.879176\" xlink:href=\"#m15722dd21f\" y=\"70.035468\"/>\n     <use style=\"fill:#1f77b4;stroke:#1f77b4;\" x=\"176.460994\" xlink:href=\"#m15722dd21f\" y=\"229.08957\"/>\n     <use style=\"fill:#1f77b4;stroke:#1f77b4;\" x=\"217.042812\" xlink:href=\"#m15722dd21f\" y=\"19.296\"/>\n     <use style=\"fill:#1f77b4;stroke:#1f77b4;\" x=\"257.624631\" xlink:href=\"#m15722dd21f\" y=\"125.078444\"/>\n     <use style=\"fill:#1f77b4;stroke:#1f77b4;\" x=\"298.206449\" xlink:href=\"#m15722dd21f\" y=\"179.98005\"/>\n     <use style=\"fill:#1f77b4;stroke:#1f77b4;\" x=\"338.788267\" xlink:href=\"#m15722dd21f\" y=\"213.350023\"/>\n     <use style=\"fill:#1f77b4;stroke:#1f77b4;\" x=\"379.370085\" xlink:href=\"#m15722dd21f\" y=\"120.883089\"/>\n    </g>\n   </g>\n   <g id=\"patch_3\">\n    <path d=\"M 38.482813 273.312 \nL 38.482813 7.2 \n\" style=\"fill:none;stroke:#000000;stroke-linecap:square;stroke-linejoin:miter;stroke-width:0.8;\"/>\n   </g>\n   <g id=\"patch_4\">\n    <path d=\"M 395.602813 273.312 \nL 395.602813 7.2 \n\" style=\"fill:none;stroke:#000000;stroke-linecap:square;stroke-linejoin:miter;stroke-width:0.8;\"/>\n   </g>\n   <g id=\"patch_5\">\n    <path d=\"M 38.482813 273.312 \nL 395.602813 273.312 \n\" style=\"fill:none;stroke:#000000;stroke-linecap:square;stroke-linejoin:miter;stroke-width:0.8;\"/>\n   </g>\n   <g id=\"patch_6\">\n    <path d=\"M 38.482813 7.2 \nL 395.602813 7.2 \n\" style=\"fill:none;stroke:#000000;stroke-linecap:square;stroke-linejoin:miter;stroke-width:0.8;\"/>\n   </g>\n  </g>\n </g>\n <defs>\n  <clipPath id=\"pb80414c00e\">\n   <rect height=\"266.112\" width=\"357.12\" x=\"38.482813\" y=\"7.2\"/>\n  </clipPath>\n </defs>\n</svg>\n",
      "image/png": "[encoded data removed]"
     },
     "metadata": {}
    }
   ],
   "source": [
    "plt.plot((winLossPerYear.corrwith(totalBidPerYear16, axis=0).to_numpy()), 'o')\n"
   ]
  },
  {
   "cell_type": "code",
   "execution_count": 409,
   "metadata": {},
   "outputs": [
    {
     "output_type": "execute_result",
     "data": {
      "text/plain": [
       "2008   -0.652631\n",
       "2009    0.013018\n",
       "2010    0.433064\n",
       "2011   -0.470188\n",
       "2012    0.721209\n",
       "2013    0.120481\n",
       "2014   -0.191300\n",
       "2015   -0.380805\n",
       "2016    0.144306\n",
       "dtype: float64"
      ]
     },
     "metadata": {},
     "execution_count": 409
    }
   ],
   "source": [
    "winLossPerYear.corrwith(totalBidPerYear16, axis=0)"
   ]
  },
  {
   "cell_type": "code",
   "execution_count": 438,
   "metadata": {},
   "outputs": [
    {
     "output_type": "execute_result",
     "data": {
      "text/plain": [
       "[<matplotlib.lines.Line2D at 0x14d021850>]"
      ]
     },
     "metadata": {},
     "execution_count": 438
    },
    {
     "output_type": "display_data",
     "data": {
      "text/plain": "<Figure size 640x480 with 1 Axes>",
      "image/svg+xml": "<?xml version=\"1.0\" encoding=\"utf-8\" standalone=\"no\"?>\n<!DOCTYPE svg PUBLIC \"-//W3C//DTD SVG 1.1//EN\"\n  \"http://www.w3.org/Graphics/SVG/1.1/DTD/svg11.dtd\">\n<!-- Created with matplotlib (https://matplotlib.org/) -->\n<svg height=\"297.190125pt\" version=\"1.1\" viewBox=\"0 0 402.802812 297.190125\" width=\"402.802812pt\" xmlns=\"http://www.w3.org/2000/svg\" xmlns:xlink=\"http://www.w3.org/1999/xlink\">\n <metadata>\n  <rdf:RDF xmlns:cc=\"http://creativecommons.org/ns#\" xmlns:dc=\"http://purl.org/dc/elements/1.1/\" xmlns:rdf=\"http://www.w3.org/1999/02/22-rdf-syntax-ns#\">\n   <cc:Work>\n    <dc:type rdf:resource=\"http://purl.org/dc/dcmitype/StillImage\"/>\n    <dc:date>2022-11-20T04:07:28.943364</dc:date>\n    <dc:format>image/svg+xml</dc:format>\n    <dc:creator>\n     <cc:Agent>\n      <dc:title>Matplotlib v3.3.2, https://matplotlib.org/</dc:title>\n     </cc:Agent>\n    </dc:creator>\n   </cc:Work>\n  </rdf:RDF>\n </metadata>\n <defs>\n  <style type=\"text/css\">*{stroke-linecap:butt;stroke-linejoin:round;}</style>\n </defs>\n <g id=\"figure_1\">\n  <g id=\"patch_1\">\n   <path d=\"M 0 297.190125 \nL 402.802812 297.190125 \nL 402.802812 0 \nL 0 0 \nz\n\" style=\"fill:#ffffff;\"/>\n  </g>\n  <g id=\"axes_1\">\n   <g id=\"patch_2\">\n    <path d=\"M 38.482813 273.312 \nL 395.602813 273.312 \nL 395.602813 7.2 \nL 38.482813 7.2 \nz\n\" style=\"fill:#ffffff;\"/>\n   </g>\n   <g id=\"matplotlib.axis_1\">\n    <g id=\"xtick_1\">\n     <g id=\"line2d_1\">\n      <defs>\n       <path d=\"M 0 0 \nL 0 3.5 \n\" id=\"m453b63284d\" style=\"stroke:#000000;stroke-width:0.8;\"/>\n      </defs>\n      <g>\n       <use style=\"stroke:#000000;stroke-width:0.8;\" x=\"54.71554\" xlink:href=\"#m453b63284d\" y=\"273.312\"/>\n      </g>\n     </g>\n     <g id=\"text_1\">\n      <!-- 0 -->\n      <g transform=\"translate(51.53429 287.910437)scale(0.1 -0.1)\">\n       <defs>\n        <path d=\"M 31.78125 66.40625 \nQ 24.171875 66.40625 20.328125 58.90625 \nQ 16.5 51.421875 16.5 36.375 \nQ 16.5 21.390625 20.328125 13.890625 \nQ 24.171875 6.390625 31.78125 6.390625 \nQ 39.453125 6.390625 43.28125 13.890625 \nQ 47.125 21.390625 47.125 36.375 \nQ 47.125 51.421875 43.28125 58.90625 \nQ 39.453125 66.40625 31.78125 66.40625 \nz\nM 31.78125 74.21875 \nQ 44.046875 74.21875 50.515625 64.515625 \nQ 56.984375 54.828125 56.984375 36.375 \nQ 56.984375 17.96875 50.515625 8.265625 \nQ 44.046875 -1.421875 31.78125 -1.421875 \nQ 19.53125 -1.421875 13.0625 8.265625 \nQ 6.59375 17.96875 6.59375 36.375 \nQ 6.59375 54.828125 13.0625 64.515625 \nQ 19.53125 74.21875 31.78125 74.21875 \nz\n\" id=\"DejaVuSans-48\"/>\n       </defs>\n       <use xlink:href=\"#DejaVuSans-48\"/>\n      </g>\n     </g>\n    </g>\n    <g id=\"xtick_2\">\n     <g id=\"line2d_2\">\n      <g>\n       <use style=\"stroke:#000000;stroke-width:0.8;\" x=\"119.646449\" xlink:href=\"#m453b63284d\" y=\"273.312\"/>\n      </g>\n     </g>\n     <g id=\"text_2\">\n      <!-- 2 -->\n      <g transform=\"translate(116.465199 287.910437)scale(0.1 -0.1)\">\n       <defs>\n        <path d=\"M 19.1875 8.296875 \nL 53.609375 8.296875 \nL 53.609375 0 \nL 7.328125 0 \nL 7.328125 8.296875 \nQ 12.9375 14.109375 22.625 23.890625 \nQ 32.328125 33.6875 34.8125 36.53125 \nQ 39.546875 41.84375 41.421875 45.53125 \nQ 43.3125 49.21875 43.3125 52.78125 \nQ 43.3125 58.59375 39.234375 62.25 \nQ 35.15625 65.921875 28.609375 65.921875 \nQ 23.96875 65.921875 18.8125 64.3125 \nQ 13.671875 62.703125 7.8125 59.421875 \nL 7.8125 69.390625 \nQ 13.765625 71.78125 18.9375 73 \nQ 24.125 74.21875 28.421875 74.21875 \nQ 39.75 74.21875 46.484375 68.546875 \nQ 53.21875 62.890625 53.21875 53.421875 \nQ 53.21875 48.921875 51.53125 44.890625 \nQ 49.859375 40.875 45.40625 35.40625 \nQ 44.1875 33.984375 37.640625 27.21875 \nQ 31.109375 20.453125 19.1875 8.296875 \nz\n\" id=\"DejaVuSans-50\"/>\n       </defs>\n       <use xlink:href=\"#DejaVuSans-50\"/>\n      </g>\n     </g>\n    </g>\n    <g id=\"xtick_3\">\n     <g id=\"line2d_3\">\n      <g>\n       <use style=\"stroke:#000000;stroke-width:0.8;\" x=\"184.577358\" xlink:href=\"#m453b63284d\" y=\"273.312\"/>\n      </g>\n     </g>\n     <g id=\"text_3\">\n      <!-- 4 -->\n      <g transform=\"translate(181.396108 287.910437)scale(0.1 -0.1)\">\n       <defs>\n        <path d=\"M 37.796875 64.3125 \nL 12.890625 25.390625 \nL 37.796875 25.390625 \nz\nM 35.203125 72.90625 \nL 47.609375 72.90625 \nL 47.609375 25.390625 \nL 58.015625 25.390625 \nL 58.015625 17.1875 \nL 47.609375 17.1875 \nL 47.609375 0 \nL 37.796875 0 \nL 37.796875 17.1875 \nL 4.890625 17.1875 \nL 4.890625 26.703125 \nz\n\" id=\"DejaVuSans-52\"/>\n       </defs>\n       <use xlink:href=\"#DejaVuSans-52\"/>\n      </g>\n     </g>\n    </g>\n    <g id=\"xtick_4\">\n     <g id=\"line2d_4\">\n      <g>\n       <use style=\"stroke:#000000;stroke-width:0.8;\" x=\"249.508267\" xlink:href=\"#m453b63284d\" y=\"273.312\"/>\n      </g>\n     </g>\n     <g id=\"text_4\">\n      <!-- 6 -->\n      <g transform=\"translate(246.327017 287.910437)scale(0.1 -0.1)\">\n       <defs>\n        <path d=\"M 33.015625 40.375 \nQ 26.375 40.375 22.484375 35.828125 \nQ 18.609375 31.296875 18.609375 23.390625 \nQ 18.609375 15.53125 22.484375 10.953125 \nQ 26.375 6.390625 33.015625 6.390625 \nQ 39.65625 6.390625 43.53125 10.953125 \nQ 47.40625 15.53125 47.40625 23.390625 \nQ 47.40625 31.296875 43.53125 35.828125 \nQ 39.65625 40.375 33.015625 40.375 \nz\nM 52.59375 71.296875 \nL 52.59375 62.3125 \nQ 48.875 64.0625 45.09375 64.984375 \nQ 41.3125 65.921875 37.59375 65.921875 \nQ 27.828125 65.921875 22.671875 59.328125 \nQ 17.53125 52.734375 16.796875 39.40625 \nQ 19.671875 43.65625 24.015625 45.921875 \nQ 28.375 48.1875 33.59375 48.1875 \nQ 44.578125 48.1875 50.953125 41.515625 \nQ 57.328125 34.859375 57.328125 23.390625 \nQ 57.328125 12.15625 50.6875 5.359375 \nQ 44.046875 -1.421875 33.015625 -1.421875 \nQ 20.359375 -1.421875 13.671875 8.265625 \nQ 6.984375 17.96875 6.984375 36.375 \nQ 6.984375 53.65625 15.1875 63.9375 \nQ 23.390625 74.21875 37.203125 74.21875 \nQ 40.921875 74.21875 44.703125 73.484375 \nQ 48.484375 72.75 52.59375 71.296875 \nz\n\" id=\"DejaVuSans-54\"/>\n       </defs>\n       <use xlink:href=\"#DejaVuSans-54\"/>\n      </g>\n     </g>\n    </g>\n    <g id=\"xtick_5\">\n     <g id=\"line2d_5\">\n      <g>\n       <use style=\"stroke:#000000;stroke-width:0.8;\" x=\"314.439176\" xlink:href=\"#m453b63284d\" y=\"273.312\"/>\n      </g>\n     </g>\n     <g id=\"text_5\">\n      <!-- 8 -->\n      <g transform=\"translate(311.257926 287.910437)scale(0.1 -0.1)\">\n       <defs>\n        <path d=\"M 31.78125 34.625 \nQ 24.75 34.625 20.71875 30.859375 \nQ 16.703125 27.09375 16.703125 20.515625 \nQ 16.703125 13.921875 20.71875 10.15625 \nQ 24.75 6.390625 31.78125 6.390625 \nQ 38.8125 6.390625 42.859375 10.171875 \nQ 46.921875 13.96875 46.921875 20.515625 \nQ 46.921875 27.09375 42.890625 30.859375 \nQ 38.875 34.625 31.78125 34.625 \nz\nM 21.921875 38.8125 \nQ 15.578125 40.375 12.03125 44.71875 \nQ 8.5 49.078125 8.5 55.328125 \nQ 8.5 64.0625 14.71875 69.140625 \nQ 20.953125 74.21875 31.78125 74.21875 \nQ 42.671875 74.21875 48.875 69.140625 \nQ 55.078125 64.0625 55.078125 55.328125 \nQ 55.078125 49.078125 51.53125 44.71875 \nQ 48 40.375 41.703125 38.8125 \nQ 48.828125 37.15625 52.796875 32.3125 \nQ 56.78125 27.484375 56.78125 20.515625 \nQ 56.78125 9.90625 50.3125 4.234375 \nQ 43.84375 -1.421875 31.78125 -1.421875 \nQ 19.734375 -1.421875 13.25 4.234375 \nQ 6.78125 9.90625 6.78125 20.515625 \nQ 6.78125 27.484375 10.78125 32.3125 \nQ 14.796875 37.15625 21.921875 38.8125 \nz\nM 18.3125 54.390625 \nQ 18.3125 48.734375 21.84375 45.5625 \nQ 25.390625 42.390625 31.78125 42.390625 \nQ 38.140625 42.390625 41.71875 45.5625 \nQ 45.3125 48.734375 45.3125 54.390625 \nQ 45.3125 60.0625 41.71875 63.234375 \nQ 38.140625 66.40625 31.78125 66.40625 \nQ 25.390625 66.40625 21.84375 63.234375 \nQ 18.3125 60.0625 18.3125 54.390625 \nz\n\" id=\"DejaVuSans-56\"/>\n       </defs>\n       <use xlink:href=\"#DejaVuSans-56\"/>\n      </g>\n     </g>\n    </g>\n    <g id=\"xtick_6\">\n     <g id=\"line2d_6\">\n      <g>\n       <use style=\"stroke:#000000;stroke-width:0.8;\" x=\"379.370085\" xlink:href=\"#m453b63284d\" y=\"273.312\"/>\n      </g>\n     </g>\n     <g id=\"text_6\">\n      <!-- 10 -->\n      <g transform=\"translate(373.007585 287.910437)scale(0.1 -0.1)\">\n       <defs>\n        <path d=\"M 12.40625 8.296875 \nL 28.515625 8.296875 \nL 28.515625 63.921875 \nL 10.984375 60.40625 \nL 10.984375 69.390625 \nL 28.421875 72.90625 \nL 38.28125 72.90625 \nL 38.28125 8.296875 \nL 54.390625 8.296875 \nL 54.390625 0 \nL 12.40625 0 \nz\n\" id=\"DejaVuSans-49\"/>\n       </defs>\n       <use xlink:href=\"#DejaVuSans-49\"/>\n       <use x=\"63.623047\" xlink:href=\"#DejaVuSans-48\"/>\n      </g>\n     </g>\n    </g>\n   </g>\n   <g id=\"matplotlib.axis_2\">\n    <g id=\"ytick_1\">\n     <g id=\"line2d_7\">\n      <defs>\n       <path d=\"M 0 0 \nL -3.5 0 \n\" id=\"mcb1a84a91c\" style=\"stroke:#000000;stroke-width:0.8;\"/>\n      </defs>\n      <g>\n       <use style=\"stroke:#000000;stroke-width:0.8;\" x=\"38.482813\" xlink:href=\"#mcb1a84a91c\" y=\"266.240707\"/>\n      </g>\n     </g>\n     <g id=\"text_7\">\n      <!-- −0.6 -->\n      <g transform=\"translate(7.2 270.039926)scale(0.1 -0.1)\">\n       <defs>\n        <path d=\"M 10.59375 35.5 \nL 73.1875 35.5 \nL 73.1875 27.203125 \nL 10.59375 27.203125 \nz\n\" id=\"DejaVuSans-8722\"/>\n        <path d=\"M 10.6875 12.40625 \nL 21 12.40625 \nL 21 0 \nL 10.6875 0 \nz\n\" id=\"DejaVuSans-46\"/>\n       </defs>\n       <use xlink:href=\"#DejaVuSans-8722\"/>\n       <use x=\"83.789062\" xlink:href=\"#DejaVuSans-48\"/>\n       <use x=\"147.412109\" xlink:href=\"#DejaVuSans-46\"/>\n       <use x=\"179.199219\" xlink:href=\"#DejaVuSans-54\"/>\n      </g>\n     </g>\n    </g>\n    <g id=\"ytick_2\">\n     <g id=\"line2d_8\">\n      <g>\n       <use style=\"stroke:#000000;stroke-width:0.8;\" x=\"38.482813\" xlink:href=\"#mcb1a84a91c\" y=\"234.642405\"/>\n      </g>\n     </g>\n     <g id=\"text_8\">\n      <!-- −0.4 -->\n      <g transform=\"translate(7.2 238.441624)scale(0.1 -0.1)\">\n       <use xlink:href=\"#DejaVuSans-8722\"/>\n       <use x=\"83.789062\" xlink:href=\"#DejaVuSans-48\"/>\n       <use x=\"147.412109\" xlink:href=\"#DejaVuSans-46\"/>\n       <use x=\"179.199219\" xlink:href=\"#DejaVuSans-52\"/>\n      </g>\n     </g>\n    </g>\n    <g id=\"ytick_3\">\n     <g id=\"line2d_9\">\n      <g>\n       <use style=\"stroke:#000000;stroke-width:0.8;\" x=\"38.482813\" xlink:href=\"#mcb1a84a91c\" y=\"203.044103\"/>\n      </g>\n     </g>\n     <g id=\"text_9\">\n      <!-- −0.2 -->\n      <g transform=\"translate(7.2 206.843321)scale(0.1 -0.1)\">\n       <use xlink:href=\"#DejaVuSans-8722\"/>\n       <use x=\"83.789062\" xlink:href=\"#DejaVuSans-48\"/>\n       <use x=\"147.412109\" xlink:href=\"#DejaVuSans-46\"/>\n       <use x=\"179.199219\" xlink:href=\"#DejaVuSans-50\"/>\n      </g>\n     </g>\n    </g>\n    <g id=\"ytick_4\">\n     <g id=\"line2d_10\">\n      <g>\n       <use style=\"stroke:#000000;stroke-width:0.8;\" x=\"38.482813\" xlink:href=\"#mcb1a84a91c\" y=\"171.4458\"/>\n      </g>\n     </g>\n     <g id=\"text_10\">\n      <!-- 0.0 -->\n      <g transform=\"translate(15.579688 175.245019)scale(0.1 -0.1)\">\n       <use xlink:href=\"#DejaVuSans-48\"/>\n       <use x=\"63.623047\" xlink:href=\"#DejaVuSans-46\"/>\n       <use x=\"95.410156\" xlink:href=\"#DejaVuSans-48\"/>\n      </g>\n     </g>\n    </g>\n    <g id=\"ytick_5\">\n     <g id=\"line2d_11\">\n      <g>\n       <use style=\"stroke:#000000;stroke-width:0.8;\" x=\"38.482813\" xlink:href=\"#mcb1a84a91c\" y=\"139.847498\"/>\n      </g>\n     </g>\n     <g id=\"text_11\">\n      <!-- 0.2 -->\n      <g transform=\"translate(15.579688 143.646717)scale(0.1 -0.1)\">\n       <use xlink:href=\"#DejaVuSans-48\"/>\n       <use x=\"63.623047\" xlink:href=\"#DejaVuSans-46\"/>\n       <use x=\"95.410156\" xlink:href=\"#DejaVuSans-50\"/>\n      </g>\n     </g>\n    </g>\n    <g id=\"ytick_6\">\n     <g id=\"line2d_12\">\n      <g>\n       <use style=\"stroke:#000000;stroke-width:0.8;\" x=\"38.482813\" xlink:href=\"#mcb1a84a91c\" y=\"108.249196\"/>\n      </g>\n     </g>\n     <g id=\"text_12\">\n      <!-- 0.4 -->\n      <g transform=\"translate(15.579688 112.048414)scale(0.1 -0.1)\">\n       <use xlink:href=\"#DejaVuSans-48\"/>\n       <use x=\"63.623047\" xlink:href=\"#DejaVuSans-46\"/>\n       <use x=\"95.410156\" xlink:href=\"#DejaVuSans-52\"/>\n      </g>\n     </g>\n    </g>\n    <g id=\"ytick_7\">\n     <g id=\"line2d_13\">\n      <g>\n       <use style=\"stroke:#000000;stroke-width:0.8;\" x=\"38.482813\" xlink:href=\"#mcb1a84a91c\" y=\"76.650893\"/>\n      </g>\n     </g>\n     <g id=\"text_13\">\n      <!-- 0.6 -->\n      <g transform=\"translate(15.579688 80.450112)scale(0.1 -0.1)\">\n       <use xlink:href=\"#DejaVuSans-48\"/>\n       <use x=\"63.623047\" xlink:href=\"#DejaVuSans-46\"/>\n       <use x=\"95.410156\" xlink:href=\"#DejaVuSans-54\"/>\n      </g>\n     </g>\n    </g>\n    <g id=\"ytick_8\">\n     <g id=\"line2d_14\">\n      <g>\n       <use style=\"stroke:#000000;stroke-width:0.8;\" x=\"38.482813\" xlink:href=\"#mcb1a84a91c\" y=\"45.052591\"/>\n      </g>\n     </g>\n     <g id=\"text_14\">\n      <!-- 0.8 -->\n      <g transform=\"translate(15.579688 48.85181)scale(0.1 -0.1)\">\n       <use xlink:href=\"#DejaVuSans-48\"/>\n       <use x=\"63.623047\" xlink:href=\"#DejaVuSans-46\"/>\n       <use x=\"95.410156\" xlink:href=\"#DejaVuSans-56\"/>\n      </g>\n     </g>\n    </g>\n    <g id=\"ytick_9\">\n     <g id=\"line2d_15\">\n      <g>\n       <use style=\"stroke:#000000;stroke-width:0.8;\" x=\"38.482813\" xlink:href=\"#mcb1a84a91c\" y=\"13.454289\"/>\n      </g>\n     </g>\n     <g id=\"text_15\">\n      <!-- 1.0 -->\n      <g transform=\"translate(15.579688 17.253507)scale(0.1 -0.1)\">\n       <use xlink:href=\"#DejaVuSans-49\"/>\n       <use x=\"63.623047\" xlink:href=\"#DejaVuSans-46\"/>\n       <use x=\"95.410156\" xlink:href=\"#DejaVuSans-48\"/>\n      </g>\n     </g>\n    </g>\n   </g>\n   <g id=\"line2d_16\">\n    <defs>\n     <path d=\"M 0 3 \nC 0.795609 3 1.55874 2.683901 2.12132 2.12132 \nC 2.683901 1.55874 3 0.795609 3 0 \nC 3 -0.795609 2.683901 -1.55874 2.12132 -2.12132 \nC 1.55874 -2.683901 0.795609 -3 0 -3 \nC -0.795609 -3 -1.55874 -2.683901 -2.12132 -2.12132 \nC -2.683901 -1.55874 -3 -0.795609 -3 0 \nC -3 0.795609 -2.683901 1.55874 -2.12132 2.12132 \nC -1.55874 2.683901 -0.795609 3 0 3 \nz\n\" id=\"mb23559339d\" style=\"stroke:#1f77b4;\"/>\n    </defs>\n    <g clip-path=\"url(#p143ea988b6)\">\n     <use style=\"fill:#1f77b4;stroke:#1f77b4;\" x=\"54.71554\" xlink:href=\"#mb23559339d\" y=\"139.349271\"/>\n     <use style=\"fill:#1f77b4;stroke:#1f77b4;\" x=\"87.180994\" xlink:href=\"#mb23559339d\" y=\"146.22863\"/>\n     <use style=\"fill:#1f77b4;stroke:#1f77b4;\" x=\"119.646449\" xlink:href=\"#mb23559339d\" y=\"103.363121\"/>\n     <use style=\"fill:#1f77b4;stroke:#1f77b4;\" x=\"152.111903\" xlink:href=\"#mb23559339d\" y=\"205.327328\"/>\n     <use style=\"fill:#1f77b4;stroke:#1f77b4;\" x=\"184.577358\" xlink:href=\"#mb23559339d\" y=\"250.072269\"/>\n     <use style=\"fill:#1f77b4;stroke:#1f77b4;\" x=\"217.042813\" xlink:href=\"#mb23559339d\" y=\"72.779013\"/>\n     <use style=\"fill:#1f77b4;stroke:#1f77b4;\" x=\"249.508267\" xlink:href=\"#mb23559339d\" y=\"153.847206\"/>\n     <use style=\"fill:#1f77b4;stroke:#1f77b4;\" x=\"281.973722\" xlink:href=\"#mb23559339d\" y=\"261.216\"/>\n     <use style=\"fill:#1f77b4;stroke:#1f77b4;\" x=\"346.904631\" xlink:href=\"#mb23559339d\" y=\"19.296\"/>\n     <use style=\"fill:#1f77b4;stroke:#1f77b4;\" x=\"379.370085\" xlink:href=\"#mb23559339d\" y=\"235.303164\"/>\n    </g>\n   </g>\n   <g id=\"patch_3\">\n    <path d=\"M 38.482813 273.312 \nL 38.482813 7.2 \n\" style=\"fill:none;stroke:#000000;stroke-linecap:square;stroke-linejoin:miter;stroke-width:0.8;\"/>\n   </g>\n   <g id=\"patch_4\">\n    <path d=\"M 395.602813 273.312 \nL 395.602813 7.2 \n\" style=\"fill:none;stroke:#000000;stroke-linecap:square;stroke-linejoin:miter;stroke-width:0.8;\"/>\n   </g>\n   <g id=\"patch_5\">\n    <path d=\"M 38.482813 273.312 \nL 395.602813 273.312 \n\" style=\"fill:none;stroke:#000000;stroke-linecap:square;stroke-linejoin:miter;stroke-width:0.8;\"/>\n   </g>\n   <g id=\"patch_6\">\n    <path d=\"M 38.482813 7.2 \nL 395.602813 7.2 \n\" style=\"fill:none;stroke:#000000;stroke-linecap:square;stroke-linejoin:miter;stroke-width:0.8;\"/>\n   </g>\n  </g>\n </g>\n <defs>\n  <clipPath id=\"p143ea988b6\">\n   <rect height=\"266.112\" width=\"357.12\" x=\"38.482813\" y=\"7.2\"/>\n  </clipPath>\n </defs>\n</svg>\n",
      "image/png": "[encoded data removed]"
     },
     "metadata": {}
    }
   ],
   "source": [
    "plt.plot((winLossPerYear.corrwith(totalBidPerYear16, axis=1).to_numpy()), 'o')\n"
   ]
  },
  {
   "cell_type": "code",
   "execution_count": 394,
   "metadata": {},
   "outputs": [
    {
     "output_type": "execute_result",
     "data": {
      "text/plain": [
       "Kolkata Knight Riders          0.127208\n",
       "Chennai Super Kings            0.389941\n",
       "Rajasthan Royals               0.020881\n",
       "Mumbai Indians                 0.065514\n",
       "Deccan Chargers               -0.643863\n",
       "Kings XI Punjab                0.473978\n",
       "Royal Challengers Bangalore   -0.339620\n",
       "Delhi Daredevils              -0.498967\n",
       "Kochi Tuskers Kerala          -1.000000\n",
       "Pune Warriors                 -0.636573\n",
       "Sunrisers Hyderabad           -0.157189\n",
       "Rising Pune Supergiants       -1.000000\n",
       "Gujarat Lions                  1.000000\n",
       "dtype: float64"
      ]
     },
     "metadata": {},
     "execution_count": 394
    }
   ],
   "source": [
    "winLossPerYear.corrwith(totalBidPerYear16, axis=1)"
   ]
  },
  {
   "cell_type": "code",
   "execution_count": 397,
   "metadata": {},
   "outputs": [
    {
     "output_type": "execute_result",
     "data": {
      "text/plain": [
       "[<matplotlib.lines.Line2D at 0x14c68f610>]"
      ]
     },
     "metadata": {},
     "execution_count": 397
    },
    {
     "output_type": "display_data",
     "data": {
      "text/plain": "<Figure size 640x480 with 1 Axes>",
      "image/svg+xml": "<?xml version=\"1.0\" encoding=\"utf-8\" standalone=\"no\"?>\n<!DOCTYPE svg PUBLIC \"-//W3C//DTD SVG 1.1//EN\"\n  \"http://www.w3.org/Graphics/SVG/1.1/DTD/svg11.dtd\">\n<!-- Created with matplotlib (https://matplotlib.org/) -->\n<svg height=\"297.190125pt\" version=\"1.1\" viewBox=\"0 0 402.802813 297.190125\" width=\"402.802813pt\" xmlns=\"http://www.w3.org/2000/svg\" xmlns:xlink=\"http://www.w3.org/1999/xlink\">\n <metadata>\n  <rdf:RDF xmlns:cc=\"http://creativecommons.org/ns#\" xmlns:dc=\"http://purl.org/dc/elements/1.1/\" xmlns:rdf=\"http://www.w3.org/1999/02/22-rdf-syntax-ns#\">\n   <cc:Work>\n    <dc:type rdf:resource=\"http://purl.org/dc/dcmitype/StillImage\"/>\n    <dc:date>2022-11-20T03:30:40.973971</dc:date>\n    <dc:format>image/svg+xml</dc:format>\n    <dc:creator>\n     <cc:Agent>\n      <dc:title>Matplotlib v3.3.2, https://matplotlib.org/</dc:title>\n     </cc:Agent>\n    </dc:creator>\n   </cc:Work>\n  </rdf:RDF>\n </metadata>\n <defs>\n  <style type=\"text/css\">*{stroke-linecap:butt;stroke-linejoin:round;}</style>\n </defs>\n <g id=\"figure_1\">\n  <g id=\"patch_1\">\n   <path d=\"M 0 297.190125 \nL 402.802813 297.190125 \nL 402.802813 0 \nL 0 0 \nz\n\" style=\"fill:#ffffff;\"/>\n  </g>\n  <g id=\"axes_1\">\n   <g id=\"patch_2\">\n    <path d=\"M 38.482813 273.312 \nL 395.602813 273.312 \nL 395.602813 7.2 \nL 38.482813 7.2 \nz\n\" style=\"fill:#ffffff;\"/>\n   </g>\n   <g id=\"matplotlib.axis_1\">\n    <g id=\"xtick_1\">\n     <g id=\"line2d_1\">\n      <defs>\n       <path d=\"M 0 0 \nL 0 3.5 \n\" id=\"m7247ef9b99\" style=\"stroke:#000000;stroke-width:0.8;\"/>\n      </defs>\n      <g>\n       <use style=\"stroke:#000000;stroke-width:0.8;\" x=\"54.71554\" xlink:href=\"#m7247ef9b99\" y=\"273.312\"/>\n      </g>\n     </g>\n     <g id=\"text_1\">\n      <!-- 2008 -->\n      <g transform=\"translate(41.99054 287.910437)scale(0.1 -0.1)\">\n       <defs>\n        <path d=\"M 19.1875 8.296875 \nL 53.609375 8.296875 \nL 53.609375 0 \nL 7.328125 0 \nL 7.328125 8.296875 \nQ 12.9375 14.109375 22.625 23.890625 \nQ 32.328125 33.6875 34.8125 36.53125 \nQ 39.546875 41.84375 41.421875 45.53125 \nQ 43.3125 49.21875 43.3125 52.78125 \nQ 43.3125 58.59375 39.234375 62.25 \nQ 35.15625 65.921875 28.609375 65.921875 \nQ 23.96875 65.921875 18.8125 64.3125 \nQ 13.671875 62.703125 7.8125 59.421875 \nL 7.8125 69.390625 \nQ 13.765625 71.78125 18.9375 73 \nQ 24.125 74.21875 28.421875 74.21875 \nQ 39.75 74.21875 46.484375 68.546875 \nQ 53.21875 62.890625 53.21875 53.421875 \nQ 53.21875 48.921875 51.53125 44.890625 \nQ 49.859375 40.875 45.40625 35.40625 \nQ 44.1875 33.984375 37.640625 27.21875 \nQ 31.109375 20.453125 19.1875 8.296875 \nz\n\" id=\"DejaVuSans-50\"/>\n        <path d=\"M 31.78125 66.40625 \nQ 24.171875 66.40625 20.328125 58.90625 \nQ 16.5 51.421875 16.5 36.375 \nQ 16.5 21.390625 20.328125 13.890625 \nQ 24.171875 6.390625 31.78125 6.390625 \nQ 39.453125 6.390625 43.28125 13.890625 \nQ 47.125 21.390625 47.125 36.375 \nQ 47.125 51.421875 43.28125 58.90625 \nQ 39.453125 66.40625 31.78125 66.40625 \nz\nM 31.78125 74.21875 \nQ 44.046875 74.21875 50.515625 64.515625 \nQ 56.984375 54.828125 56.984375 36.375 \nQ 56.984375 17.96875 50.515625 8.265625 \nQ 44.046875 -1.421875 31.78125 -1.421875 \nQ 19.53125 -1.421875 13.0625 8.265625 \nQ 6.59375 17.96875 6.59375 36.375 \nQ 6.59375 54.828125 13.0625 64.515625 \nQ 19.53125 74.21875 31.78125 74.21875 \nz\n\" id=\"DejaVuSans-48\"/>\n        <path d=\"M 31.78125 34.625 \nQ 24.75 34.625 20.71875 30.859375 \nQ 16.703125 27.09375 16.703125 20.515625 \nQ 16.703125 13.921875 20.71875 10.15625 \nQ 24.75 6.390625 31.78125 6.390625 \nQ 38.8125 6.390625 42.859375 10.171875 \nQ 46.921875 13.96875 46.921875 20.515625 \nQ 46.921875 27.09375 42.890625 30.859375 \nQ 38.875 34.625 31.78125 34.625 \nz\nM 21.921875 38.8125 \nQ 15.578125 40.375 12.03125 44.71875 \nQ 8.5 49.078125 8.5 55.328125 \nQ 8.5 64.0625 14.71875 69.140625 \nQ 20.953125 74.21875 31.78125 74.21875 \nQ 42.671875 74.21875 48.875 69.140625 \nQ 55.078125 64.0625 55.078125 55.328125 \nQ 55.078125 49.078125 51.53125 44.71875 \nQ 48 40.375 41.703125 38.8125 \nQ 48.828125 37.15625 52.796875 32.3125 \nQ 56.78125 27.484375 56.78125 20.515625 \nQ 56.78125 9.90625 50.3125 4.234375 \nQ 43.84375 -1.421875 31.78125 -1.421875 \nQ 19.734375 -1.421875 13.25 4.234375 \nQ 6.78125 9.90625 6.78125 20.515625 \nQ 6.78125 27.484375 10.78125 32.3125 \nQ 14.796875 37.15625 21.921875 38.8125 \nz\nM 18.3125 54.390625 \nQ 18.3125 48.734375 21.84375 45.5625 \nQ 25.390625 42.390625 31.78125 42.390625 \nQ 38.140625 42.390625 41.71875 45.5625 \nQ 45.3125 48.734375 45.3125 54.390625 \nQ 45.3125 60.0625 41.71875 63.234375 \nQ 38.140625 66.40625 31.78125 66.40625 \nQ 25.390625 66.40625 21.84375 63.234375 \nQ 18.3125 60.0625 18.3125 54.390625 \nz\n\" id=\"DejaVuSans-56\"/>\n       </defs>\n       <use xlink:href=\"#DejaVuSans-50\"/>\n       <use x=\"63.623047\" xlink:href=\"#DejaVuSans-48\"/>\n       <use x=\"127.246094\" xlink:href=\"#DejaVuSans-48\"/>\n       <use x=\"190.869141\" xlink:href=\"#DejaVuSans-56\"/>\n      </g>\n     </g>\n    </g>\n    <g id=\"xtick_2\">\n     <g id=\"line2d_2\">\n      <g>\n       <use style=\"stroke:#000000;stroke-width:0.8;\" x=\"95.297358\" xlink:href=\"#m7247ef9b99\" y=\"273.312\"/>\n      </g>\n     </g>\n     <g id=\"text_2\">\n      <!-- 2009 -->\n      <g transform=\"translate(82.572358 287.910437)scale(0.1 -0.1)\">\n       <defs>\n        <path d=\"M 10.984375 1.515625 \nL 10.984375 10.5 \nQ 14.703125 8.734375 18.5 7.8125 \nQ 22.3125 6.890625 25.984375 6.890625 \nQ 35.75 6.890625 40.890625 13.453125 \nQ 46.046875 20.015625 46.78125 33.40625 \nQ 43.953125 29.203125 39.59375 26.953125 \nQ 35.25 24.703125 29.984375 24.703125 \nQ 19.046875 24.703125 12.671875 31.3125 \nQ 6.296875 37.9375 6.296875 49.421875 \nQ 6.296875 60.640625 12.9375 67.421875 \nQ 19.578125 74.21875 30.609375 74.21875 \nQ 43.265625 74.21875 49.921875 64.515625 \nQ 56.59375 54.828125 56.59375 36.375 \nQ 56.59375 19.140625 48.40625 8.859375 \nQ 40.234375 -1.421875 26.421875 -1.421875 \nQ 22.703125 -1.421875 18.890625 -0.6875 \nQ 15.09375 0.046875 10.984375 1.515625 \nz\nM 30.609375 32.421875 \nQ 37.25 32.421875 41.125 36.953125 \nQ 45.015625 41.5 45.015625 49.421875 \nQ 45.015625 57.28125 41.125 61.84375 \nQ 37.25 66.40625 30.609375 66.40625 \nQ 23.96875 66.40625 20.09375 61.84375 \nQ 16.21875 57.28125 16.21875 49.421875 \nQ 16.21875 41.5 20.09375 36.953125 \nQ 23.96875 32.421875 30.609375 32.421875 \nz\n\" id=\"DejaVuSans-57\"/>\n       </defs>\n       <use xlink:href=\"#DejaVuSans-50\"/>\n       <use x=\"63.623047\" xlink:href=\"#DejaVuSans-48\"/>\n       <use x=\"127.246094\" xlink:href=\"#DejaVuSans-48\"/>\n       <use x=\"190.869141\" xlink:href=\"#DejaVuSans-57\"/>\n      </g>\n     </g>\n    </g>\n    <g id=\"xtick_3\">\n     <g id=\"line2d_3\">\n      <g>\n       <use style=\"stroke:#000000;stroke-width:0.8;\" x=\"135.879176\" xlink:href=\"#m7247ef9b99\" y=\"273.312\"/>\n      </g>\n     </g>\n     <g id=\"text_3\">\n      <!-- 2010 -->\n      <g transform=\"translate(123.154176 287.910437)scale(0.1 -0.1)\">\n       <defs>\n        <path d=\"M 12.40625 8.296875 \nL 28.515625 8.296875 \nL 28.515625 63.921875 \nL 10.984375 60.40625 \nL 10.984375 69.390625 \nL 28.421875 72.90625 \nL 38.28125 72.90625 \nL 38.28125 8.296875 \nL 54.390625 8.296875 \nL 54.390625 0 \nL 12.40625 0 \nz\n\" id=\"DejaVuSans-49\"/>\n       </defs>\n       <use xlink:href=\"#DejaVuSans-50\"/>\n       <use x=\"63.623047\" xlink:href=\"#DejaVuSans-48\"/>\n       <use x=\"127.246094\" xlink:href=\"#DejaVuSans-49\"/>\n       <use x=\"190.869141\" xlink:href=\"#DejaVuSans-48\"/>\n      </g>\n     </g>\n    </g>\n    <g id=\"xtick_4\">\n     <g id=\"line2d_4\">\n      <g>\n       <use style=\"stroke:#000000;stroke-width:0.8;\" x=\"176.460994\" xlink:href=\"#m7247ef9b99\" y=\"273.312\"/>\n      </g>\n     </g>\n     <g id=\"text_4\">\n      <!-- 2011 -->\n      <g transform=\"translate(163.735994 287.910437)scale(0.1 -0.1)\">\n       <use xlink:href=\"#DejaVuSans-50\"/>\n       <use x=\"63.623047\" xlink:href=\"#DejaVuSans-48\"/>\n       <use x=\"127.246094\" xlink:href=\"#DejaVuSans-49\"/>\n       <use x=\"190.869141\" xlink:href=\"#DejaVuSans-49\"/>\n      </g>\n     </g>\n    </g>\n    <g id=\"xtick_5\">\n     <g id=\"line2d_5\">\n      <g>\n       <use style=\"stroke:#000000;stroke-width:0.8;\" x=\"217.042813\" xlink:href=\"#m7247ef9b99\" y=\"273.312\"/>\n      </g>\n     </g>\n     <g id=\"text_5\">\n      <!-- 2012 -->\n      <g transform=\"translate(204.317813 287.910437)scale(0.1 -0.1)\">\n       <use xlink:href=\"#DejaVuSans-50\"/>\n       <use x=\"63.623047\" xlink:href=\"#DejaVuSans-48\"/>\n       <use x=\"127.246094\" xlink:href=\"#DejaVuSans-49\"/>\n       <use x=\"190.869141\" xlink:href=\"#DejaVuSans-50\"/>\n      </g>\n     </g>\n    </g>\n    <g id=\"xtick_6\">\n     <g id=\"line2d_6\">\n      <g>\n       <use style=\"stroke:#000000;stroke-width:0.8;\" x=\"257.624631\" xlink:href=\"#m7247ef9b99\" y=\"273.312\"/>\n      </g>\n     </g>\n     <g id=\"text_6\">\n      <!-- 2013 -->\n      <g transform=\"translate(244.899631 287.910437)scale(0.1 -0.1)\">\n       <defs>\n        <path d=\"M 40.578125 39.3125 \nQ 47.65625 37.796875 51.625 33 \nQ 55.609375 28.21875 55.609375 21.1875 \nQ 55.609375 10.40625 48.1875 4.484375 \nQ 40.765625 -1.421875 27.09375 -1.421875 \nQ 22.515625 -1.421875 17.65625 -0.515625 \nQ 12.796875 0.390625 7.625 2.203125 \nL 7.625 11.71875 \nQ 11.71875 9.328125 16.59375 8.109375 \nQ 21.484375 6.890625 26.8125 6.890625 \nQ 36.078125 6.890625 40.9375 10.546875 \nQ 45.796875 14.203125 45.796875 21.1875 \nQ 45.796875 27.640625 41.28125 31.265625 \nQ 36.765625 34.90625 28.71875 34.90625 \nL 20.21875 34.90625 \nL 20.21875 43.015625 \nL 29.109375 43.015625 \nQ 36.375 43.015625 40.234375 45.921875 \nQ 44.09375 48.828125 44.09375 54.296875 \nQ 44.09375 59.90625 40.109375 62.90625 \nQ 36.140625 65.921875 28.71875 65.921875 \nQ 24.65625 65.921875 20.015625 65.03125 \nQ 15.375 64.15625 9.8125 62.3125 \nL 9.8125 71.09375 \nQ 15.4375 72.65625 20.34375 73.4375 \nQ 25.25 74.21875 29.59375 74.21875 \nQ 40.828125 74.21875 47.359375 69.109375 \nQ 53.90625 64.015625 53.90625 55.328125 \nQ 53.90625 49.265625 50.4375 45.09375 \nQ 46.96875 40.921875 40.578125 39.3125 \nz\n\" id=\"DejaVuSans-51\"/>\n       </defs>\n       <use xlink:href=\"#DejaVuSans-50\"/>\n       <use x=\"63.623047\" xlink:href=\"#DejaVuSans-48\"/>\n       <use x=\"127.246094\" xlink:href=\"#DejaVuSans-49\"/>\n       <use x=\"190.869141\" xlink:href=\"#DejaVuSans-51\"/>\n      </g>\n     </g>\n    </g>\n    <g id=\"xtick_7\">\n     <g id=\"line2d_7\">\n      <g>\n       <use style=\"stroke:#000000;stroke-width:0.8;\" x=\"298.206449\" xlink:href=\"#m7247ef9b99\" y=\"273.312\"/>\n      </g>\n     </g>\n     <g id=\"text_7\">\n      <!-- 2014 -->\n      <g transform=\"translate(285.481449 287.910437)scale(0.1 -0.1)\">\n       <defs>\n        <path d=\"M 37.796875 64.3125 \nL 12.890625 25.390625 \nL 37.796875 25.390625 \nz\nM 35.203125 72.90625 \nL 47.609375 72.90625 \nL 47.609375 25.390625 \nL 58.015625 25.390625 \nL 58.015625 17.1875 \nL 47.609375 17.1875 \nL 47.609375 0 \nL 37.796875 0 \nL 37.796875 17.1875 \nL 4.890625 17.1875 \nL 4.890625 26.703125 \nz\n\" id=\"DejaVuSans-52\"/>\n       </defs>\n       <use xlink:href=\"#DejaVuSans-50\"/>\n       <use x=\"63.623047\" xlink:href=\"#DejaVuSans-48\"/>\n       <use x=\"127.246094\" xlink:href=\"#DejaVuSans-49\"/>\n       <use x=\"190.869141\" xlink:href=\"#DejaVuSans-52\"/>\n      </g>\n     </g>\n    </g>\n    <g id=\"xtick_8\">\n     <g id=\"line2d_8\">\n      <g>\n       <use style=\"stroke:#000000;stroke-width:0.8;\" x=\"338.788267\" xlink:href=\"#m7247ef9b99\" y=\"273.312\"/>\n      </g>\n     </g>\n     <g id=\"text_8\">\n      <!-- 2015 -->\n      <g transform=\"translate(326.063267 287.910437)scale(0.1 -0.1)\">\n       <defs>\n        <path d=\"M 10.796875 72.90625 \nL 49.515625 72.90625 \nL 49.515625 64.59375 \nL 19.828125 64.59375 \nL 19.828125 46.734375 \nQ 21.96875 47.46875 24.109375 47.828125 \nQ 26.265625 48.1875 28.421875 48.1875 \nQ 40.625 48.1875 47.75 41.5 \nQ 54.890625 34.8125 54.890625 23.390625 \nQ 54.890625 11.625 47.5625 5.09375 \nQ 40.234375 -1.421875 26.90625 -1.421875 \nQ 22.3125 -1.421875 17.546875 -0.640625 \nQ 12.796875 0.140625 7.71875 1.703125 \nL 7.71875 11.625 \nQ 12.109375 9.234375 16.796875 8.0625 \nQ 21.484375 6.890625 26.703125 6.890625 \nQ 35.15625 6.890625 40.078125 11.328125 \nQ 45.015625 15.765625 45.015625 23.390625 \nQ 45.015625 31 40.078125 35.4375 \nQ 35.15625 39.890625 26.703125 39.890625 \nQ 22.75 39.890625 18.8125 39.015625 \nQ 14.890625 38.140625 10.796875 36.28125 \nz\n\" id=\"DejaVuSans-53\"/>\n       </defs>\n       <use xlink:href=\"#DejaVuSans-50\"/>\n       <use x=\"63.623047\" xlink:href=\"#DejaVuSans-48\"/>\n       <use x=\"127.246094\" xlink:href=\"#DejaVuSans-49\"/>\n       <use x=\"190.869141\" xlink:href=\"#DejaVuSans-53\"/>\n      </g>\n     </g>\n    </g>\n    <g id=\"xtick_9\">\n     <g id=\"line2d_9\">\n      <g>\n       <use style=\"stroke:#000000;stroke-width:0.8;\" x=\"379.370085\" xlink:href=\"#m7247ef9b99\" y=\"273.312\"/>\n      </g>\n     </g>\n     <g id=\"text_9\">\n      <!-- 2016 -->\n      <g transform=\"translate(366.645085 287.910437)scale(0.1 -0.1)\">\n       <defs>\n        <path d=\"M 33.015625 40.375 \nQ 26.375 40.375 22.484375 35.828125 \nQ 18.609375 31.296875 18.609375 23.390625 \nQ 18.609375 15.53125 22.484375 10.953125 \nQ 26.375 6.390625 33.015625 6.390625 \nQ 39.65625 6.390625 43.53125 10.953125 \nQ 47.40625 15.53125 47.40625 23.390625 \nQ 47.40625 31.296875 43.53125 35.828125 \nQ 39.65625 40.375 33.015625 40.375 \nz\nM 52.59375 71.296875 \nL 52.59375 62.3125 \nQ 48.875 64.0625 45.09375 64.984375 \nQ 41.3125 65.921875 37.59375 65.921875 \nQ 27.828125 65.921875 22.671875 59.328125 \nQ 17.53125 52.734375 16.796875 39.40625 \nQ 19.671875 43.65625 24.015625 45.921875 \nQ 28.375 48.1875 33.59375 48.1875 \nQ 44.578125 48.1875 50.953125 41.515625 \nQ 57.328125 34.859375 57.328125 23.390625 \nQ 57.328125 12.15625 50.6875 5.359375 \nQ 44.046875 -1.421875 33.015625 -1.421875 \nQ 20.359375 -1.421875 13.671875 8.265625 \nQ 6.984375 17.96875 6.984375 36.375 \nQ 6.984375 53.65625 15.1875 63.9375 \nQ 23.390625 74.21875 37.203125 74.21875 \nQ 40.921875 74.21875 44.703125 73.484375 \nQ 48.484375 72.75 52.59375 71.296875 \nz\n\" id=\"DejaVuSans-54\"/>\n       </defs>\n       <use xlink:href=\"#DejaVuSans-50\"/>\n       <use x=\"63.623047\" xlink:href=\"#DejaVuSans-48\"/>\n       <use x=\"127.246094\" xlink:href=\"#DejaVuSans-49\"/>\n       <use x=\"190.869141\" xlink:href=\"#DejaVuSans-54\"/>\n      </g>\n     </g>\n    </g>\n   </g>\n   <g id=\"matplotlib.axis_2\">\n    <g id=\"ytick_1\">\n     <g id=\"line2d_10\">\n      <defs>\n       <path d=\"M 0 0 \nL -3.5 0 \n\" id=\"md19d90b0e0\" style=\"stroke:#000000;stroke-width:0.8;\"/>\n      </defs>\n      <g>\n       <use style=\"stroke:#000000;stroke-width:0.8;\" x=\"38.482813\" xlink:href=\"#md19d90b0e0\" y=\"251.628752\"/>\n      </g>\n     </g>\n     <g id=\"text_10\">\n      <!-- −0.2 -->\n      <g transform=\"translate(7.2 255.42797)scale(0.1 -0.1)\">\n       <defs>\n        <path d=\"M 10.59375 35.5 \nL 73.1875 35.5 \nL 73.1875 27.203125 \nL 10.59375 27.203125 \nz\n\" id=\"DejaVuSans-8722\"/>\n        <path d=\"M 10.6875 12.40625 \nL 21 12.40625 \nL 21 0 \nL 10.6875 0 \nz\n\" id=\"DejaVuSans-46\"/>\n       </defs>\n       <use xlink:href=\"#DejaVuSans-8722\"/>\n       <use x=\"83.789062\" xlink:href=\"#DejaVuSans-48\"/>\n       <use x=\"147.412109\" xlink:href=\"#DejaVuSans-46\"/>\n       <use x=\"179.199219\" xlink:href=\"#DejaVuSans-50\"/>\n      </g>\n     </g>\n    </g>\n    <g id=\"ytick_2\">\n     <g id=\"line2d_11\">\n      <g>\n       <use style=\"stroke:#000000;stroke-width:0.8;\" x=\"38.482813\" xlink:href=\"#md19d90b0e0\" y=\"221.731097\"/>\n      </g>\n     </g>\n     <g id=\"text_11\">\n      <!-- −0.1 -->\n      <g transform=\"translate(7.2 225.530316)scale(0.1 -0.1)\">\n       <use xlink:href=\"#DejaVuSans-8722\"/>\n       <use x=\"83.789062\" xlink:href=\"#DejaVuSans-48\"/>\n       <use x=\"147.412109\" xlink:href=\"#DejaVuSans-46\"/>\n       <use x=\"179.199219\" xlink:href=\"#DejaVuSans-49\"/>\n      </g>\n     </g>\n    </g>\n    <g id=\"ytick_3\">\n     <g id=\"line2d_12\">\n      <g>\n       <use style=\"stroke:#000000;stroke-width:0.8;\" x=\"38.482813\" xlink:href=\"#md19d90b0e0\" y=\"191.833443\"/>\n      </g>\n     </g>\n     <g id=\"text_12\">\n      <!-- 0.0 -->\n      <g transform=\"translate(15.579688 195.632661)scale(0.1 -0.1)\">\n       <use xlink:href=\"#DejaVuSans-48\"/>\n       <use x=\"63.623047\" xlink:href=\"#DejaVuSans-46\"/>\n       <use x=\"95.410156\" xlink:href=\"#DejaVuSans-48\"/>\n      </g>\n     </g>\n    </g>\n    <g id=\"ytick_4\">\n     <g id=\"line2d_13\">\n      <g>\n       <use style=\"stroke:#000000;stroke-width:0.8;\" x=\"38.482813\" xlink:href=\"#md19d90b0e0\" y=\"161.935788\"/>\n      </g>\n     </g>\n     <g id=\"text_13\">\n      <!-- 0.1 -->\n      <g transform=\"translate(15.579688 165.735007)scale(0.1 -0.1)\">\n       <use xlink:href=\"#DejaVuSans-48\"/>\n       <use x=\"63.623047\" xlink:href=\"#DejaVuSans-46\"/>\n       <use x=\"95.410156\" xlink:href=\"#DejaVuSans-49\"/>\n      </g>\n     </g>\n    </g>\n    <g id=\"ytick_5\">\n     <g id=\"line2d_14\">\n      <g>\n       <use style=\"stroke:#000000;stroke-width:0.8;\" x=\"38.482813\" xlink:href=\"#md19d90b0e0\" y=\"132.038134\"/>\n      </g>\n     </g>\n     <g id=\"text_14\">\n      <!-- 0.2 -->\n      <g transform=\"translate(15.579688 135.837353)scale(0.1 -0.1)\">\n       <use xlink:href=\"#DejaVuSans-48\"/>\n       <use x=\"63.623047\" xlink:href=\"#DejaVuSans-46\"/>\n       <use x=\"95.410156\" xlink:href=\"#DejaVuSans-50\"/>\n      </g>\n     </g>\n    </g>\n    <g id=\"ytick_6\">\n     <g id=\"line2d_15\">\n      <g>\n       <use style=\"stroke:#000000;stroke-width:0.8;\" x=\"38.482813\" xlink:href=\"#md19d90b0e0\" y=\"102.140479\"/>\n      </g>\n     </g>\n     <g id=\"text_15\">\n      <!-- 0.3 -->\n      <g transform=\"translate(15.579688 105.939698)scale(0.1 -0.1)\">\n       <use xlink:href=\"#DejaVuSans-48\"/>\n       <use x=\"63.623047\" xlink:href=\"#DejaVuSans-46\"/>\n       <use x=\"95.410156\" xlink:href=\"#DejaVuSans-51\"/>\n      </g>\n     </g>\n    </g>\n    <g id=\"ytick_7\">\n     <g id=\"line2d_16\">\n      <g>\n       <use style=\"stroke:#000000;stroke-width:0.8;\" x=\"38.482813\" xlink:href=\"#md19d90b0e0\" y=\"72.242825\"/>\n      </g>\n     </g>\n     <g id=\"text_16\">\n      <!-- 0.4 -->\n      <g transform=\"translate(15.579688 76.042044)scale(0.1 -0.1)\">\n       <use xlink:href=\"#DejaVuSans-48\"/>\n       <use x=\"63.623047\" xlink:href=\"#DejaVuSans-46\"/>\n       <use x=\"95.410156\" xlink:href=\"#DejaVuSans-52\"/>\n      </g>\n     </g>\n    </g>\n    <g id=\"ytick_8\">\n     <g id=\"line2d_17\">\n      <g>\n       <use style=\"stroke:#000000;stroke-width:0.8;\" x=\"38.482813\" xlink:href=\"#md19d90b0e0\" y=\"42.34517\"/>\n      </g>\n     </g>\n     <g id=\"text_17\">\n      <!-- 0.5 -->\n      <g transform=\"translate(15.579688 46.144389)scale(0.1 -0.1)\">\n       <use xlink:href=\"#DejaVuSans-48\"/>\n       <use x=\"63.623047\" xlink:href=\"#DejaVuSans-46\"/>\n       <use x=\"95.410156\" xlink:href=\"#DejaVuSans-53\"/>\n      </g>\n     </g>\n    </g>\n    <g id=\"ytick_9\">\n     <g id=\"line2d_18\">\n      <g>\n       <use style=\"stroke:#000000;stroke-width:0.8;\" x=\"38.482813\" xlink:href=\"#md19d90b0e0\" y=\"12.447516\"/>\n      </g>\n     </g>\n     <g id=\"text_18\">\n      <!-- 0.6 -->\n      <g transform=\"translate(15.579688 16.246735)scale(0.1 -0.1)\">\n       <use xlink:href=\"#DejaVuSans-48\"/>\n       <use x=\"63.623047\" xlink:href=\"#DejaVuSans-46\"/>\n       <use x=\"95.410156\" xlink:href=\"#DejaVuSans-54\"/>\n      </g>\n     </g>\n    </g>\n   </g>\n   <g id=\"line2d_19\">\n    <path clip-path=\"url(#pd0d52b56e7)\" d=\"M 54.71554 171.807178 \nL 95.297358 149.60079 \nL 135.879176 19.296 \nL 176.460994 207.052686 \nL 217.042813 23.556013 \nL 257.624631 146.390915 \nL 298.206449 244.805543 \nL 338.788267 261.216 \nL 379.370085 98.617781 \n\" style=\"fill:none;stroke:#1f77b4;stroke-linecap:square;stroke-width:1.5;\"/>\n   </g>\n   <g id=\"patch_3\">\n    <path d=\"M 38.482813 273.312 \nL 38.482813 7.2 \n\" style=\"fill:none;stroke:#000000;stroke-linecap:square;stroke-linejoin:miter;stroke-width:0.8;\"/>\n   </g>\n   <g id=\"patch_4\">\n    <path d=\"M 395.602813 273.312 \nL 395.602813 7.2 \n\" style=\"fill:none;stroke:#000000;stroke-linecap:square;stroke-linejoin:miter;stroke-width:0.8;\"/>\n   </g>\n   <g id=\"patch_5\">\n    <path d=\"M 38.482813 273.312 \nL 395.602813 273.312 \n\" style=\"fill:none;stroke:#000000;stroke-linecap:square;stroke-linejoin:miter;stroke-width:0.8;\"/>\n   </g>\n   <g id=\"patch_6\">\n    <path d=\"M 38.482813 7.2 \nL 395.602813 7.2 \n\" style=\"fill:none;stroke:#000000;stroke-linecap:square;stroke-linejoin:miter;stroke-width:0.8;\"/>\n   </g>\n  </g>\n </g>\n <defs>\n  <clipPath id=\"pd0d52b56e7\">\n   <rect height=\"266.112\" width=\"357.12\" x=\"38.482813\" y=\"7.2\"/>\n  </clipPath>\n </defs>\n</svg>\n",
      "image/png": "[encoded data removed]"
     },
     "metadata": {}
    }
   ],
   "source": [
    "plt.plot(matches[\"Year\"].unique(), winLossPerYear.corrwith(totalBidPerYear16, axis=0).to_numpy())"
   ]
  },
  {
   "cell_type": "code",
   "execution_count": null,
   "metadata": {},
   "outputs": [],
   "source": [
    "plt.scatter(matches[\"Year\"].unique(), y,\n",
    "           linewidths=1, alpha=.7,\n",
    "           edgecolor='k',\n",
    "           s = 200,\n",
    "           c=z)"
   ]
  },
  {
   "cell_type": "code",
   "execution_count": 380,
   "metadata": {},
   "outputs": [
    {
     "output_type": "execute_result",
     "data": {
      "text/plain": [
       "2008    0.066983\n",
       "2009    0.141257\n",
       "2010    0.577094\n",
       "2011   -0.050904\n",
       "2012    0.562845\n",
       "2013    0.151994\n",
       "2014   -0.177178\n",
       "2015   -0.232067\n",
       "2016    0.311783\n",
       "dtype: float64"
      ]
     },
     "metadata": {},
     "execution_count": 380
    }
   ],
   "source": [
    "winLossPerYear.corrwith(totalBidPerYear16, axis=0)"
   ]
  },
  {
   "cell_type": "code",
   "execution_count": 381,
   "metadata": {},
   "outputs": [
    {
     "output_type": "execute_result",
     "data": {
      "text/plain": [
       "Kolkata Knight Riders          0.127208\n",
       "Chennai Super Kings            0.389941\n",
       "Rajasthan Royals               0.020881\n",
       "Mumbai Indians                 0.065514\n",
       "Deccan Chargers               -0.643863\n",
       "Kings XI Punjab                0.473978\n",
       "Royal Challengers Bangalore   -0.339620\n",
       "Delhi Daredevils              -0.498967\n",
       "Kochi Tuskers Kerala          -1.000000\n",
       "Pune Warriors                 -0.636573\n",
       "Sunrisers Hyderabad           -0.157189\n",
       "Rising Pune Supergiants       -1.000000\n",
       "Gujarat Lions                  1.000000\n",
       "dtype: float64"
      ]
     },
     "metadata": {},
     "execution_count": 381
    }
   ],
   "source": [
    "winLossPerYear.corrwith(totalBidPerYear16, axis=1)"
   ]
  },
  {
   "cell_type": "code",
   "execution_count": 384,
   "metadata": {},
   "outputs": [],
   "source": [
    "bidMat = totalBidPerYear16.to_numpy()\n",
    "wlMat = winLossPerYear.to_numpy()"
   ]
  },
  {
   "cell_type": "code",
   "execution_count": 385,
   "metadata": {},
   "outputs": [],
   "source": [
    "bidMat = (bidMat - bidMat.mean(axis=0))/bidMat.std(axis=0)\n",
    "wlMat = (wlMat - wlMat.mean(axis=0))/wlMat.std(axis=0)\n",
    "correlation = (np.dot(wlMat.T, bidMat)/wlMat.shape[0])[0]\n",
    "# np.corrcoef(np.hstack((A,B)),rowvar=False)[0,1:]"
   ]
  },
  {
   "cell_type": "code",
   "execution_count": 386,
   "metadata": {},
   "outputs": [
    {
     "output_type": "stream",
     "name": "stdout",
     "text": [
      "[[ 0.91167757  0.01866838  1.56137434  1.2180777   1.04358313 -0.29710353\n   0.88643304 -0.26034213 -0.47281368]\n [ 1.2834407   1.86310435 -0.43513711 -0.23211008  1.49774892  0.45942452\n   0.03158862 -0.24953413 -1.03888192]\n [-0.04428475  0.70628705 -0.43513711 -0.56376738  0.40126295 -0.35384313\n  -0.17094242 -0.43944611 -1.03888192]\n [ 0.44431821  0.948976    1.56137434 -0.26299973  1.10846396  1.34969591\n   0.03932866 -0.15612214  0.26169832]\n [ 1.30893302 -0.54760582  1.46154877  0.66531554 -0.03343858 -1.13603909\n  -1.06534704 -0.63785009 -1.03888192]\n [ 0.77146976  0.01866838  0.06399075  0.68807633 -0.38379504 -0.14174509\n   1.01285369 -0.31592612  0.00822285]\n [ 0.42307461  1.81456656 -0.20221078  0.65393514  0.48560803  1.12003561\n   0.54286126  1.14160974  0.49411833]\n [ 0.85856855 -0.06222793  1.09552167  0.527125    1.36798726 -0.19172998\n   2.09774928  2.99904156  2.04007579]\n [-1.19143954 -0.95208739 -0.93426497  0.8978008  -1.09748413 -1.13603909\n  -1.06534704 -0.63785009 -1.03888192]\n [-1.19143954 -0.95208739 -0.93426497  1.11890566 -1.09748413  1.97112967\n  -1.06534704 -0.63785009 -1.03888192]\n [-1.19143954 -0.95208739 -0.93426497 -1.57011966 -1.09748413  0.62829238\n   0.88686304  0.4699698   1.12173333]\n [-1.19143954 -0.95208739 -0.93426497 -1.57011966 -1.09748413 -1.13603909\n  -1.06534704 -0.63785009  1.12659228]\n [-1.19143954 -0.95208739 -0.93426497 -1.57011966 -1.09748413 -1.13603909\n  -1.06534704 -0.63785009  0.61478238]] \n\n\n[[-1.5        -1.5         0.95940322  1.14017543  0.96225045 -1.53960072\n   1.27475488  0.95940322  0.95940322]\n [ 1.1         1.1         0.95940322  1.14017543  0.96225045  0.96225045\n   1.27475488  0.95940322 -0.42640143]\n [ 1.1        -1.5        -1.81220609 -1.14017543 -1.53960072  0.96225045\n   1.27475488  0.95940322 -0.42640143]\n [ 1.1        -1.5         0.95940322  1.14017543  0.96225045  0.96225045\n  -1.27475488  0.95940322  0.95940322]\n [-1.5         1.1         0.95940322 -1.14017543 -1.53960072 -0.28867513\n   0.         -0.42640143 -0.42640143]\n [ 1.1         1.1        -1.81220609  1.14017543  0.96225045  0.96225045\n   1.27475488 -1.81220609 -1.81220609]\n [-1.5         1.1         0.95940322  1.14017543  0.96225045  0.96225045\n  -1.27475488  0.95940322  0.95940322]\n [ 1.1         1.1         0.95940322 -1.14017543  0.96225045 -1.53960072\n  -1.27475488 -1.81220609  0.95940322]\n [-0.2        -0.2        -0.42640143 -1.14017543 -0.28867513 -0.28867513\n   0.         -0.42640143 -0.42640143]\n [-0.2        -0.2        -0.42640143 -1.14017543 -1.53960072 -1.53960072\n   0.         -0.42640143 -0.42640143]\n [-0.2        -0.2        -0.42640143  0.         -0.28867513  0.96225045\n  -1.27475488  0.95940322  0.95940322]\n [-0.2        -0.2        -0.42640143  0.         -0.28867513 -0.28867513\n   0.         -0.42640143 -1.81220609]\n [-0.2        -0.2        -0.42640143  0.         -0.28867513 -0.28867513\n   0.         -0.42640143  0.95940322]] \n\n\n[ 0.06698273  0.21891787 -0.09700998 -0.23810042  0.24959155  0.14349092\n  0.26466306  0.15945955  0.12498104]\n"
     ]
    }
   ],
   "source": [
    "print(bidMat,\"\\n\\n\")\n",
    "print(wlMat,\"\\n\\n\")\n",
    "print(correlation)"
   ]
  },
  {
   "cell_type": "code",
   "execution_count": 392,
   "metadata": {},
   "outputs": [
    {
     "output_type": "execute_result",
     "data": {
      "text/plain": [
       "[<matplotlib.lines.Line2D at 0x14c2dfd00>]"
      ]
     },
     "metadata": {},
     "execution_count": 392
    },
    {
     "output_type": "display_data",
     "data": {
      "text/plain": "<Figure size 640x480 with 1 Axes>",
      "image/svg+xml": "<?xml version=\"1.0\" encoding=\"utf-8\" standalone=\"no\"?>\n<!DOCTYPE svg PUBLIC \"-//W3C//DTD SVG 1.1//EN\"\n  \"http://www.w3.org/Graphics/SVG/1.1/DTD/svg11.dtd\">\n<!-- Created with matplotlib (https://matplotlib.org/) -->\n<svg height=\"297.190125pt\" version=\"1.1\" viewBox=\"0 0 402.802812 297.190125\" width=\"402.802812pt\" xmlns=\"http://www.w3.org/2000/svg\" xmlns:xlink=\"http://www.w3.org/1999/xlink\">\n <metadata>\n  <rdf:RDF xmlns:cc=\"http://creativecommons.org/ns#\" xmlns:dc=\"http://purl.org/dc/elements/1.1/\" xmlns:rdf=\"http://www.w3.org/1999/02/22-rdf-syntax-ns#\">\n   <cc:Work>\n    <dc:type rdf:resource=\"http://purl.org/dc/dcmitype/StillImage\"/>\n    <dc:date>2022-11-20T03:11:52.934501</dc:date>\n    <dc:format>image/svg+xml</dc:format>\n    <dc:creator>\n     <cc:Agent>\n      <dc:title>Matplotlib v3.3.2, https://matplotlib.org/</dc:title>\n     </cc:Agent>\n    </dc:creator>\n   </cc:Work>\n  </rdf:RDF>\n </metadata>\n <defs>\n  <style type=\"text/css\">*{stroke-linecap:butt;stroke-linejoin:round;}</style>\n </defs>\n <g id=\"figure_1\">\n  <g id=\"patch_1\">\n   <path d=\"M 0 297.190125 \nL 402.802812 297.190125 \nL 402.802812 0 \nL 0 0 \nz\n\" style=\"fill:#ffffff;\"/>\n  </g>\n  <g id=\"axes_1\">\n   <g id=\"patch_2\">\n    <path d=\"M 38.482813 273.312 \nL 395.602813 273.312 \nL 395.602813 7.2 \nL 38.482813 7.2 \nz\n\" style=\"fill:#ffffff;\"/>\n   </g>\n   <g id=\"matplotlib.axis_1\">\n    <g id=\"xtick_1\">\n     <g id=\"line2d_1\">\n      <defs>\n       <path d=\"M 0 0 \nL 0 3.5 \n\" id=\"mc843528f57\" style=\"stroke:#000000;stroke-width:0.8;\"/>\n      </defs>\n      <g>\n       <use style=\"stroke:#000000;stroke-width:0.8;\" x=\"54.71554\" xlink:href=\"#mc843528f57\" y=\"273.312\"/>\n      </g>\n     </g>\n     <g id=\"text_1\">\n      <!-- 0 -->\n      <g transform=\"translate(51.53429 287.910437)scale(0.1 -0.1)\">\n       <defs>\n        <path d=\"M 31.78125 66.40625 \nQ 24.171875 66.40625 20.328125 58.90625 \nQ 16.5 51.421875 16.5 36.375 \nQ 16.5 21.390625 20.328125 13.890625 \nQ 24.171875 6.390625 31.78125 6.390625 \nQ 39.453125 6.390625 43.28125 13.890625 \nQ 47.125 21.390625 47.125 36.375 \nQ 47.125 51.421875 43.28125 58.90625 \nQ 39.453125 66.40625 31.78125 66.40625 \nz\nM 31.78125 74.21875 \nQ 44.046875 74.21875 50.515625 64.515625 \nQ 56.984375 54.828125 56.984375 36.375 \nQ 56.984375 17.96875 50.515625 8.265625 \nQ 44.046875 -1.421875 31.78125 -1.421875 \nQ 19.53125 -1.421875 13.0625 8.265625 \nQ 6.59375 17.96875 6.59375 36.375 \nQ 6.59375 54.828125 13.0625 64.515625 \nQ 19.53125 74.21875 31.78125 74.21875 \nz\n\" id=\"DejaVuSans-48\"/>\n       </defs>\n       <use xlink:href=\"#DejaVuSans-48\"/>\n      </g>\n     </g>\n    </g>\n    <g id=\"xtick_2\">\n     <g id=\"line2d_2\">\n      <g>\n       <use style=\"stroke:#000000;stroke-width:0.8;\" x=\"95.297358\" xlink:href=\"#mc843528f57\" y=\"273.312\"/>\n      </g>\n     </g>\n     <g id=\"text_2\">\n      <!-- 1 -->\n      <g transform=\"translate(92.116108 287.910437)scale(0.1 -0.1)\">\n       <defs>\n        <path d=\"M 12.40625 8.296875 \nL 28.515625 8.296875 \nL 28.515625 63.921875 \nL 10.984375 60.40625 \nL 10.984375 69.390625 \nL 28.421875 72.90625 \nL 38.28125 72.90625 \nL 38.28125 8.296875 \nL 54.390625 8.296875 \nL 54.390625 0 \nL 12.40625 0 \nz\n\" id=\"DejaVuSans-49\"/>\n       </defs>\n       <use xlink:href=\"#DejaVuSans-49\"/>\n      </g>\n     </g>\n    </g>\n    <g id=\"xtick_3\">\n     <g id=\"line2d_3\">\n      <g>\n       <use style=\"stroke:#000000;stroke-width:0.8;\" x=\"135.879176\" xlink:href=\"#mc843528f57\" y=\"273.312\"/>\n      </g>\n     </g>\n     <g id=\"text_3\">\n      <!-- 2 -->\n      <g transform=\"translate(132.697926 287.910437)scale(0.1 -0.1)\">\n       <defs>\n        <path d=\"M 19.1875 8.296875 \nL 53.609375 8.296875 \nL 53.609375 0 \nL 7.328125 0 \nL 7.328125 8.296875 \nQ 12.9375 14.109375 22.625 23.890625 \nQ 32.328125 33.6875 34.8125 36.53125 \nQ 39.546875 41.84375 41.421875 45.53125 \nQ 43.3125 49.21875 43.3125 52.78125 \nQ 43.3125 58.59375 39.234375 62.25 \nQ 35.15625 65.921875 28.609375 65.921875 \nQ 23.96875 65.921875 18.8125 64.3125 \nQ 13.671875 62.703125 7.8125 59.421875 \nL 7.8125 69.390625 \nQ 13.765625 71.78125 18.9375 73 \nQ 24.125 74.21875 28.421875 74.21875 \nQ 39.75 74.21875 46.484375 68.546875 \nQ 53.21875 62.890625 53.21875 53.421875 \nQ 53.21875 48.921875 51.53125 44.890625 \nQ 49.859375 40.875 45.40625 35.40625 \nQ 44.1875 33.984375 37.640625 27.21875 \nQ 31.109375 20.453125 19.1875 8.296875 \nz\n\" id=\"DejaVuSans-50\"/>\n       </defs>\n       <use xlink:href=\"#DejaVuSans-50\"/>\n      </g>\n     </g>\n    </g>\n    <g id=\"xtick_4\">\n     <g id=\"line2d_4\">\n      <g>\n       <use style=\"stroke:#000000;stroke-width:0.8;\" x=\"176.460994\" xlink:href=\"#mc843528f57\" y=\"273.312\"/>\n      </g>\n     </g>\n     <g id=\"text_4\">\n      <!-- 3 -->\n      <g transform=\"translate(173.279744 287.910437)scale(0.1 -0.1)\">\n       <defs>\n        <path d=\"M 40.578125 39.3125 \nQ 47.65625 37.796875 51.625 33 \nQ 55.609375 28.21875 55.609375 21.1875 \nQ 55.609375 10.40625 48.1875 4.484375 \nQ 40.765625 -1.421875 27.09375 -1.421875 \nQ 22.515625 -1.421875 17.65625 -0.515625 \nQ 12.796875 0.390625 7.625 2.203125 \nL 7.625 11.71875 \nQ 11.71875 9.328125 16.59375 8.109375 \nQ 21.484375 6.890625 26.8125 6.890625 \nQ 36.078125 6.890625 40.9375 10.546875 \nQ 45.796875 14.203125 45.796875 21.1875 \nQ 45.796875 27.640625 41.28125 31.265625 \nQ 36.765625 34.90625 28.71875 34.90625 \nL 20.21875 34.90625 \nL 20.21875 43.015625 \nL 29.109375 43.015625 \nQ 36.375 43.015625 40.234375 45.921875 \nQ 44.09375 48.828125 44.09375 54.296875 \nQ 44.09375 59.90625 40.109375 62.90625 \nQ 36.140625 65.921875 28.71875 65.921875 \nQ 24.65625 65.921875 20.015625 65.03125 \nQ 15.375 64.15625 9.8125 62.3125 \nL 9.8125 71.09375 \nQ 15.4375 72.65625 20.34375 73.4375 \nQ 25.25 74.21875 29.59375 74.21875 \nQ 40.828125 74.21875 47.359375 69.109375 \nQ 53.90625 64.015625 53.90625 55.328125 \nQ 53.90625 49.265625 50.4375 45.09375 \nQ 46.96875 40.921875 40.578125 39.3125 \nz\n\" id=\"DejaVuSans-51\"/>\n       </defs>\n       <use xlink:href=\"#DejaVuSans-51\"/>\n      </g>\n     </g>\n    </g>\n    <g id=\"xtick_5\">\n     <g id=\"line2d_5\">\n      <g>\n       <use style=\"stroke:#000000;stroke-width:0.8;\" x=\"217.042812\" xlink:href=\"#mc843528f57\" y=\"273.312\"/>\n      </g>\n     </g>\n     <g id=\"text_5\">\n      <!-- 4 -->\n      <g transform=\"translate(213.861562 287.910437)scale(0.1 -0.1)\">\n       <defs>\n        <path d=\"M 37.796875 64.3125 \nL 12.890625 25.390625 \nL 37.796875 25.390625 \nz\nM 35.203125 72.90625 \nL 47.609375 72.90625 \nL 47.609375 25.390625 \nL 58.015625 25.390625 \nL 58.015625 17.1875 \nL 47.609375 17.1875 \nL 47.609375 0 \nL 37.796875 0 \nL 37.796875 17.1875 \nL 4.890625 17.1875 \nL 4.890625 26.703125 \nz\n\" id=\"DejaVuSans-52\"/>\n       </defs>\n       <use xlink:href=\"#DejaVuSans-52\"/>\n      </g>\n     </g>\n    </g>\n    <g id=\"xtick_6\">\n     <g id=\"line2d_6\">\n      <g>\n       <use style=\"stroke:#000000;stroke-width:0.8;\" x=\"257.624631\" xlink:href=\"#mc843528f57\" y=\"273.312\"/>\n      </g>\n     </g>\n     <g id=\"text_6\">\n      <!-- 5 -->\n      <g transform=\"translate(254.443381 287.910437)scale(0.1 -0.1)\">\n       <defs>\n        <path d=\"M 10.796875 72.90625 \nL 49.515625 72.90625 \nL 49.515625 64.59375 \nL 19.828125 64.59375 \nL 19.828125 46.734375 \nQ 21.96875 47.46875 24.109375 47.828125 \nQ 26.265625 48.1875 28.421875 48.1875 \nQ 40.625 48.1875 47.75 41.5 \nQ 54.890625 34.8125 54.890625 23.390625 \nQ 54.890625 11.625 47.5625 5.09375 \nQ 40.234375 -1.421875 26.90625 -1.421875 \nQ 22.3125 -1.421875 17.546875 -0.640625 \nQ 12.796875 0.140625 7.71875 1.703125 \nL 7.71875 11.625 \nQ 12.109375 9.234375 16.796875 8.0625 \nQ 21.484375 6.890625 26.703125 6.890625 \nQ 35.15625 6.890625 40.078125 11.328125 \nQ 45.015625 15.765625 45.015625 23.390625 \nQ 45.015625 31 40.078125 35.4375 \nQ 35.15625 39.890625 26.703125 39.890625 \nQ 22.75 39.890625 18.8125 39.015625 \nQ 14.890625 38.140625 10.796875 36.28125 \nz\n\" id=\"DejaVuSans-53\"/>\n       </defs>\n       <use xlink:href=\"#DejaVuSans-53\"/>\n      </g>\n     </g>\n    </g>\n    <g id=\"xtick_7\">\n     <g id=\"line2d_7\">\n      <g>\n       <use style=\"stroke:#000000;stroke-width:0.8;\" x=\"298.206449\" xlink:href=\"#mc843528f57\" y=\"273.312\"/>\n      </g>\n     </g>\n     <g id=\"text_7\">\n      <!-- 6 -->\n      <g transform=\"translate(295.025199 287.910437)scale(0.1 -0.1)\">\n       <defs>\n        <path d=\"M 33.015625 40.375 \nQ 26.375 40.375 22.484375 35.828125 \nQ 18.609375 31.296875 18.609375 23.390625 \nQ 18.609375 15.53125 22.484375 10.953125 \nQ 26.375 6.390625 33.015625 6.390625 \nQ 39.65625 6.390625 43.53125 10.953125 \nQ 47.40625 15.53125 47.40625 23.390625 \nQ 47.40625 31.296875 43.53125 35.828125 \nQ 39.65625 40.375 33.015625 40.375 \nz\nM 52.59375 71.296875 \nL 52.59375 62.3125 \nQ 48.875 64.0625 45.09375 64.984375 \nQ 41.3125 65.921875 37.59375 65.921875 \nQ 27.828125 65.921875 22.671875 59.328125 \nQ 17.53125 52.734375 16.796875 39.40625 \nQ 19.671875 43.65625 24.015625 45.921875 \nQ 28.375 48.1875 33.59375 48.1875 \nQ 44.578125 48.1875 50.953125 41.515625 \nQ 57.328125 34.859375 57.328125 23.390625 \nQ 57.328125 12.15625 50.6875 5.359375 \nQ 44.046875 -1.421875 33.015625 -1.421875 \nQ 20.359375 -1.421875 13.671875 8.265625 \nQ 6.984375 17.96875 6.984375 36.375 \nQ 6.984375 53.65625 15.1875 63.9375 \nQ 23.390625 74.21875 37.203125 74.21875 \nQ 40.921875 74.21875 44.703125 73.484375 \nQ 48.484375 72.75 52.59375 71.296875 \nz\n\" id=\"DejaVuSans-54\"/>\n       </defs>\n       <use xlink:href=\"#DejaVuSans-54\"/>\n      </g>\n     </g>\n    </g>\n    <g id=\"xtick_8\">\n     <g id=\"line2d_8\">\n      <g>\n       <use style=\"stroke:#000000;stroke-width:0.8;\" x=\"338.788267\" xlink:href=\"#mc843528f57\" y=\"273.312\"/>\n      </g>\n     </g>\n     <g id=\"text_8\">\n      <!-- 7 -->\n      <g transform=\"translate(335.607017 287.910437)scale(0.1 -0.1)\">\n       <defs>\n        <path d=\"M 8.203125 72.90625 \nL 55.078125 72.90625 \nL 55.078125 68.703125 \nL 28.609375 0 \nL 18.3125 0 \nL 43.21875 64.59375 \nL 8.203125 64.59375 \nz\n\" id=\"DejaVuSans-55\"/>\n       </defs>\n       <use xlink:href=\"#DejaVuSans-55\"/>\n      </g>\n     </g>\n    </g>\n    <g id=\"xtick_9\">\n     <g id=\"line2d_9\">\n      <g>\n       <use style=\"stroke:#000000;stroke-width:0.8;\" x=\"379.370085\" xlink:href=\"#mc843528f57\" y=\"273.312\"/>\n      </g>\n     </g>\n     <g id=\"text_9\">\n      <!-- 8 -->\n      <g transform=\"translate(376.188835 287.910437)scale(0.1 -0.1)\">\n       <defs>\n        <path d=\"M 31.78125 34.625 \nQ 24.75 34.625 20.71875 30.859375 \nQ 16.703125 27.09375 16.703125 20.515625 \nQ 16.703125 13.921875 20.71875 10.15625 \nQ 24.75 6.390625 31.78125 6.390625 \nQ 38.8125 6.390625 42.859375 10.171875 \nQ 46.921875 13.96875 46.921875 20.515625 \nQ 46.921875 27.09375 42.890625 30.859375 \nQ 38.875 34.625 31.78125 34.625 \nz\nM 21.921875 38.8125 \nQ 15.578125 40.375 12.03125 44.71875 \nQ 8.5 49.078125 8.5 55.328125 \nQ 8.5 64.0625 14.71875 69.140625 \nQ 20.953125 74.21875 31.78125 74.21875 \nQ 42.671875 74.21875 48.875 69.140625 \nQ 55.078125 64.0625 55.078125 55.328125 \nQ 55.078125 49.078125 51.53125 44.71875 \nQ 48 40.375 41.703125 38.8125 \nQ 48.828125 37.15625 52.796875 32.3125 \nQ 56.78125 27.484375 56.78125 20.515625 \nQ 56.78125 9.90625 50.3125 4.234375 \nQ 43.84375 -1.421875 31.78125 -1.421875 \nQ 19.734375 -1.421875 13.25 4.234375 \nQ 6.78125 9.90625 6.78125 20.515625 \nQ 6.78125 27.484375 10.78125 32.3125 \nQ 14.796875 37.15625 21.921875 38.8125 \nz\nM 18.3125 54.390625 \nQ 18.3125 48.734375 21.84375 45.5625 \nQ 25.390625 42.390625 31.78125 42.390625 \nQ 38.140625 42.390625 41.71875 45.5625 \nQ 45.3125 48.734375 45.3125 54.390625 \nQ 45.3125 60.0625 41.71875 63.234375 \nQ 38.140625 66.40625 31.78125 66.40625 \nQ 25.390625 66.40625 21.84375 63.234375 \nQ 18.3125 60.0625 18.3125 54.390625 \nz\n\" id=\"DejaVuSans-56\"/>\n       </defs>\n       <use xlink:href=\"#DejaVuSans-56\"/>\n      </g>\n     </g>\n    </g>\n   </g>\n   <g id=\"matplotlib.axis_2\">\n    <g id=\"ytick_1\">\n     <g id=\"line2d_10\">\n      <defs>\n       <path d=\"M 0 0 \nL -3.5 0 \n\" id=\"m30beb2505d\" style=\"stroke:#000000;stroke-width:0.8;\"/>\n      </defs>\n      <g>\n       <use style=\"stroke:#000000;stroke-width:0.8;\" x=\"38.482813\" xlink:href=\"#m30beb2505d\" y=\"242.882818\"/>\n      </g>\n     </g>\n     <g id=\"text_10\">\n      <!-- −0.2 -->\n      <g transform=\"translate(7.2 246.682037)scale(0.1 -0.1)\">\n       <defs>\n        <path d=\"M 10.59375 35.5 \nL 73.1875 35.5 \nL 73.1875 27.203125 \nL 10.59375 27.203125 \nz\n\" id=\"DejaVuSans-8722\"/>\n        <path d=\"M 10.6875 12.40625 \nL 21 12.40625 \nL 21 0 \nL 10.6875 0 \nz\n\" id=\"DejaVuSans-46\"/>\n       </defs>\n       <use xlink:href=\"#DejaVuSans-8722\"/>\n       <use x=\"83.789062\" xlink:href=\"#DejaVuSans-48\"/>\n       <use x=\"147.412109\" xlink:href=\"#DejaVuSans-46\"/>\n       <use x=\"179.199219\" xlink:href=\"#DejaVuSans-50\"/>\n      </g>\n     </g>\n    </g>\n    <g id=\"ytick_2\">\n     <g id=\"line2d_11\">\n      <g>\n       <use style=\"stroke:#000000;stroke-width:0.8;\" x=\"38.482813\" xlink:href=\"#m30beb2505d\" y=\"194.764765\"/>\n      </g>\n     </g>\n     <g id=\"text_11\">\n      <!-- −0.1 -->\n      <g transform=\"translate(7.2 198.563983)scale(0.1 -0.1)\">\n       <use xlink:href=\"#DejaVuSans-8722\"/>\n       <use x=\"83.789062\" xlink:href=\"#DejaVuSans-48\"/>\n       <use x=\"147.412109\" xlink:href=\"#DejaVuSans-46\"/>\n       <use x=\"179.199219\" xlink:href=\"#DejaVuSans-49\"/>\n      </g>\n     </g>\n    </g>\n    <g id=\"ytick_3\">\n     <g id=\"line2d_12\">\n      <g>\n       <use style=\"stroke:#000000;stroke-width:0.8;\" x=\"38.482813\" xlink:href=\"#m30beb2505d\" y=\"146.646711\"/>\n      </g>\n     </g>\n     <g id=\"text_12\">\n      <!-- 0.0 -->\n      <g transform=\"translate(15.579688 150.44593)scale(0.1 -0.1)\">\n       <use xlink:href=\"#DejaVuSans-48\"/>\n       <use x=\"63.623047\" xlink:href=\"#DejaVuSans-46\"/>\n       <use x=\"95.410156\" xlink:href=\"#DejaVuSans-48\"/>\n      </g>\n     </g>\n    </g>\n    <g id=\"ytick_4\">\n     <g id=\"line2d_13\">\n      <g>\n       <use style=\"stroke:#000000;stroke-width:0.8;\" x=\"38.482813\" xlink:href=\"#m30beb2505d\" y=\"98.528658\"/>\n      </g>\n     </g>\n     <g id=\"text_13\">\n      <!-- 0.1 -->\n      <g transform=\"translate(15.579688 102.327877)scale(0.1 -0.1)\">\n       <use xlink:href=\"#DejaVuSans-48\"/>\n       <use x=\"63.623047\" xlink:href=\"#DejaVuSans-46\"/>\n       <use x=\"95.410156\" xlink:href=\"#DejaVuSans-49\"/>\n      </g>\n     </g>\n    </g>\n    <g id=\"ytick_5\">\n     <g id=\"line2d_14\">\n      <g>\n       <use style=\"stroke:#000000;stroke-width:0.8;\" x=\"38.482813\" xlink:href=\"#m30beb2505d\" y=\"50.410605\"/>\n      </g>\n     </g>\n     <g id=\"text_14\">\n      <!-- 0.2 -->\n      <g transform=\"translate(15.579688 54.209823)scale(0.1 -0.1)\">\n       <use xlink:href=\"#DejaVuSans-48\"/>\n       <use x=\"63.623047\" xlink:href=\"#DejaVuSans-46\"/>\n       <use x=\"95.410156\" xlink:href=\"#DejaVuSans-50\"/>\n      </g>\n     </g>\n    </g>\n   </g>\n   <g id=\"line2d_15\">\n    <defs>\n     <path d=\"M 0 3 \nC 0.795609 3 1.55874 2.683901 2.12132 2.12132 \nC 2.683901 1.55874 3 0.795609 3 0 \nC 3 -0.795609 2.683901 -1.55874 2.12132 -2.12132 \nC 1.55874 -2.683901 0.795609 -3 0 -3 \nC -0.795609 -3 -1.55874 -2.683901 -2.12132 -2.12132 \nC -2.683901 -1.55874 -3 -0.795609 -3 0 \nC -3 0.795609 -2.683901 1.55874 -2.12132 2.12132 \nC -1.55874 2.683901 -0.795609 3 0 3 \nz\n\" id=\"m6a68df44ce\" style=\"stroke:#1f77b4;\"/>\n    </defs>\n    <g clip-path=\"url(#pd073060d55)\">\n     <use style=\"fill:#1f77b4;stroke:#1f77b4;\" x=\"54.71554\" xlink:href=\"#m6a68df44ce\" y=\"114.415927\"/>\n     <use style=\"fill:#1f77b4;stroke:#1f77b4;\" x=\"95.297358\" xlink:href=\"#m6a68df44ce\" y=\"41.307692\"/>\n     <use style=\"fill:#1f77b4;stroke:#1f77b4;\" x=\"135.879176\" xlink:href=\"#m6a68df44ce\" y=\"193.326025\"/>\n     <use style=\"fill:#1f77b4;stroke:#1f77b4;\" x=\"176.460994\" xlink:href=\"#m6a68df44ce\" y=\"261.216\"/>\n     <use style=\"fill:#1f77b4;stroke:#1f77b4;\" x=\"217.042812\" xlink:href=\"#m6a68df44ce\" y=\"26.548118\"/>\n     <use style=\"fill:#1f77b4;stroke:#1f77b4;\" x=\"257.624631\" xlink:href=\"#m6a68df44ce\" y=\"77.601672\"/>\n     <use style=\"fill:#1f77b4;stroke:#1f77b4;\" x=\"298.206449\" xlink:href=\"#m6a68df44ce\" y=\"19.296\"/>\n     <use style=\"fill:#1f77b4;stroke:#1f77b4;\" x=\"338.788267\" xlink:href=\"#m6a68df44ce\" y=\"69.917878\"/>\n     <use style=\"fill:#1f77b4;stroke:#1f77b4;\" x=\"379.370085\" xlink:href=\"#m6a68df44ce\" y=\"86.508268\"/>\n    </g>\n   </g>\n   <g id=\"patch_3\">\n    <path d=\"M 38.482813 273.312 \nL 38.482813 7.2 \n\" style=\"fill:none;stroke:#000000;stroke-linecap:square;stroke-linejoin:miter;stroke-width:0.8;\"/>\n   </g>\n   <g id=\"patch_4\">\n    <path d=\"M 395.602813 273.312 \nL 395.602813 7.2 \n\" style=\"fill:none;stroke:#000000;stroke-linecap:square;stroke-linejoin:miter;stroke-width:0.8;\"/>\n   </g>\n   <g id=\"patch_5\">\n    <path d=\"M 38.482813 273.312 \nL 395.602813 273.312 \n\" style=\"fill:none;stroke:#000000;stroke-linecap:square;stroke-linejoin:miter;stroke-width:0.8;\"/>\n   </g>\n   <g id=\"patch_6\">\n    <path d=\"M 38.482813 7.2 \nL 395.602813 7.2 \n\" style=\"fill:none;stroke:#000000;stroke-linecap:square;stroke-linejoin:miter;stroke-width:0.8;\"/>\n   </g>\n  </g>\n </g>\n <defs>\n  <clipPath id=\"pd073060d55\">\n   <rect height=\"266.112\" width=\"357.12\" x=\"38.482813\" y=\"7.2\"/>\n  </clipPath>\n </defs>\n</svg>\n",
      "image/png": "[encoded data removed]"
     },
     "metadata": {}
    }
   ],
   "source": [
    "plt.plot(correlation, 'o')"
   ]
  },
  {
   "cell_type": "code",
   "execution_count": 391,
   "metadata": {},
   "outputs": [
    {
     "output_type": "execute_result",
     "data": {
      "text/plain": [
       "[<matplotlib.lines.Line2D at 0x14c443b50>]"
      ]
     },
     "metadata": {},
     "execution_count": 391
    },
    {
     "output_type": "display_data",
     "data": {
      "text/plain": "<Figure size 640x480 with 1 Axes>",
      "image/svg+xml": "<?xml version=\"1.0\" encoding=\"utf-8\" standalone=\"no\"?>\n<!DOCTYPE svg PUBLIC \"-//W3C//DTD SVG 1.1//EN\"\n  \"http://www.w3.org/Graphics/SVG/1.1/DTD/svg11.dtd\">\n<!-- Created with matplotlib (https://matplotlib.org/) -->\n<svg height=\"297.190125pt\" version=\"1.1\" viewBox=\"0 0 394.423125 297.190125\" width=\"394.423125pt\" xmlns=\"http://www.w3.org/2000/svg\" xmlns:xlink=\"http://www.w3.org/1999/xlink\">\n <metadata>\n  <rdf:RDF xmlns:cc=\"http://creativecommons.org/ns#\" xmlns:dc=\"http://purl.org/dc/elements/1.1/\" xmlns:rdf=\"http://www.w3.org/1999/02/22-rdf-syntax-ns#\">\n   <cc:Work>\n    <dc:type rdf:resource=\"http://purl.org/dc/dcmitype/StillImage\"/>\n    <dc:date>2022-11-20T03:11:40.459777</dc:date>\n    <dc:format>image/svg+xml</dc:format>\n    <dc:creator>\n     <cc:Agent>\n      <dc:title>Matplotlib v3.3.2, https://matplotlib.org/</dc:title>\n     </cc:Agent>\n    </dc:creator>\n   </cc:Work>\n  </rdf:RDF>\n </metadata>\n <defs>\n  <style type=\"text/css\">*{stroke-linecap:butt;stroke-linejoin:round;}</style>\n </defs>\n <g id=\"figure_1\">\n  <g id=\"patch_1\">\n   <path d=\"M 0 297.190125 \nL 394.423125 297.190125 \nL 394.423125 0 \nL 0 0 \nz\n\" style=\"fill:#ffffff;\"/>\n  </g>\n  <g id=\"axes_1\">\n   <g id=\"patch_2\">\n    <path d=\"M 30.103125 273.312 \nL 387.223125 273.312 \nL 387.223125 7.2 \nL 30.103125 7.2 \nz\n\" style=\"fill:#ffffff;\"/>\n   </g>\n   <g id=\"matplotlib.axis_1\">\n    <g id=\"xtick_1\">\n     <g id=\"line2d_1\">\n      <defs>\n       <path d=\"M 0 0 \nL 0 3.5 \n\" id=\"m134bd74caf\" style=\"stroke:#000000;stroke-width:0.8;\"/>\n      </defs>\n      <g>\n       <use style=\"stroke:#000000;stroke-width:0.8;\" x=\"46.335852\" xlink:href=\"#m134bd74caf\" y=\"273.312\"/>\n      </g>\n     </g>\n     <g id=\"text_1\">\n      <!-- 0 -->\n      <g transform=\"translate(43.154602 287.910437)scale(0.1 -0.1)\">\n       <defs>\n        <path d=\"M 31.78125 66.40625 \nQ 24.171875 66.40625 20.328125 58.90625 \nQ 16.5 51.421875 16.5 36.375 \nQ 16.5 21.390625 20.328125 13.890625 \nQ 24.171875 6.390625 31.78125 6.390625 \nQ 39.453125 6.390625 43.28125 13.890625 \nQ 47.125 21.390625 47.125 36.375 \nQ 47.125 51.421875 43.28125 58.90625 \nQ 39.453125 66.40625 31.78125 66.40625 \nz\nM 31.78125 74.21875 \nQ 44.046875 74.21875 50.515625 64.515625 \nQ 56.984375 54.828125 56.984375 36.375 \nQ 56.984375 17.96875 50.515625 8.265625 \nQ 44.046875 -1.421875 31.78125 -1.421875 \nQ 19.53125 -1.421875 13.0625 8.265625 \nQ 6.59375 17.96875 6.59375 36.375 \nQ 6.59375 54.828125 13.0625 64.515625 \nQ 19.53125 74.21875 31.78125 74.21875 \nz\n\" id=\"DejaVuSans-48\"/>\n       </defs>\n       <use xlink:href=\"#DejaVuSans-48\"/>\n      </g>\n     </g>\n    </g>\n    <g id=\"xtick_2\">\n     <g id=\"line2d_2\">\n      <g>\n       <use style=\"stroke:#000000;stroke-width:0.8;\" x=\"86.91767\" xlink:href=\"#m134bd74caf\" y=\"273.312\"/>\n      </g>\n     </g>\n     <g id=\"text_2\">\n      <!-- 2 -->\n      <g transform=\"translate(83.73642 287.910437)scale(0.1 -0.1)\">\n       <defs>\n        <path d=\"M 19.1875 8.296875 \nL 53.609375 8.296875 \nL 53.609375 0 \nL 7.328125 0 \nL 7.328125 8.296875 \nQ 12.9375 14.109375 22.625 23.890625 \nQ 32.328125 33.6875 34.8125 36.53125 \nQ 39.546875 41.84375 41.421875 45.53125 \nQ 43.3125 49.21875 43.3125 52.78125 \nQ 43.3125 58.59375 39.234375 62.25 \nQ 35.15625 65.921875 28.609375 65.921875 \nQ 23.96875 65.921875 18.8125 64.3125 \nQ 13.671875 62.703125 7.8125 59.421875 \nL 7.8125 69.390625 \nQ 13.765625 71.78125 18.9375 73 \nQ 24.125 74.21875 28.421875 74.21875 \nQ 39.75 74.21875 46.484375 68.546875 \nQ 53.21875 62.890625 53.21875 53.421875 \nQ 53.21875 48.921875 51.53125 44.890625 \nQ 49.859375 40.875 45.40625 35.40625 \nQ 44.1875 33.984375 37.640625 27.21875 \nQ 31.109375 20.453125 19.1875 8.296875 \nz\n\" id=\"DejaVuSans-50\"/>\n       </defs>\n       <use xlink:href=\"#DejaVuSans-50\"/>\n      </g>\n     </g>\n    </g>\n    <g id=\"xtick_3\">\n     <g id=\"line2d_3\">\n      <g>\n       <use style=\"stroke:#000000;stroke-width:0.8;\" x=\"127.499489\" xlink:href=\"#m134bd74caf\" y=\"273.312\"/>\n      </g>\n     </g>\n     <g id=\"text_3\">\n      <!-- 4 -->\n      <g transform=\"translate(124.318239 287.910437)scale(0.1 -0.1)\">\n       <defs>\n        <path d=\"M 37.796875 64.3125 \nL 12.890625 25.390625 \nL 37.796875 25.390625 \nz\nM 35.203125 72.90625 \nL 47.609375 72.90625 \nL 47.609375 25.390625 \nL 58.015625 25.390625 \nL 58.015625 17.1875 \nL 47.609375 17.1875 \nL 47.609375 0 \nL 37.796875 0 \nL 37.796875 17.1875 \nL 4.890625 17.1875 \nL 4.890625 26.703125 \nz\n\" id=\"DejaVuSans-52\"/>\n       </defs>\n       <use xlink:href=\"#DejaVuSans-52\"/>\n      </g>\n     </g>\n    </g>\n    <g id=\"xtick_4\">\n     <g id=\"line2d_4\">\n      <g>\n       <use style=\"stroke:#000000;stroke-width:0.8;\" x=\"168.081307\" xlink:href=\"#m134bd74caf\" y=\"273.312\"/>\n      </g>\n     </g>\n     <g id=\"text_4\">\n      <!-- 6 -->\n      <g transform=\"translate(164.900057 287.910437)scale(0.1 -0.1)\">\n       <defs>\n        <path d=\"M 33.015625 40.375 \nQ 26.375 40.375 22.484375 35.828125 \nQ 18.609375 31.296875 18.609375 23.390625 \nQ 18.609375 15.53125 22.484375 10.953125 \nQ 26.375 6.390625 33.015625 6.390625 \nQ 39.65625 6.390625 43.53125 10.953125 \nQ 47.40625 15.53125 47.40625 23.390625 \nQ 47.40625 31.296875 43.53125 35.828125 \nQ 39.65625 40.375 33.015625 40.375 \nz\nM 52.59375 71.296875 \nL 52.59375 62.3125 \nQ 48.875 64.0625 45.09375 64.984375 \nQ 41.3125 65.921875 37.59375 65.921875 \nQ 27.828125 65.921875 22.671875 59.328125 \nQ 17.53125 52.734375 16.796875 39.40625 \nQ 19.671875 43.65625 24.015625 45.921875 \nQ 28.375 48.1875 33.59375 48.1875 \nQ 44.578125 48.1875 50.953125 41.515625 \nQ 57.328125 34.859375 57.328125 23.390625 \nQ 57.328125 12.15625 50.6875 5.359375 \nQ 44.046875 -1.421875 33.015625 -1.421875 \nQ 20.359375 -1.421875 13.671875 8.265625 \nQ 6.984375 17.96875 6.984375 36.375 \nQ 6.984375 53.65625 15.1875 63.9375 \nQ 23.390625 74.21875 37.203125 74.21875 \nQ 40.921875 74.21875 44.703125 73.484375 \nQ 48.484375 72.75 52.59375 71.296875 \nz\n\" id=\"DejaVuSans-54\"/>\n       </defs>\n       <use xlink:href=\"#DejaVuSans-54\"/>\n      </g>\n     </g>\n    </g>\n    <g id=\"xtick_5\">\n     <g id=\"line2d_5\">\n      <g>\n       <use style=\"stroke:#000000;stroke-width:0.8;\" x=\"208.663125\" xlink:href=\"#m134bd74caf\" y=\"273.312\"/>\n      </g>\n     </g>\n     <g id=\"text_5\">\n      <!-- 8 -->\n      <g transform=\"translate(205.481875 287.910437)scale(0.1 -0.1)\">\n       <defs>\n        <path d=\"M 31.78125 34.625 \nQ 24.75 34.625 20.71875 30.859375 \nQ 16.703125 27.09375 16.703125 20.515625 \nQ 16.703125 13.921875 20.71875 10.15625 \nQ 24.75 6.390625 31.78125 6.390625 \nQ 38.8125 6.390625 42.859375 10.171875 \nQ 46.921875 13.96875 46.921875 20.515625 \nQ 46.921875 27.09375 42.890625 30.859375 \nQ 38.875 34.625 31.78125 34.625 \nz\nM 21.921875 38.8125 \nQ 15.578125 40.375 12.03125 44.71875 \nQ 8.5 49.078125 8.5 55.328125 \nQ 8.5 64.0625 14.71875 69.140625 \nQ 20.953125 74.21875 31.78125 74.21875 \nQ 42.671875 74.21875 48.875 69.140625 \nQ 55.078125 64.0625 55.078125 55.328125 \nQ 55.078125 49.078125 51.53125 44.71875 \nQ 48 40.375 41.703125 38.8125 \nQ 48.828125 37.15625 52.796875 32.3125 \nQ 56.78125 27.484375 56.78125 20.515625 \nQ 56.78125 9.90625 50.3125 4.234375 \nQ 43.84375 -1.421875 31.78125 -1.421875 \nQ 19.734375 -1.421875 13.25 4.234375 \nQ 6.78125 9.90625 6.78125 20.515625 \nQ 6.78125 27.484375 10.78125 32.3125 \nQ 14.796875 37.15625 21.921875 38.8125 \nz\nM 18.3125 54.390625 \nQ 18.3125 48.734375 21.84375 45.5625 \nQ 25.390625 42.390625 31.78125 42.390625 \nQ 38.140625 42.390625 41.71875 45.5625 \nQ 45.3125 48.734375 45.3125 54.390625 \nQ 45.3125 60.0625 41.71875 63.234375 \nQ 38.140625 66.40625 31.78125 66.40625 \nQ 25.390625 66.40625 21.84375 63.234375 \nQ 18.3125 60.0625 18.3125 54.390625 \nz\n\" id=\"DejaVuSans-56\"/>\n       </defs>\n       <use xlink:href=\"#DejaVuSans-56\"/>\n      </g>\n     </g>\n    </g>\n    <g id=\"xtick_6\">\n     <g id=\"line2d_6\">\n      <g>\n       <use style=\"stroke:#000000;stroke-width:0.8;\" x=\"249.244943\" xlink:href=\"#m134bd74caf\" y=\"273.312\"/>\n      </g>\n     </g>\n     <g id=\"text_6\">\n      <!-- 10 -->\n      <g transform=\"translate(242.882443 287.910437)scale(0.1 -0.1)\">\n       <defs>\n        <path d=\"M 12.40625 8.296875 \nL 28.515625 8.296875 \nL 28.515625 63.921875 \nL 10.984375 60.40625 \nL 10.984375 69.390625 \nL 28.421875 72.90625 \nL 38.28125 72.90625 \nL 38.28125 8.296875 \nL 54.390625 8.296875 \nL 54.390625 0 \nL 12.40625 0 \nz\n\" id=\"DejaVuSans-49\"/>\n       </defs>\n       <use xlink:href=\"#DejaVuSans-49\"/>\n       <use x=\"63.623047\" xlink:href=\"#DejaVuSans-48\"/>\n      </g>\n     </g>\n    </g>\n    <g id=\"xtick_7\">\n     <g id=\"line2d_7\">\n      <g>\n       <use style=\"stroke:#000000;stroke-width:0.8;\" x=\"289.826761\" xlink:href=\"#m134bd74caf\" y=\"273.312\"/>\n      </g>\n     </g>\n     <g id=\"text_7\">\n      <!-- 12 -->\n      <g transform=\"translate(283.464261 287.910437)scale(0.1 -0.1)\">\n       <use xlink:href=\"#DejaVuSans-49\"/>\n       <use x=\"63.623047\" xlink:href=\"#DejaVuSans-50\"/>\n      </g>\n     </g>\n    </g>\n    <g id=\"xtick_8\">\n     <g id=\"line2d_8\">\n      <g>\n       <use style=\"stroke:#000000;stroke-width:0.8;\" x=\"330.40858\" xlink:href=\"#m134bd74caf\" y=\"273.312\"/>\n      </g>\n     </g>\n     <g id=\"text_8\">\n      <!-- 14 -->\n      <g transform=\"translate(324.04608 287.910437)scale(0.1 -0.1)\">\n       <use xlink:href=\"#DejaVuSans-49\"/>\n       <use x=\"63.623047\" xlink:href=\"#DejaVuSans-52\"/>\n      </g>\n     </g>\n    </g>\n    <g id=\"xtick_9\">\n     <g id=\"line2d_9\">\n      <g>\n       <use style=\"stroke:#000000;stroke-width:0.8;\" x=\"370.990398\" xlink:href=\"#m134bd74caf\" y=\"273.312\"/>\n      </g>\n     </g>\n     <g id=\"text_9\">\n      <!-- 16 -->\n      <g transform=\"translate(364.627898 287.910437)scale(0.1 -0.1)\">\n       <use xlink:href=\"#DejaVuSans-49\"/>\n       <use x=\"63.623047\" xlink:href=\"#DejaVuSans-54\"/>\n      </g>\n     </g>\n    </g>\n   </g>\n   <g id=\"matplotlib.axis_2\">\n    <g id=\"ytick_1\">\n     <g id=\"line2d_10\">\n      <defs>\n       <path d=\"M 0 0 \nL -3.5 0 \n\" id=\"mb8a8e25132\" style=\"stroke:#000000;stroke-width:0.8;\"/>\n      </defs>\n      <g>\n       <use style=\"stroke:#000000;stroke-width:0.8;\" x=\"30.103125\" xlink:href=\"#mb8a8e25132\" y=\"224.888113\"/>\n      </g>\n     </g>\n     <g id=\"text_10\">\n      <!-- 0.0 -->\n      <g transform=\"translate(7.2 228.687332)scale(0.1 -0.1)\">\n       <defs>\n        <path d=\"M 10.6875 12.40625 \nL 21 12.40625 \nL 21 0 \nL 10.6875 0 \nz\n\" id=\"DejaVuSans-46\"/>\n       </defs>\n       <use xlink:href=\"#DejaVuSans-48\"/>\n       <use x=\"63.623047\" xlink:href=\"#DejaVuSans-46\"/>\n       <use x=\"95.410156\" xlink:href=\"#DejaVuSans-48\"/>\n      </g>\n     </g>\n    </g>\n    <g id=\"ytick_2\">\n     <g id=\"line2d_11\">\n      <g>\n       <use style=\"stroke:#000000;stroke-width:0.8;\" x=\"30.103125\" xlink:href=\"#mb8a8e25132\" y=\"175.966543\"/>\n      </g>\n     </g>\n     <g id=\"text_11\">\n      <!-- 0.2 -->\n      <g transform=\"translate(7.2 179.765762)scale(0.1 -0.1)\">\n       <use xlink:href=\"#DejaVuSans-48\"/>\n       <use x=\"63.623047\" xlink:href=\"#DejaVuSans-46\"/>\n       <use x=\"95.410156\" xlink:href=\"#DejaVuSans-50\"/>\n      </g>\n     </g>\n    </g>\n    <g id=\"ytick_3\">\n     <g id=\"line2d_12\">\n      <g>\n       <use style=\"stroke:#000000;stroke-width:0.8;\" x=\"30.103125\" xlink:href=\"#mb8a8e25132\" y=\"127.044972\"/>\n      </g>\n     </g>\n     <g id=\"text_12\">\n      <!-- 0.4 -->\n      <g transform=\"translate(7.2 130.844191)scale(0.1 -0.1)\">\n       <use xlink:href=\"#DejaVuSans-48\"/>\n       <use x=\"63.623047\" xlink:href=\"#DejaVuSans-46\"/>\n       <use x=\"95.410156\" xlink:href=\"#DejaVuSans-52\"/>\n      </g>\n     </g>\n    </g>\n    <g id=\"ytick_4\">\n     <g id=\"line2d_13\">\n      <g>\n       <use style=\"stroke:#000000;stroke-width:0.8;\" x=\"30.103125\" xlink:href=\"#mb8a8e25132\" y=\"78.123402\"/>\n      </g>\n     </g>\n     <g id=\"text_13\">\n      <!-- 0.6 -->\n      <g transform=\"translate(7.2 81.92262)scale(0.1 -0.1)\">\n       <use xlink:href=\"#DejaVuSans-48\"/>\n       <use x=\"63.623047\" xlink:href=\"#DejaVuSans-46\"/>\n       <use x=\"95.410156\" xlink:href=\"#DejaVuSans-54\"/>\n      </g>\n     </g>\n    </g>\n    <g id=\"ytick_5\">\n     <g id=\"line2d_14\">\n      <g>\n       <use style=\"stroke:#000000;stroke-width:0.8;\" x=\"30.103125\" xlink:href=\"#mb8a8e25132\" y=\"29.201831\"/>\n      </g>\n     </g>\n     <g id=\"text_14\">\n      <!-- 0.8 -->\n      <g transform=\"translate(7.2 33.00105)scale(0.1 -0.1)\">\n       <use xlink:href=\"#DejaVuSans-48\"/>\n       <use x=\"63.623047\" xlink:href=\"#DejaVuSans-46\"/>\n       <use x=\"95.410156\" xlink:href=\"#DejaVuSans-56\"/>\n      </g>\n     </g>\n    </g>\n   </g>\n   <g id=\"line2d_15\">\n    <defs>\n     <path d=\"M 0 3 \nC 0.795609 3 1.55874 2.683901 2.12132 2.12132 \nC 2.683901 1.55874 3 0.795609 3 0 \nC 3 -0.795609 2.683901 -1.55874 2.12132 -2.12132 \nC 1.55874 -2.683901 0.795609 -3 0 -3 \nC -0.795609 -3 -1.55874 -2.683901 -2.12132 -2.12132 \nC -2.683901 -1.55874 -3 -0.795609 -3 0 \nC -3 0.795609 -2.683901 1.55874 -2.12132 2.12132 \nC -1.55874 2.683901 -0.795609 3 0 3 \nz\n\" id=\"m9ba2d13cec\" style=\"stroke:#1f77b4;\"/>\n    </defs>\n    <g clip-path=\"url(#p08a83ff3df)\">\n     <use style=\"fill:#1f77b4;stroke:#1f77b4;\" x=\"46.335852\" xlink:href=\"#m9ba2d13cec\" y=\"65.286406\"/>\n     <use style=\"fill:#1f77b4;stroke:#1f77b4;\" x=\"66.626761\" xlink:href=\"#m9ba2d13cec\" y=\"37.460507\"/>\n     <use style=\"fill:#1f77b4;stroke:#1f77b4;\" x=\"86.91767\" xlink:href=\"#m9ba2d13cec\" y=\"110.84536\"/>\n     <use style=\"fill:#1f77b4;stroke:#1f77b4;\" x=\"107.20858\" xlink:href=\"#m9ba2d13cec\" y=\"19.296\"/>\n     <use style=\"fill:#1f77b4;stroke:#1f77b4;\" x=\"127.499489\" xlink:href=\"#m9ba2d13cec\" y=\"213.399984\"/>\n     <use style=\"fill:#1f77b4;stroke:#1f77b4;\" x=\"147.790398\" xlink:href=\"#m9ba2d13cec\" y=\"106.123081\"/>\n     <use style=\"fill:#1f77b4;stroke:#1f77b4;\" x=\"168.081307\" xlink:href=\"#m9ba2d13cec\" y=\"152.416084\"/>\n     <use style=\"fill:#1f77b4;stroke:#1f77b4;\" x=\"188.372216\" xlink:href=\"#m9ba2d13cec\" y=\"261.216\"/>\n     <use style=\"fill:#1f77b4;stroke:#1f77b4;\" x=\"208.663125\" xlink:href=\"#m9ba2d13cec\" y=\"208.503612\"/>\n     <use style=\"fill:#1f77b4;stroke:#1f77b4;\" x=\"228.954034\" xlink:href=\"#m9ba2d13cec\" y=\"143.341344\"/>\n     <use style=\"fill:#1f77b4;stroke:#1f77b4;\" x=\"249.244943\" xlink:href=\"#m9ba2d13cec\" y=\"107.4756\"/>\n     <use style=\"fill:#1f77b4;stroke:#1f77b4;\" x=\"269.535852\" xlink:href=\"#m9ba2d13cec\" y=\"137.065027\"/>\n     <use style=\"fill:#1f77b4;stroke:#1f77b4;\" x=\"289.826761\" xlink:href=\"#m9ba2d13cec\" y=\"116.160837\"/>\n     <use style=\"fill:#1f77b4;stroke:#1f77b4;\" x=\"310.11767\" xlink:href=\"#m9ba2d13cec\" y=\"198.814029\"/>\n     <use style=\"fill:#1f77b4;stroke:#1f77b4;\" x=\"330.40858\" xlink:href=\"#m9ba2d13cec\" y=\"167.615329\"/>\n     <use style=\"fill:#1f77b4;stroke:#1f77b4;\" x=\"350.699489\" xlink:href=\"#m9ba2d13cec\" y=\"219.757841\"/>\n     <use style=\"fill:#1f77b4;stroke:#1f77b4;\" x=\"370.990398\" xlink:href=\"#m9ba2d13cec\" y=\"207.294346\"/>\n    </g>\n   </g>\n   <g id=\"patch_3\">\n    <path d=\"M 30.103125 273.312 \nL 30.103125 7.2 \n\" style=\"fill:none;stroke:#000000;stroke-linecap:square;stroke-linejoin:miter;stroke-width:0.8;\"/>\n   </g>\n   <g id=\"patch_4\">\n    <path d=\"M 387.223125 273.312 \nL 387.223125 7.2 \n\" style=\"fill:none;stroke:#000000;stroke-linecap:square;stroke-linejoin:miter;stroke-width:0.8;\"/>\n   </g>\n   <g id=\"patch_5\">\n    <path d=\"M 30.103125 273.312 \nL 387.223125 273.312 \n\" style=\"fill:none;stroke:#000000;stroke-linecap:square;stroke-linejoin:miter;stroke-width:0.8;\"/>\n   </g>\n   <g id=\"patch_6\">\n    <path d=\"M 30.103125 7.2 \nL 387.223125 7.2 \n\" style=\"fill:none;stroke:#000000;stroke-linecap:square;stroke-linejoin:miter;stroke-width:0.8;\"/>\n   </g>\n  </g>\n </g>\n <defs>\n  <clipPath id=\"p08a83ff3df\">\n   <rect height=\"266.112\" width=\"357.12\" x=\"30.103125\" y=\"7.2\"/>\n  </clipPath>\n </defs>\n</svg>\n",
      "image/png": "[encoded data removed]"
     },
     "metadata": {}
    }
   ],
   "source": [
    "plt.plot(np.corrcoef(np.hstack((bidMat,wlMat)),rowvar=False)[0,1:], 'o')"
   ]
  },
  {
   "cell_type": "code",
   "execution_count": 471,
   "metadata": {},
   "outputs": [
    {
     "output_type": "execute_result",
     "data": {
      "text/plain": [
       "                                 2008      2009      2010      2011      2012  \\\n",
       "Kolkata Knight Riders        0.857143  0.300000  1.000000  1.142857  2.400000   \n",
       "Chennai Super Kings          1.285714  1.333333  1.285714  2.200000  1.250000   \n",
       "Rajasthan Royals             4.333333  0.857143  0.750000  0.857143  0.777778   \n",
       "Mumbai Indians               1.000000  0.625000  2.200000  1.666667  1.428571   \n",
       "Kings XI Punjab              2.000000  1.000000  0.400000  1.000000  1.000000   \n",
       "Royal Challengers Bangalore  0.400000  1.285714  1.000000  1.666667  1.142857   \n",
       "Delhi Daredevils             1.000000  2.000000  1.000000  0.400000  1.571429   \n",
       "Pune Warriors                     NaN       NaN       NaN  0.400000  0.333333   \n",
       "Sunrisers Hyderabad               NaN       NaN       NaN       NaN       NaN   \n",
       "\n",
       "                                 2013      2014      2015      2016  \n",
       "Kolkata Knight Riders        0.600000  2.200000  1.166667  1.142857  \n",
       "Chennai Super Kings          2.000000  1.666667  1.428571       NaN  \n",
       "Rajasthan Royals             1.571429  1.000000  1.000000       NaN  \n",
       "Mumbai Indians               2.166667  0.875000  1.666667  1.000000  \n",
       "Kings XI Punjab              1.000000  2.400000  0.272727  0.400000  \n",
       "Royal Challengers Bangalore  1.285714  0.555556  1.000000  1.285714  \n",
       "Delhi Daredevils             0.230769  0.166667  0.555556  1.000000  \n",
       "Pune Warriors                0.333333       NaN       NaN       NaN  \n",
       "Sunrisers Hyderabad          1.428571  0.750000  1.000000  1.833333  "
      ],
      "text/html": "<div>\n<style scoped>\n    .dataframe tbody tr th:only-of-type {\n        vertical-align: middle;\n    }\n\n    .dataframe tbody tr th {\n        vertical-align: top;\n    }\n\n    .dataframe thead th {\n        text-align: right;\n    }\n</style>\n<table border=\"1\" class=\"dataframe\">\n  <thead>\n    <tr style=\"text-align: right;\">\n      <th></th>\n      <th>2008</th>\n      <th>2009</th>\n      <th>2010</th>\n      <th>2011</th>\n      <th>2012</th>\n      <th>2013</th>\n      <th>2014</th>\n      <th>2015</th>\n      <th>2016</th>\n    </tr>\n  </thead>\n  <tbody>\n    <tr>\n      <th>Kolkata Knight Riders</th>\n      <td>0.857143</td>\n      <td>0.300000</td>\n      <td>1.000000</td>\n      <td>1.142857</td>\n      <td>2.400000</td>\n      <td>0.600000</td>\n      <td>2.200000</td>\n      <td>1.166667</td>\n      <td>1.142857</td>\n    </tr>\n    <tr>\n      <th>Chennai Super Kings</th>\n      <td>1.285714</td>\n      <td>1.333333</td>\n      <td>1.285714</td>\n      <td>2.200000</td>\n      <td>1.250000</td>\n      <td>2.000000</td>\n      <td>1.666667</td>\n      <td>1.428571</td>\n      <td>NaN</td>\n    </tr>\n    <tr>\n      <th>Rajasthan Royals</th>\n      <td>4.333333</td>\n      <td>0.857143</td>\n      <td>0.750000</td>\n      <td>0.857143</td>\n      <td>0.777778</td>\n      <td>1.571429</td>\n      <td>1.000000</td>\n      <td>1.000000</td>\n      <td>NaN</td>\n    </tr>\n    <tr>\n      <th>Mumbai Indians</th>\n      <td>1.000000</td>\n      <td>0.625000</td>\n      <td>2.200000</td>\n      <td>1.666667</td>\n      <td>1.428571</td>\n      <td>2.166667</td>\n      <td>0.875000</td>\n      <td>1.666667</td>\n      <td>1.000000</td>\n    </tr>\n    <tr>\n      <th>Kings XI Punjab</th>\n      <td>2.000000</td>\n      <td>1.000000</td>\n      <td>0.400000</td>\n      <td>1.000000</td>\n      <td>1.000000</td>\n      <td>1.000000</td>\n      <td>2.400000</td>\n      <td>0.272727</td>\n      <td>0.400000</td>\n    </tr>\n    <tr>\n      <th>Royal Challengers Bangalore</th>\n      <td>0.400000</td>\n      <td>1.285714</td>\n      <td>1.000000</td>\n      <td>1.666667</td>\n      <td>1.142857</td>\n      <td>1.285714</td>\n      <td>0.555556</td>\n      <td>1.000000</td>\n      <td>1.285714</td>\n    </tr>\n    <tr>\n      <th>Delhi Daredevils</th>\n      <td>1.000000</td>\n      <td>2.000000</td>\n      <td>1.000000</td>\n      <td>0.400000</td>\n      <td>1.571429</td>\n      <td>0.230769</td>\n      <td>0.166667</td>\n      <td>0.555556</td>\n      <td>1.000000</td>\n    </tr>\n    <tr>\n      <th>Pune Warriors</th>\n      <td>NaN</td>\n      <td>NaN</td>\n      <td>NaN</td>\n      <td>0.400000</td>\n      <td>0.333333</td>\n      <td>0.333333</td>\n      <td>NaN</td>\n      <td>NaN</td>\n      <td>NaN</td>\n    </tr>\n    <tr>\n      <th>Sunrisers Hyderabad</th>\n      <td>NaN</td>\n      <td>NaN</td>\n      <td>NaN</td>\n      <td>NaN</td>\n      <td>NaN</td>\n      <td>1.428571</td>\n      <td>0.750000</td>\n      <td>1.000000</td>\n      <td>1.833333</td>\n    </tr>\n  </tbody>\n</table>\n</div>"
     },
     "metadata": {},
     "execution_count": 471
    }
   ],
   "source": [
    "winLossPerYear[years[0]].notna()\n",
    "winLossPerYear[winLossPerYear[years[5]].notna()]"
   ]
  },
  {
   "cell_type": "code",
   "execution_count": 430,
   "metadata": {},
   "outputs": [],
   "source": [
    "stuf = []\n",
    "for elem in range(len(matches[\"Year\"].unique().tolist())):\n",
    "    stuf.append(matches[\"Year\"].unique()[elem].astype(str))\n"
   ]
  },
  {
   "cell_type": "code",
   "execution_count": 474,
   "metadata": {},
   "outputs": [
    {
     "output_type": "execute_result",
     "data": {
      "text/plain": [
       "[1.3803571428571428,\n",
       " 1.0858630952380952,\n",
       " 1.0794642857142858,\n",
       " 1.0833333333333335,\n",
       " 1.1408449575116242,\n",
       " 1.1796092796092799,\n",
       " 1.2017361111111111,\n",
       " 1.0112734487734487,\n",
       " 1.0628968253968254]"
      ]
     },
     "metadata": {},
     "execution_count": 474
    }
   ],
   "source": [
    "allTeamWLRatio = []\n",
    "for i in range(len(years)):\n",
    "    allTeamWLRatio.append(sum(winLossPerYear[winLossPerYear[years[i]].notna()][years[i]].to_numpy())/winLossPerYear.count()[i])\n",
    "allTeamWLRatio"
   ]
  },
  {
   "cell_type": "code",
   "execution_count": 446,
   "metadata": {},
   "outputs": [
    {
     "output_type": "execute_result",
     "data": {
      "text/plain": [
       "[36455000.0,\n",
       " 7650000.0,\n",
       " 3650000.0,\n",
       " 62775000.0,\n",
       " 10995000.0,\n",
       " 10932000.0,\n",
       " 32208000.0,\n",
       " 10741000.0,\n",
       " 16677000.0]"
      ]
     },
     "metadata": {},
     "execution_count": 446
    }
   ],
   "source": [
    "allTeamBidYear = []\n",
    "for i in range(len(years)):\n",
    "    allTeamBidYear.append(sum(totalBidPerYear16[years[i]].to_numpy()))\n",
    "\n",
    "allTeamBidYear"
   ]
  },
  {
   "cell_type": "code",
   "execution_count": 477,
   "metadata": {},
   "outputs": [
    {
     "output_type": "execute_result",
     "data": {
      "text/plain": [
       "[<matplotlib.lines.Line2D at 0x14c038f40>]"
      ]
     },
     "metadata": {},
     "execution_count": 477
    },
    {
     "output_type": "display_data",
     "data": {
      "text/plain": "<Figure size 640x480 with 1 Axes>",
      "image/svg+xml": "<?xml version=\"1.0\" encoding=\"utf-8\" standalone=\"no\"?>\n<!DOCTYPE svg PUBLIC \"-//W3C//DTD SVG 1.1//EN\"\n  \"http://www.w3.org/Graphics/SVG/1.1/DTD/svg11.dtd\">\n<!-- Created with matplotlib (https://matplotlib.org/) -->\n<svg height=\"309.86825pt\" version=\"1.1\" viewBox=\"0 0 400.785625 309.86825\" width=\"400.785625pt\" xmlns=\"http://www.w3.org/2000/svg\" xmlns:xlink=\"http://www.w3.org/1999/xlink\">\n <metadata>\n  <rdf:RDF xmlns:cc=\"http://creativecommons.org/ns#\" xmlns:dc=\"http://purl.org/dc/elements/1.1/\" xmlns:rdf=\"http://www.w3.org/1999/02/22-rdf-syntax-ns#\">\n   <cc:Work>\n    <dc:type rdf:resource=\"http://purl.org/dc/dcmitype/StillImage\"/>\n    <dc:date>2022-11-20T04:29:04.314238</dc:date>\n    <dc:format>image/svg+xml</dc:format>\n    <dc:creator>\n     <cc:Agent>\n      <dc:title>Matplotlib v3.3.2, https://matplotlib.org/</dc:title>\n     </cc:Agent>\n    </dc:creator>\n   </cc:Work>\n  </rdf:RDF>\n </metadata>\n <defs>\n  <style type=\"text/css\">*{stroke-linecap:butt;stroke-linejoin:round;}</style>\n </defs>\n <g id=\"figure_1\">\n  <g id=\"patch_1\">\n   <path d=\"M 0 309.86825 \nL 400.785625 309.86825 \nL 400.785625 0 \nL 0 0 \nz\n\" style=\"fill:#ffffff;\"/>\n  </g>\n  <g id=\"axes_1\">\n   <g id=\"patch_2\">\n    <path d=\"M 36.465625 273.312 \nL 393.585625 273.312 \nL 393.585625 7.2 \nL 36.465625 7.2 \nz\n\" style=\"fill:#ffffff;\"/>\n   </g>\n   <g id=\"matplotlib.axis_1\">\n    <g id=\"xtick_1\">\n     <g id=\"line2d_1\">\n      <defs>\n       <path d=\"M 0 0 \nL 0 3.5 \n\" id=\"m3f392e800e\" style=\"stroke:#000000;stroke-width:0.8;\"/>\n      </defs>\n      <g>\n       <use style=\"stroke:#000000;stroke-width:0.8;\" x=\"87.566113\" xlink:href=\"#m3f392e800e\" y=\"273.312\"/>\n      </g>\n     </g>\n     <g id=\"text_1\">\n      <!-- 1 -->\n      <g transform=\"translate(84.384863 287.910437)scale(0.1 -0.1)\">\n       <defs>\n        <path d=\"M 12.40625 8.296875 \nL 28.515625 8.296875 \nL 28.515625 63.921875 \nL 10.984375 60.40625 \nL 10.984375 69.390625 \nL 28.421875 72.90625 \nL 38.28125 72.90625 \nL 38.28125 8.296875 \nL 54.390625 8.296875 \nL 54.390625 0 \nL 12.40625 0 \nz\n\" id=\"DejaVuSans-49\"/>\n       </defs>\n       <use xlink:href=\"#DejaVuSans-49\"/>\n      </g>\n     </g>\n    </g>\n    <g id=\"xtick_2\">\n     <g id=\"line2d_2\">\n      <g>\n       <use style=\"stroke:#000000;stroke-width:0.8;\" x=\"142.475973\" xlink:href=\"#m3f392e800e\" y=\"273.312\"/>\n      </g>\n     </g>\n     <g id=\"text_2\">\n      <!-- 2 -->\n      <g transform=\"translate(139.294723 287.910437)scale(0.1 -0.1)\">\n       <defs>\n        <path d=\"M 19.1875 8.296875 \nL 53.609375 8.296875 \nL 53.609375 0 \nL 7.328125 0 \nL 7.328125 8.296875 \nQ 12.9375 14.109375 22.625 23.890625 \nQ 32.328125 33.6875 34.8125 36.53125 \nQ 39.546875 41.84375 41.421875 45.53125 \nQ 43.3125 49.21875 43.3125 52.78125 \nQ 43.3125 58.59375 39.234375 62.25 \nQ 35.15625 65.921875 28.609375 65.921875 \nQ 23.96875 65.921875 18.8125 64.3125 \nQ 13.671875 62.703125 7.8125 59.421875 \nL 7.8125 69.390625 \nQ 13.765625 71.78125 18.9375 73 \nQ 24.125 74.21875 28.421875 74.21875 \nQ 39.75 74.21875 46.484375 68.546875 \nQ 53.21875 62.890625 53.21875 53.421875 \nQ 53.21875 48.921875 51.53125 44.890625 \nQ 49.859375 40.875 45.40625 35.40625 \nQ 44.1875 33.984375 37.640625 27.21875 \nQ 31.109375 20.453125 19.1875 8.296875 \nz\n\" id=\"DejaVuSans-50\"/>\n       </defs>\n       <use xlink:href=\"#DejaVuSans-50\"/>\n      </g>\n     </g>\n    </g>\n    <g id=\"xtick_3\">\n     <g id=\"line2d_3\">\n      <g>\n       <use style=\"stroke:#000000;stroke-width:0.8;\" x=\"197.385833\" xlink:href=\"#m3f392e800e\" y=\"273.312\"/>\n      </g>\n     </g>\n     <g id=\"text_3\">\n      <!-- 3 -->\n      <g transform=\"translate(194.204583 287.910437)scale(0.1 -0.1)\">\n       <defs>\n        <path d=\"M 40.578125 39.3125 \nQ 47.65625 37.796875 51.625 33 \nQ 55.609375 28.21875 55.609375 21.1875 \nQ 55.609375 10.40625 48.1875 4.484375 \nQ 40.765625 -1.421875 27.09375 -1.421875 \nQ 22.515625 -1.421875 17.65625 -0.515625 \nQ 12.796875 0.390625 7.625 2.203125 \nL 7.625 11.71875 \nQ 11.71875 9.328125 16.59375 8.109375 \nQ 21.484375 6.890625 26.8125 6.890625 \nQ 36.078125 6.890625 40.9375 10.546875 \nQ 45.796875 14.203125 45.796875 21.1875 \nQ 45.796875 27.640625 41.28125 31.265625 \nQ 36.765625 34.90625 28.71875 34.90625 \nL 20.21875 34.90625 \nL 20.21875 43.015625 \nL 29.109375 43.015625 \nQ 36.375 43.015625 40.234375 45.921875 \nQ 44.09375 48.828125 44.09375 54.296875 \nQ 44.09375 59.90625 40.109375 62.90625 \nQ 36.140625 65.921875 28.71875 65.921875 \nQ 24.65625 65.921875 20.015625 65.03125 \nQ 15.375 64.15625 9.8125 62.3125 \nL 9.8125 71.09375 \nQ 15.4375 72.65625 20.34375 73.4375 \nQ 25.25 74.21875 29.59375 74.21875 \nQ 40.828125 74.21875 47.359375 69.109375 \nQ 53.90625 64.015625 53.90625 55.328125 \nQ 53.90625 49.265625 50.4375 45.09375 \nQ 46.96875 40.921875 40.578125 39.3125 \nz\n\" id=\"DejaVuSans-51\"/>\n       </defs>\n       <use xlink:href=\"#DejaVuSans-51\"/>\n      </g>\n     </g>\n    </g>\n    <g id=\"xtick_4\">\n     <g id=\"line2d_4\">\n      <g>\n       <use style=\"stroke:#000000;stroke-width:0.8;\" x=\"252.295692\" xlink:href=\"#m3f392e800e\" y=\"273.312\"/>\n      </g>\n     </g>\n     <g id=\"text_4\">\n      <!-- 4 -->\n      <g transform=\"translate(249.114442 287.910437)scale(0.1 -0.1)\">\n       <defs>\n        <path d=\"M 37.796875 64.3125 \nL 12.890625 25.390625 \nL 37.796875 25.390625 \nz\nM 35.203125 72.90625 \nL 47.609375 72.90625 \nL 47.609375 25.390625 \nL 58.015625 25.390625 \nL 58.015625 17.1875 \nL 47.609375 17.1875 \nL 47.609375 0 \nL 37.796875 0 \nL 37.796875 17.1875 \nL 4.890625 17.1875 \nL 4.890625 26.703125 \nz\n\" id=\"DejaVuSans-52\"/>\n       </defs>\n       <use xlink:href=\"#DejaVuSans-52\"/>\n      </g>\n     </g>\n    </g>\n    <g id=\"xtick_5\">\n     <g id=\"line2d_5\">\n      <g>\n       <use style=\"stroke:#000000;stroke-width:0.8;\" x=\"307.205552\" xlink:href=\"#m3f392e800e\" y=\"273.312\"/>\n      </g>\n     </g>\n     <g id=\"text_5\">\n      <!-- 5 -->\n      <g transform=\"translate(304.024302 287.910437)scale(0.1 -0.1)\">\n       <defs>\n        <path d=\"M 10.796875 72.90625 \nL 49.515625 72.90625 \nL 49.515625 64.59375 \nL 19.828125 64.59375 \nL 19.828125 46.734375 \nQ 21.96875 47.46875 24.109375 47.828125 \nQ 26.265625 48.1875 28.421875 48.1875 \nQ 40.625 48.1875 47.75 41.5 \nQ 54.890625 34.8125 54.890625 23.390625 \nQ 54.890625 11.625 47.5625 5.09375 \nQ 40.234375 -1.421875 26.90625 -1.421875 \nQ 22.3125 -1.421875 17.546875 -0.640625 \nQ 12.796875 0.140625 7.71875 1.703125 \nL 7.71875 11.625 \nQ 12.109375 9.234375 16.796875 8.0625 \nQ 21.484375 6.890625 26.703125 6.890625 \nQ 35.15625 6.890625 40.078125 11.328125 \nQ 45.015625 15.765625 45.015625 23.390625 \nQ 45.015625 31 40.078125 35.4375 \nQ 35.15625 39.890625 26.703125 39.890625 \nQ 22.75 39.890625 18.8125 39.015625 \nQ 14.890625 38.140625 10.796875 36.28125 \nz\n\" id=\"DejaVuSans-53\"/>\n       </defs>\n       <use xlink:href=\"#DejaVuSans-53\"/>\n      </g>\n     </g>\n    </g>\n    <g id=\"xtick_6\">\n     <g id=\"line2d_6\">\n      <g>\n       <use style=\"stroke:#000000;stroke-width:0.8;\" x=\"362.115412\" xlink:href=\"#m3f392e800e\" y=\"273.312\"/>\n      </g>\n     </g>\n     <g id=\"text_6\">\n      <!-- 6 -->\n      <g transform=\"translate(358.934162 287.910437)scale(0.1 -0.1)\">\n       <defs>\n        <path d=\"M 33.015625 40.375 \nQ 26.375 40.375 22.484375 35.828125 \nQ 18.609375 31.296875 18.609375 23.390625 \nQ 18.609375 15.53125 22.484375 10.953125 \nQ 26.375 6.390625 33.015625 6.390625 \nQ 39.65625 6.390625 43.53125 10.953125 \nQ 47.40625 15.53125 47.40625 23.390625 \nQ 47.40625 31.296875 43.53125 35.828125 \nQ 39.65625 40.375 33.015625 40.375 \nz\nM 52.59375 71.296875 \nL 52.59375 62.3125 \nQ 48.875 64.0625 45.09375 64.984375 \nQ 41.3125 65.921875 37.59375 65.921875 \nQ 27.828125 65.921875 22.671875 59.328125 \nQ 17.53125 52.734375 16.796875 39.40625 \nQ 19.671875 43.65625 24.015625 45.921875 \nQ 28.375 48.1875 33.59375 48.1875 \nQ 44.578125 48.1875 50.953125 41.515625 \nQ 57.328125 34.859375 57.328125 23.390625 \nQ 57.328125 12.15625 50.6875 5.359375 \nQ 44.046875 -1.421875 33.015625 -1.421875 \nQ 20.359375 -1.421875 13.671875 8.265625 \nQ 6.984375 17.96875 6.984375 36.375 \nQ 6.984375 53.65625 15.1875 63.9375 \nQ 23.390625 74.21875 37.203125 74.21875 \nQ 40.921875 74.21875 44.703125 73.484375 \nQ 48.484375 72.75 52.59375 71.296875 \nz\n\" id=\"DejaVuSans-54\"/>\n       </defs>\n       <use xlink:href=\"#DejaVuSans-54\"/>\n      </g>\n     </g>\n    </g>\n    <g id=\"text_7\">\n     <!-- 1e7 -->\n     <g transform=\"translate(374.7075 300.588562)scale(0.1 -0.1)\">\n      <defs>\n       <path d=\"M 56.203125 29.59375 \nL 56.203125 25.203125 \nL 14.890625 25.203125 \nQ 15.484375 15.921875 20.484375 11.0625 \nQ 25.484375 6.203125 34.421875 6.203125 \nQ 39.59375 6.203125 44.453125 7.46875 \nQ 49.3125 8.734375 54.109375 11.28125 \nL 54.109375 2.78125 \nQ 49.265625 0.734375 44.1875 -0.34375 \nQ 39.109375 -1.421875 33.890625 -1.421875 \nQ 20.796875 -1.421875 13.15625 6.1875 \nQ 5.515625 13.8125 5.515625 26.8125 \nQ 5.515625 40.234375 12.765625 48.109375 \nQ 20.015625 56 32.328125 56 \nQ 43.359375 56 49.78125 48.890625 \nQ 56.203125 41.796875 56.203125 29.59375 \nz\nM 47.21875 32.234375 \nQ 47.125 39.59375 43.09375 43.984375 \nQ 39.0625 48.390625 32.421875 48.390625 \nQ 24.90625 48.390625 20.390625 44.140625 \nQ 15.875 39.890625 15.1875 32.171875 \nz\n\" id=\"DejaVuSans-101\"/>\n       <path d=\"M 8.203125 72.90625 \nL 55.078125 72.90625 \nL 55.078125 68.703125 \nL 28.609375 0 \nL 18.3125 0 \nL 43.21875 64.59375 \nL 8.203125 64.59375 \nz\n\" id=\"DejaVuSans-55\"/>\n      </defs>\n      <use xlink:href=\"#DejaVuSans-49\"/>\n      <use x=\"63.623047\" xlink:href=\"#DejaVuSans-101\"/>\n      <use x=\"125.146484\" xlink:href=\"#DejaVuSans-55\"/>\n     </g>\n    </g>\n   </g>\n   <g id=\"matplotlib.axis_2\">\n    <g id=\"ytick_1\">\n     <g id=\"line2d_7\">\n      <defs>\n       <path d=\"M 0 0 \nL -3.5 0 \n\" id=\"m2a199098ee\" style=\"stroke:#000000;stroke-width:0.8;\"/>\n      </defs>\n      <g>\n       <use style=\"stroke:#000000;stroke-width:0.8;\" x=\"36.465625\" xlink:href=\"#m2a199098ee\" y=\"268.605307\"/>\n      </g>\n     </g>\n     <g id=\"text_8\">\n      <!-- 1.00 -->\n      <g transform=\"translate(7.2 272.404526)scale(0.1 -0.1)\">\n       <defs>\n        <path d=\"M 10.6875 12.40625 \nL 21 12.40625 \nL 21 0 \nL 10.6875 0 \nz\n\" id=\"DejaVuSans-46\"/>\n        <path d=\"M 31.78125 66.40625 \nQ 24.171875 66.40625 20.328125 58.90625 \nQ 16.5 51.421875 16.5 36.375 \nQ 16.5 21.390625 20.328125 13.890625 \nQ 24.171875 6.390625 31.78125 6.390625 \nQ 39.453125 6.390625 43.28125 13.890625 \nQ 47.125 21.390625 47.125 36.375 \nQ 47.125 51.421875 43.28125 58.90625 \nQ 39.453125 66.40625 31.78125 66.40625 \nz\nM 31.78125 74.21875 \nQ 44.046875 74.21875 50.515625 64.515625 \nQ 56.984375 54.828125 56.984375 36.375 \nQ 56.984375 17.96875 50.515625 8.265625 \nQ 44.046875 -1.421875 31.78125 -1.421875 \nQ 19.53125 -1.421875 13.0625 8.265625 \nQ 6.59375 17.96875 6.59375 36.375 \nQ 6.59375 54.828125 13.0625 64.515625 \nQ 19.53125 74.21875 31.78125 74.21875 \nz\n\" id=\"DejaVuSans-48\"/>\n       </defs>\n       <use xlink:href=\"#DejaVuSans-49\"/>\n       <use x=\"63.623047\" xlink:href=\"#DejaVuSans-46\"/>\n       <use x=\"95.410156\" xlink:href=\"#DejaVuSans-48\"/>\n       <use x=\"159.033203\" xlink:href=\"#DejaVuSans-48\"/>\n      </g>\n     </g>\n    </g>\n    <g id=\"ytick_2\">\n     <g id=\"line2d_8\">\n      <g>\n       <use style=\"stroke:#000000;stroke-width:0.8;\" x=\"36.465625\" xlink:href=\"#m2a199098ee\" y=\"235.832253\"/>\n      </g>\n     </g>\n     <g id=\"text_9\">\n      <!-- 1.05 -->\n      <g transform=\"translate(7.2 239.631471)scale(0.1 -0.1)\">\n       <use xlink:href=\"#DejaVuSans-49\"/>\n       <use x=\"63.623047\" xlink:href=\"#DejaVuSans-46\"/>\n       <use x=\"95.410156\" xlink:href=\"#DejaVuSans-48\"/>\n       <use x=\"159.033203\" xlink:href=\"#DejaVuSans-53\"/>\n      </g>\n     </g>\n    </g>\n    <g id=\"ytick_3\">\n     <g id=\"line2d_9\">\n      <g>\n       <use style=\"stroke:#000000;stroke-width:0.8;\" x=\"36.465625\" xlink:href=\"#m2a199098ee\" y=\"203.059198\"/>\n      </g>\n     </g>\n     <g id=\"text_10\">\n      <!-- 1.10 -->\n      <g transform=\"translate(7.2 206.858417)scale(0.1 -0.1)\">\n       <use xlink:href=\"#DejaVuSans-49\"/>\n       <use x=\"63.623047\" xlink:href=\"#DejaVuSans-46\"/>\n       <use x=\"95.410156\" xlink:href=\"#DejaVuSans-49\"/>\n       <use x=\"159.033203\" xlink:href=\"#DejaVuSans-48\"/>\n      </g>\n     </g>\n    </g>\n    <g id=\"ytick_4\">\n     <g id=\"line2d_10\">\n      <g>\n       <use style=\"stroke:#000000;stroke-width:0.8;\" x=\"36.465625\" xlink:href=\"#m2a199098ee\" y=\"170.286144\"/>\n      </g>\n     </g>\n     <g id=\"text_11\">\n      <!-- 1.15 -->\n      <g transform=\"translate(7.2 174.085362)scale(0.1 -0.1)\">\n       <use xlink:href=\"#DejaVuSans-49\"/>\n       <use x=\"63.623047\" xlink:href=\"#DejaVuSans-46\"/>\n       <use x=\"95.410156\" xlink:href=\"#DejaVuSans-49\"/>\n       <use x=\"159.033203\" xlink:href=\"#DejaVuSans-53\"/>\n      </g>\n     </g>\n    </g>\n    <g id=\"ytick_5\">\n     <g id=\"line2d_11\">\n      <g>\n       <use style=\"stroke:#000000;stroke-width:0.8;\" x=\"36.465625\" xlink:href=\"#m2a199098ee\" y=\"137.513089\"/>\n      </g>\n     </g>\n     <g id=\"text_12\">\n      <!-- 1.20 -->\n      <g transform=\"translate(7.2 141.312308)scale(0.1 -0.1)\">\n       <use xlink:href=\"#DejaVuSans-49\"/>\n       <use x=\"63.623047\" xlink:href=\"#DejaVuSans-46\"/>\n       <use x=\"95.410156\" xlink:href=\"#DejaVuSans-50\"/>\n       <use x=\"159.033203\" xlink:href=\"#DejaVuSans-48\"/>\n      </g>\n     </g>\n    </g>\n    <g id=\"ytick_6\">\n     <g id=\"line2d_12\">\n      <g>\n       <use style=\"stroke:#000000;stroke-width:0.8;\" x=\"36.465625\" xlink:href=\"#m2a199098ee\" y=\"104.740035\"/>\n      </g>\n     </g>\n     <g id=\"text_13\">\n      <!-- 1.25 -->\n      <g transform=\"translate(7.2 108.539254)scale(0.1 -0.1)\">\n       <use xlink:href=\"#DejaVuSans-49\"/>\n       <use x=\"63.623047\" xlink:href=\"#DejaVuSans-46\"/>\n       <use x=\"95.410156\" xlink:href=\"#DejaVuSans-50\"/>\n       <use x=\"159.033203\" xlink:href=\"#DejaVuSans-53\"/>\n      </g>\n     </g>\n    </g>\n    <g id=\"ytick_7\">\n     <g id=\"line2d_13\">\n      <g>\n       <use style=\"stroke:#000000;stroke-width:0.8;\" x=\"36.465625\" xlink:href=\"#m2a199098ee\" y=\"71.96698\"/>\n      </g>\n     </g>\n     <g id=\"text_14\">\n      <!-- 1.30 -->\n      <g transform=\"translate(7.2 75.766199)scale(0.1 -0.1)\">\n       <use xlink:href=\"#DejaVuSans-49\"/>\n       <use x=\"63.623047\" xlink:href=\"#DejaVuSans-46\"/>\n       <use x=\"95.410156\" xlink:href=\"#DejaVuSans-51\"/>\n       <use x=\"159.033203\" xlink:href=\"#DejaVuSans-48\"/>\n      </g>\n     </g>\n    </g>\n    <g id=\"ytick_8\">\n     <g id=\"line2d_14\">\n      <g>\n       <use style=\"stroke:#000000;stroke-width:0.8;\" x=\"36.465625\" xlink:href=\"#m2a199098ee\" y=\"39.193926\"/>\n      </g>\n     </g>\n     <g id=\"text_15\">\n      <!-- 1.35 -->\n      <g transform=\"translate(7.2 42.993145)scale(0.1 -0.1)\">\n       <use xlink:href=\"#DejaVuSans-49\"/>\n       <use x=\"63.623047\" xlink:href=\"#DejaVuSans-46\"/>\n       <use x=\"95.410156\" xlink:href=\"#DejaVuSans-51\"/>\n       <use x=\"159.033203\" xlink:href=\"#DejaVuSans-53\"/>\n      </g>\n     </g>\n    </g>\n   </g>\n   <g id=\"line2d_15\">\n    <defs>\n     <path d=\"M 0 3 \nC 0.795609 3 1.55874 2.683901 2.12132 2.12132 \nC 2.683901 1.55874 3 0.795609 3 0 \nC 3 -0.795609 2.683901 -1.55874 2.12132 -2.12132 \nC 1.55874 -2.683901 0.795609 -3 0 -3 \nC -0.795609 -3 -1.55874 -2.683901 -2.12132 -2.12132 \nC -2.683901 -1.55874 -3 -0.795609 -3 0 \nC -3 0.795609 -2.683901 1.55874 -2.12132 2.12132 \nC -1.55874 2.683901 -0.795609 3 0 3 \nz\n\" id=\"mcfeb01f215\" style=\"stroke:#1f77b4;\"/>\n    </defs>\n    <g clip-path=\"url(#p3d6740d8f7)\">\n     <use style=\"fill:#1f77b4;stroke:#1f77b4;\" x=\"232.830147\" xlink:href=\"#mcfeb01f215\" y=\"19.296\"/>\n     <use style=\"fill:#1f77b4;stroke:#1f77b4;\" x=\"74.662296\" xlink:href=\"#mcfeb01f215\" y=\"212.325389\"/>\n     <use style=\"fill:#1f77b4;stroke:#1f77b4;\" x=\"52.698352\" xlink:href=\"#mcfeb01f215\" y=\"216.51956\"/>\n     <use style=\"fill:#1f77b4;stroke:#1f77b4;\" x=\"377.352898\" xlink:href=\"#mcfeb01f215\" y=\"213.98355\"/>\n     <use style=\"fill:#1f77b4;stroke:#1f77b4;\" x=\"93.029644\" xlink:href=\"#mcfeb01f215\" y=\"176.286918\"/>\n     <use style=\"fill:#1f77b4;stroke:#1f77b4;\" x=\"92.683712\" xlink:href=\"#mcfeb01f215\" y=\"150.878413\"/>\n     <use style=\"fill:#1f77b4;stroke:#1f77b4;\" x=\"209.50993\" xlink:href=\"#mcfeb01f215\" y=\"136.375136\"/>\n     <use style=\"fill:#1f77b4;stroke:#1f77b4;\" x=\"91.634934\" xlink:href=\"#mcfeb01f215\" y=\"261.216\"/>\n     <use style=\"fill:#1f77b4;stroke:#1f77b4;\" x=\"124.229426\" xlink:href=\"#mcfeb01f215\" y=\"227.378885\"/>\n    </g>\n   </g>\n   <g id=\"patch_3\">\n    <path d=\"M 36.465625 273.312 \nL 36.465625 7.2 \n\" style=\"fill:none;stroke:#000000;stroke-linecap:square;stroke-linejoin:miter;stroke-width:0.8;\"/>\n   </g>\n   <g id=\"patch_4\">\n    <path d=\"M 393.585625 273.312 \nL 393.585625 7.2 \n\" style=\"fill:none;stroke:#000000;stroke-linecap:square;stroke-linejoin:miter;stroke-width:0.8;\"/>\n   </g>\n   <g id=\"patch_5\">\n    <path d=\"M 36.465625 273.312 \nL 393.585625 273.312 \n\" style=\"fill:none;stroke:#000000;stroke-linecap:square;stroke-linejoin:miter;stroke-width:0.8;\"/>\n   </g>\n   <g id=\"patch_6\">\n    <path d=\"M 36.465625 7.2 \nL 393.585625 7.2 \n\" style=\"fill:none;stroke:#000000;stroke-linecap:square;stroke-linejoin:miter;stroke-width:0.8;\"/>\n   </g>\n  </g>\n </g>\n <defs>\n  <clipPath id=\"p3d6740d8f7\">\n   <rect height=\"266.112\" width=\"357.12\" x=\"36.465625\" y=\"7.2\"/>\n  </clipPath>\n </defs>\n</svg>\n",
      "image/png": "[encoded data removed]"
     },
     "metadata": {}
    }
   ],
   "source": [
    "plt.plot(allTeamBidYear,allTeamWLRatio, 'o')#spending to win/ratio"
   ]
  },
  {
   "cell_type": "code",
   "execution_count": 144,
   "metadata": {},
   "outputs": [
    {
     "output_type": "execute_result",
     "data": {
      "text/plain": [
       "152856.53892335398"
      ]
     },
     "metadata": {},
     "execution_count": 144
    }
   ],
   "source": [
    "sum(val)/sum(val1)"
   ]
  },
  {
   "cell_type": "code",
   "execution_count": 149,
   "metadata": {},
   "outputs": [
    {
     "output_type": "execute_result",
     "data": {
      "text/plain": [
       "95899627.58085692"
      ]
     },
     "metadata": {},
     "execution_count": 149
    }
   ],
   "source": [
    "sum(val)/(1/sum(val1))"
   ]
  },
  {
   "cell_type": "code",
   "execution_count": 148,
   "metadata": {},
   "outputs": [
    {
     "output_type": "execute_result",
     "data": {
      "text/plain": [
       "[424285.71428571426,\n",
       " 180000.0,\n",
       " 875000.0,\n",
       " 1143333.3333333335,\n",
       " 6600000.0,\n",
       " 266142.8571428571,\n",
       " 1313921.0526315789,\n",
       " 81500.0,\n",
       " 159771.42857142858]"
      ]
     },
     "metadata": {},
     "execution_count": 148
    }
   ],
   "source": [
    "val2 = []\n",
    "for i in range(len(val)):\n",
    "    val2.append(val[i]/(1/val1[i]))\n",
    "val2"
   ]
  },
  {
   "cell_type": "code",
   "execution_count": 142,
   "metadata": {},
   "outputs": [
    {
     "output_type": "execute_result",
     "data": {
      "text/plain": [
       "[0.8571428571428571,\n",
       " 0.3,\n",
       " 1.1666666666666667,\n",
       " 1.6,\n",
       " 12.0,\n",
       " 0.8571428571428571,\n",
       " 5.5,\n",
       " 1.1666666666666667,\n",
       " 1.6]"
      ]
     },
     "metadata": {},
     "execution_count": 142
    }
   ],
   "source": [
    "val1"
   ]
  },
  {
   "cell_type": "code",
   "execution_count": 147,
   "metadata": {},
   "outputs": [
    {
     "output_type": "execute_result",
     "data": {
      "text/plain": [
       "[577500.0,\n",
       " 2000000.0,\n",
       " 642857.1428571428,\n",
       " 446614.5833333333,\n",
       " 45833.333333333336,\n",
       " 362250.0,\n",
       " 43435.40669856459,\n",
       " 59877.55102040816,\n",
       " 62410.71428571428]"
      ]
     },
     "metadata": {},
     "execution_count": 147
    }
   ],
   "source": [
    "val2"
   ]
  },
  {
   "cell_type": "code",
   "execution_count": 151,
   "metadata": {},
   "outputs": [
    {
     "output_type": "execute_result",
     "data": {
      "text/plain": [
       "[1711111.111111111,\n",
       " 350000.0,\n",
       " 66666.66666666667,\n",
       " 736590.9090909092,\n",
       " 293333.3333333334,\n",
       " 588800.0,\n",
       " 2761714.285714286,\n",
       " 41700.0,\n",
       " 71833.33333333333]"
      ]
     },
     "metadata": {},
     "execution_count": 151
    }
   ],
   "source": [
    "valA3"
   ]
  },
  {
   "cell_type": "code",
   "execution_count": 177,
   "metadata": {},
   "outputs": [],
   "source": [
    "a = matches[\"Team1\"].unique().tolist()\n",
    "b = theTable[\"Team\"].unique().tolist()"
   ]
  },
  {
   "cell_type": "code",
   "execution_count": 178,
   "metadata": {},
   "outputs": [
    {
     "output_type": "stream",
     "name": "stdout",
     "text": [
      "['Kolkata Knight Riders', 'Chennai Super Kings', 'Rajasthan Royals', 'Mumbai Indians', 'Deccan Chargers', 'Kings XI Punjab', 'Royal Challengers Bangalore', 'Delhi Daredevils', 'Kochi Tuskers Kerala', 'Pune Warriors', 'Sunrisers Hyderabad', 'Rising Pune Supergiants', 'Gujarat Lions']\n['Rajasthan Royals', 'Chennai Super Kings', 'Deccan Chargers', 'Kolkata Knight Riders', 'Kings XI Punjab', 'Royal Challengers Bangalore', 'Delhi Daredevils', 'Unsold', 'Mumbai Indians', 'Pune Warriors India', 'Kochi Tuskers Kerala', 'Sunrisers Hyderabad', 'Gujarat Lions', 'Gujarat Titans', 'Rising Pune Supergiant', 'Delhi Capitals', 'Lucknow Super Giants', 'Punjab Kings']\n"
     ]
    }
   ],
   "source": [
    "print(a)\n",
    "print(b)"
   ]
  },
  {
   "cell_type": "code",
   "execution_count": 179,
   "metadata": {},
   "outputs": [],
   "source": [
    "b.sort()"
   ]
  },
  {
   "cell_type": "code",
   "execution_count": 173,
   "metadata": {},
   "outputs": [
    {
     "output_type": "stream",
     "name": "stdout",
     "text": [
      "['Chennai Super Kings', 'Deccan Chargers', 'Delhi Daredevils', 'Gujarat Lions', 'Kings XI Punjab', 'Kochi Tuskers Kerala', 'Kolkata Knight Riders', 'Mumbai Indians', 'Pune Warriors', 'Rajasthan Royals', 'Rising Pune Supergiants', 'Royal Challengers Bangalore', 'Sunrisers Hyderabad']\n"
     ]
    }
   ],
   "source": [
    "print(a)"
   ]
  },
  {
   "cell_type": "code",
   "execution_count": 180,
   "metadata": {},
   "outputs": [
    {
     "output_type": "stream",
     "name": "stdout",
     "text": [
      "['Chennai Super Kings', 'Deccan Chargers', 'Delhi Capitals', 'Delhi Daredevils', 'Gujarat Lions', 'Gujarat Titans', 'Kings XI Punjab', 'Kochi Tuskers Kerala', 'Kolkata Knight Riders', 'Lucknow Super Giants', 'Mumbai Indians', 'Pune Warriors India', 'Punjab Kings', 'Rajasthan Royals', 'Rising Pune Supergiant', 'Royal Challengers Bangalore', 'Sunrisers Hyderabad', 'Unsold']\n"
     ]
    }
   ],
   "source": [
    "print(b)"
   ]
  },
  {
   "cell_type": "code",
   "execution_count": 231,
   "metadata": {},
   "outputs": [
    {
     "output_type": "stream",
     "name": "stdout",
     "text": [
      "18 13\n"
     ]
    }
   ],
   "source": [
    "print(len(b), len(a)"
   ]
  },
  {
   "cell_type": "code",
   "execution_count": 160,
   "metadata": {},
   "outputs": [
    {
     "output_type": "execute_result",
     "data": {
      "text/plain": [
       "{'Chennai Super Kings',\n",
       " 'Deccan Chargers',\n",
       " 'Delhi Daredevils',\n",
       " 'Gujarat Lions',\n",
       " 'Kings XI Punjab',\n",
       " 'Kochi Tuskers Kerala',\n",
       " 'Kolkata Knight Riders',\n",
       " 'Mumbai Indians',\n",
       " 'Pune Warriors',\n",
       " 'Rajasthan Royals',\n",
       " 'Rising Pune Supergiants',\n",
       " 'Royal Challengers Bangalore',\n",
       " 'Sunrisers Hyderabad'}"
      ]
     },
     "metadata": {},
     "execution_count": 160
    }
   ],
   "source": [
    "set(matches[\"Team1\"].unique().tolist() + matches[\"Team2\"].unique().tolist())"
   ]
  },
  {
   "cell_type": "code",
   "execution_count": null,
   "metadata": {},
   "outputs": [],
   "source": [
    "autionInYr = \n",
    "winInYear = \n",
    "lossInYear = \n",
    "#Table 1\n",
    "#In year Y_i find team T \n",
    "#find total win/loss in Y_i -> get ratio R\n",
    "#find total amount spent in auction in Y_i -> A\n",
    "#put A R Y_i T in new table, rows for each Year Y_i\n"
   ]
  },
  {
   "cell_type": "code",
   "execution_count": null,
   "metadata": {},
   "outputs": [],
   "source": [
    "#Table 2\n",
    "#average each team T_i W/L ratio in Year Y_i and amount spent in auction in Y_i A_i\n",
    "#calculate a ratio of (W/L ratio) to A_i"
   ]
  },
  {
   "cell_type": "code",
   "execution_count": null,
   "metadata": {},
   "outputs": [],
   "source": [
    "#Table 3\n",
    "#Get player P from auctions and cost C\n",
    "#get P's team T in year Y_i\n",
    "#put P C T Y_i in new table"
   ]
  },
  {
   "cell_type": "code",
   "execution_count": null,
   "metadata": {},
   "outputs": [],
   "source": []
  }
 ]
}